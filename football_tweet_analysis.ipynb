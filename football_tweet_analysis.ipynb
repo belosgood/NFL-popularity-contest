{
 "cells": [
  {
   "cell_type": "markdown",
   "metadata": {},
   "source": [
    "[twitter api reference index](https://developer.twitter.com/en/docs/api-reference-index)\n",
    "\n",
    "\n",
    "# POST oauth2/token\n",
    "Allows a registered application to obtain an OAuth 2 Bearer Token, which can be used to make API requests on an application's own behalf, without a user context.\n",
    "https://developer.twitter.com/en/docs/basics/authentication/api-reference/token\n"
   ]
  },
  {
   "cell_type": "markdown",
   "metadata": {},
   "source": [
    "Once you have create app, click on app details and keys and token tab\n",
    "\n",
    "<font size=\"6\" color='red'> write API key value for client_key and API secret key value for client_secret in the next cell</font>"
   ]
  },
  {
   "cell_type": "code",
   "execution_count": 98,
   "metadata": {},
   "outputs": [],
   "source": [
    "import requests\n",
    "import base64\n",
    "from copy import deepcopy\n",
    "import pandas as pd\n",
    "import numpy as np\n",
    "from nltk.stem import WordNetLemmatizer\n",
    "from nltk.corpus import stopwords\n",
    "from textblob import TextBlob\n",
    "from bs4 import BeautifulSoup as bsoup\n",
    "import matplotlib.pyplot as plt\n",
    "import pandas as pd\n",
    "import numpy as np\n",
    "import nltk\n",
    "import re\n",
    "import ast\n",
    "import emoji\n",
    "\n",
    "client_key = \"uDxiPfIPIcFjGD0fmxj7c2XAk\"\n",
    "client_secret = \"Bcr55JD2dNhGFftvtWwn19x78pRPLNP5rCBmGw0yVeW5Uy3hpc\" "
   ]
  },
  {
   "cell_type": "code",
   "execution_count": 12,
   "metadata": {},
   "outputs": [],
   "source": [
    "key_secret = '{}:{}'.format(client_key, client_secret).encode('ascii')\n",
    "b64_encoded_key = base64.b64encode(key_secret)\n",
    "b64_encoded_key = b64_encoded_key.decode('ascii')"
   ]
  },
  {
   "cell_type": "code",
   "execution_count": 13,
   "metadata": {},
   "outputs": [],
   "source": [
    "base_url = 'https://api.twitter.com/'\n",
    "auth_endpoint = base_url+'oauth2/token'\n",
    "\n",
    "auth_headers = { 'Authorization': 'Basic {}'.format(b64_encoded_key),\n",
    "                'Content-Type': 'application/x-www-form-urlencoded;charset=UTF-8'}\n",
    "\n",
    "auth_data = { 'grant_type': 'client_credentials'}\n",
    "\n"
   ]
  },
  {
   "cell_type": "markdown",
   "metadata": {},
   "source": [
    "Let's post to authentication endpoint and get the token to be used in subsequent REST API call"
   ]
  },
  {
   "cell_type": "code",
   "execution_count": 14,
   "metadata": {},
   "outputs": [
    {
     "output_type": "execute_result",
     "data": {
      "text/plain": [
       "200"
      ]
     },
     "metadata": {},
     "execution_count": 14
    }
   ],
   "source": [
    "response = requests.post(auth_endpoint, headers=auth_headers, data=auth_data)\n",
    "response.status_code"
   ]
  },
  {
   "cell_type": "code",
   "execution_count": 15,
   "metadata": {},
   "outputs": [
    {
     "output_type": "execute_result",
     "data": {
      "text/plain": [
       "{'token_type': 'bearer',\n",
       " 'access_token': 'AAAAAAAAAAAAAAAAAAAAAEskIQEAAAAAqkugIbkkPuB3XUUBhHAYkbYX4ik%3DjxVjLVRb5O9OUZ95hy8Z3cDHaTkA4j7VJM0Shx3GNLq2W8SdOA'}"
      ]
     },
     "metadata": {},
     "execution_count": 15
    }
   ],
   "source": [
    "json_data =  response.json()\n",
    "json_data"
   ]
  },
  {
   "cell_type": "code",
   "execution_count": 16,
   "metadata": {},
   "outputs": [],
   "source": [
    "access_token = json_data['access_token']"
   ]
  },
  {
   "cell_type": "markdown",
   "metadata": {},
   "source": [
    "# Let's do some search on climate change\n",
    "This is how we got search endpoint\n",
    "\n",
    "https://developer.twitter.com/en/docs/tweets/search/api-reference/get-search-tweets"
   ]
  },
  {
   "cell_type": "code",
   "execution_count": 17,
   "metadata": {},
   "outputs": [],
   "source": [
    "max_tweets=1000\n",
    "tw_limit=100# we can get only 100 tweet per call with standard search api\n",
    "tweets = []"
   ]
  },
  {
   "cell_type": "code",
   "execution_count": 18,
   "metadata": {
    "tags": []
   },
   "outputs": [
    {
     "output_type": "stream",
     "name": "stdout",
     "text": [
      "searching tweets with id  < 1326754119294611456\n",
      "0 100\n",
      "searching tweets with id  < 1326744311950696453\n",
      "1 100\n",
      "searching tweets with id  < 1326738960668823552\n",
      "2 100\n",
      "searching tweets with id  < 1326733895413403648\n",
      "3 100\n",
      "searching tweets with id  < 1326729113693024256\n",
      "4 100\n",
      "searching tweets with id  < 1326724205019344897\n",
      "5 100\n",
      "searching tweets with id  < 1326720600124043264\n",
      "6 100\n",
      "searching tweets with id  < 1326718311363735552\n",
      "7 100\n",
      "searching tweets with id  < 1326712999231578118\n",
      "8 100\n",
      "searching tweets with id  < 1326762526609186816\n",
      "0 100\n",
      "searching tweets with id  < 1326760244870000649\n",
      "1 100\n",
      "searching tweets with id  < 1326757359495024640\n",
      "2 100\n",
      "searching tweets with id  < 1326755439657308160\n",
      "3 100\n",
      "searching tweets with id  < 1326753084899520512\n",
      "4 100\n",
      "searching tweets with id  < 1326751406871760896\n",
      "5 100\n",
      "searching tweets with id  < 1326749270871928833\n",
      "6 100\n",
      "searching tweets with id  < 1326747445112557568\n",
      "7 100\n",
      "searching tweets with id  < 1326745379442995200\n",
      "8 91\n",
      "searching tweets with id  < 1326759940338409473\n",
      "0 100\n",
      "searching tweets with id  < 1326755994974760960\n",
      "1 100\n",
      "searching tweets with id  < 1326751822195912706\n",
      "2 100\n",
      "searching tweets with id  < 1326748071649189889\n",
      "3 100\n",
      "searching tweets with id  < 1326744268757749760\n",
      "4 100\n",
      "searching tweets with id  < 1326741555739127808\n",
      "5 100\n",
      "searching tweets with id  < 1326738487668690945\n",
      "6 100\n",
      "searching tweets with id  < 1326735886323736577\n",
      "7 100\n",
      "searching tweets with id  < 1326733705398931456\n",
      "8 100\n",
      "searching tweets with id  < 1326758731623829506\n",
      "0 100\n",
      "searching tweets with id  < 1326752971753918464\n",
      "1 100\n",
      "searching tweets with id  < 1326747691536289792\n",
      "2 100\n",
      "searching tweets with id  < 1326741973772984321\n",
      "3 100\n",
      "searching tweets with id  < 1326738385411710976\n",
      "4 100\n",
      "searching tweets with id  < 1326734877149040641\n",
      "5 100\n",
      "searching tweets with id  < 1326731158801928192\n",
      "6 100\n",
      "searching tweets with id  < 1326728167889965056\n",
      "7 100\n",
      "searching tweets with id  < 1326724308060794880\n",
      "8 100\n",
      "searching tweets with id  < 1326760532741926912\n",
      "0 100\n",
      "searching tweets with id  < 1326754269664436231\n",
      "1 100\n",
      "searching tweets with id  < 1326748293980811265\n",
      "2 100\n",
      "searching tweets with id  < 1326743579016921088\n",
      "3 100\n",
      "searching tweets with id  < 1326738710121963524\n",
      "4 100\n",
      "searching tweets with id  < 1326734412948627457\n",
      "5 100\n",
      "searching tweets with id  < 1326730228312514561\n",
      "6 100\n",
      "searching tweets with id  < 1326727628510916608\n",
      "7 100\n",
      "searching tweets with id  < 1326724220949311488\n",
      "8 100\n",
      "searching tweets with id  < 1326702411642236931\n",
      "0 100\n",
      "searching tweets with id  < 1326658092625514497\n",
      "1 100\n",
      "searching tweets with id  < 1326625918438305794\n",
      "2 100\n",
      "searching tweets with id  < 1326597925909262340\n",
      "3 100\n",
      "searching tweets with id  < 1326575790046113793\n",
      "4 100\n",
      "searching tweets with id  < 1326552596908142593\n",
      "5 100\n",
      "searching tweets with id  < 1326513754771771392\n",
      "6 100\n",
      "searching tweets with id  < 1326414205495496707\n",
      "7 100\n",
      "searching tweets with id  < 1326354116306628608\n",
      "8 100\n"
     ]
    }
   ],
   "source": [
    "search_headers = {'Authorization': 'Bearer {}'.format(access_token)    \n",
    "}\n",
    "\n",
    "keywords = [\"Packers\",\"Bears\",\"Eagles\", \"Cowboys\",\"Raiders\", \"ChiefsKingdom\"]\n",
    "\n",
    "for keyword in keywords:\n",
    "\n",
    "    parameters = { 'q': keyword,\n",
    "                        'result_type': 'recent',\n",
    "                    'count': tw_limit }\n",
    "\n",
    "    search_url = base_url+'1.1/search/tweets.json'\n",
    "\n",
    "    response = requests.get(search_url, headers=search_headers, params=parameters)\n",
    "    football_tweets = response.json()\n",
    "\n",
    "    for status in football_tweets['statuses']:\n",
    "        status[\"team\"] = keyword\n",
    "    tweets += football_tweets['statuses']\n",
    "    ids = [tw['id'] for tw in football_tweets['statuses']]\n",
    "    min_id = min(ids)\n",
    "    tw_ids = []\n",
    "    tw_ids+=ids\n",
    "\n",
    "    for  i in range(max_tweets//tw_limit -1):\n",
    "        parameters = { 'q': keyword,\n",
    "                        'result_type': 'recent',\n",
    "                    'count': tw_limit,\n",
    "                    'max_id': min(tw_ids)-1\n",
    "                     }\n",
    "        print(\"searching tweets with id  < {}\".format(min_id))\n",
    "        search_url = base_url+'1.1/search/tweets.json'\n",
    "        response = requests.get(search_url, headers=search_headers, params=parameters)\n",
    "        football_tweets = response.json()\n",
    "        ids = [tw['id'] for tw in football_tweets['statuses']]\n",
    "        tw_ids+=ids\n",
    "        print(i, len(football_tweets['statuses']))\n",
    "        min_id = min(ids)\n",
    "        for status in football_tweets['statuses']:\n",
    "            status[\"team\"] = keyword\n",
    "        tweets += football_tweets['statuses']    "
   ]
  },
  {
   "cell_type": "markdown",
   "metadata": {},
   "source": [
    "As per twitter api documentation we can use\n",
    "\n",
    "max_id:Returns results with an ID less than (that is, older than) or equal to the specified ID.\n",
    "\n",
    "to get older tweets"
   ]
  },
  {
   "cell_type": "markdown",
   "metadata": {},
   "source": [
    "# Q1 (.5 points) Modify only *parameters* dictionary in the following code so that subsequent call to climate change search returns older tweets with id less than minimum of previous tweets ids."
   ]
  },
  {
   "cell_type": "code",
   "execution_count": 27,
   "metadata": {
    "tags": []
   },
   "outputs": [
    {
     "output_type": "stream",
     "name": "stdout",
     "text": [
      "Total tweets retrieved= 5991\n"
     ]
    }
   ],
   "source": [
    "print('Total tweets retrieved= {}'.format(len(tweets)))"
   ]
  },
  {
   "cell_type": "markdown",
   "metadata": {},
   "source": [
    "# Let's print some tweets"
   ]
  },
  {
   "cell_type": "code",
   "execution_count": 28,
   "metadata": {},
   "outputs": [],
   "source": [
    "import pprint #pretty-print” arbitrary Python data structures. Tweets object has hierarchical struture\n",
    "max_tweet_to_print=4"
   ]
  },
  {
   "cell_type": "code",
   "execution_count": 29,
   "metadata": {
    "tags": [
     "outputPrepend"
    ]
   },
   "outputs": [
    {
     "output_type": "stream",
     "name": "stdout",
     "text": [
      "bg.png',\n                             'profile_background_tile': False,\n                             'profile_banner_url': 'https://pbs.twimg.com/profile_banners/256590867/1604871893',\n                             'profile_image_url': 'http://pbs.twimg.com/profile_images/1320365218757828610/LoHXR6fd_normal.jpg',\n                             'profile_image_url_https': 'https://pbs.twimg.com/profile_images/1320365218757828610/LoHXR6fd_normal.jpg',\n                             'profile_link_color': '981CEB',\n                             'profile_sidebar_border_color': '000000',\n                             'profile_sidebar_fill_color': '000000',\n                             'profile_text_color': '000000',\n                             'profile_use_background_image': False,\n                             'protected': False,\n                             'screen_name': 'OfficialShegs',\n                             'statuses_count': 163293,\n                             'time_zone': None,\n                             'translator_type': 'none',\n                             'url': None,\n                             'utc_offset': None,\n                             'verified': False}},\n  'quoted_status_id': 1320375296604909569,\n  'quoted_status_id_str': '1320375296604909569',\n  'retweet_count': 0,\n  'retweeted': False,\n  'source': '<a href=\"http://twitter.com/download/android\" '\n            'rel=\"nofollow\">Twitter for Android</a>',\n  'team': 'Packers',\n  'text': 'Greenbay Packers all day !!!! #GoPackGo https://t.co/h76pz60433',\n  'truncated': False,\n  'user': {'contributors_enabled': False,\n           'created_at': 'Sun Apr 05 00:03:05 +0000 2009',\n           'default_profile': False,\n           'default_profile_image': False,\n           'description': 'Insecurities will rent the space it occupies, but '\n                          'CONFIDENCE will own the building and any room it '\n                          'steps into. 💚💗',\n           'entities': {'description': {'urls': []}},\n           'favourites_count': 39587,\n           'follow_request_sent': None,\n           'followers_count': 1615,\n           'following': None,\n           'friends_count': 1103,\n           'geo_enabled': True,\n           'has_extended_profile': True,\n           'id': 28899488,\n           'id_str': '28899488',\n           'is_translation_enabled': False,\n           'is_translator': False,\n           'lang': None,\n           'listed_count': 5,\n           'location': '',\n           'name': 'JMK',\n           'notifications': None,\n           'profile_background_color': 'BF0B38',\n           'profile_background_image_url': 'http://abs.twimg.com/images/themes/theme3/bg.gif',\n           'profile_background_image_url_https': 'https://abs.twimg.com/images/themes/theme3/bg.gif',\n           'profile_background_tile': True,\n           'profile_banner_url': 'https://pbs.twimg.com/profile_banners/28899488/1578329730',\n           'profile_image_url': 'http://pbs.twimg.com/profile_images/1233139762254557184/l-WlDmrN_normal.jpg',\n           'profile_image_url_https': 'https://pbs.twimg.com/profile_images/1233139762254557184/l-WlDmrN_normal.jpg',\n           'profile_link_color': '176312',\n           'profile_sidebar_border_color': 'F0E7F0',\n           'profile_sidebar_fill_color': 'E3E2DE',\n           'profile_text_color': '8C2B2B',\n           'profile_use_background_image': True,\n           'protected': False,\n           'screen_name': 'Hawt_Tamalee',\n           'statuses_count': 92234,\n           'time_zone': None,\n           'translator_type': 'none',\n           'url': None,\n           'utc_offset': None,\n           'verified': False}},\n {'contributors': None,\n  'coordinates': None,\n  'created_at': 'Thu Nov 12 05:53:33 +0000 2020',\n  'entities': {'hashtags': [{'indices': [37, 46], 'text': 'GoPackGo'}],\n               'media': [{'display_url': 'pic.twitter.com/mkkHsjvFgJ',\n                          'expanded_url': 'https://twitter.com/packers/status/1326736688954159106/photo/1',\n                          'id': 1326736684839546880,\n                          'id_str': '1326736684839546880',\n                          'indices': [47, 70],\n                          'media_url': 'http://pbs.twimg.com/media/EmmD_EpXMAAnd7w.jpg',\n                          'media_url_https': 'https://pbs.twimg.com/media/EmmD_EpXMAAnd7w.jpg',\n                          'sizes': {'large': {'h': 1080,\n                                              'resize': 'fit',\n                                              'w': 1080},\n                                    'medium': {'h': 1080,\n                                               'resize': 'fit',\n                                               'w': 1080},\n                                    'small': {'h': 680,\n                                              'resize': 'fit',\n                                              'w': 680},\n                                    'thumb': {'h': 150,\n                                              'resize': 'crop',\n                                              'w': 150}},\n                          'source_status_id': 1326736688954159106,\n                          'source_status_id_str': '1326736688954159106',\n                          'source_user_id': 35865630,\n                          'source_user_id_str': '35865630',\n                          'type': 'photo',\n                          'url': 'https://t.co/mkkHsjvFgJ'}],\n               'symbols': [],\n               'urls': [],\n               'user_mentions': [{'id': 35865630,\n                                  'id_str': '35865630',\n                                  'indices': [3, 11],\n                                  'name': 'Green Bay Packers',\n                                  'screen_name': 'packers'},\n                                 {'id': 412032884,\n                                  'id_str': '412032884',\n                                  'indices': [22, 34],\n                                  'name': 'Aaron Jones 3️⃣3️⃣',\n                                  'screen_name': 'Showtyme_33'}]},\n  'extended_entities': {'media': [{'display_url': 'pic.twitter.com/mkkHsjvFgJ',\n                                   'expanded_url': 'https://twitter.com/packers/status/1326736688954159106/photo/1',\n                                   'id': 1326736684839546880,\n                                   'id_str': '1326736684839546880',\n                                   'indices': [47, 70],\n                                   'media_url': 'http://pbs.twimg.com/media/EmmD_EpXMAAnd7w.jpg',\n                                   'media_url_https': 'https://pbs.twimg.com/media/EmmD_EpXMAAnd7w.jpg',\n                                   'sizes': {'large': {'h': 1080,\n                                                       'resize': 'fit',\n                                                       'w': 1080},\n                                             'medium': {'h': 1080,\n                                                        'resize': 'fit',\n                                                        'w': 1080},\n                                             'small': {'h': 680,\n                                                       'resize': 'fit',\n                                                       'w': 680},\n                                             'thumb': {'h': 150,\n                                                       'resize': 'crop',\n                                                       'w': 150}},\n                                   'source_status_id': 1326736688954159106,\n                                   'source_status_id_str': '1326736688954159106',\n                                   'source_user_id': 35865630,\n                                   'source_user_id_str': '35865630',\n                                   'type': 'photo',\n                                   'url': 'https://t.co/mkkHsjvFgJ'}]},\n  'favorite_count': 0,\n  'favorited': False,\n  'geo': None,\n  'id': 1326765052339384324,\n  'id_str': '1326765052339384324',\n  'in_reply_to_screen_name': None,\n  'in_reply_to_status_id': None,\n  'in_reply_to_status_id_str': None,\n  'in_reply_to_user_id': None,\n  'in_reply_to_user_id_str': None,\n  'is_quote_status': False,\n  'lang': 'und',\n  'metadata': {'iso_language_code': 'und', 'result_type': 'recent'},\n  'place': None,\n  'possibly_sensitive': False,\n  'retweet_count': 59,\n  'retweeted': False,\n  'retweeted_status': {'contributors': None,\n                       'coordinates': None,\n                       'created_at': 'Thu Nov 12 04:00:50 +0000 2020',\n                       'entities': {'hashtags': [{'indices': [24, 33],\n                                                  'text': 'GoPackGo'}],\n                                    'media': [{'display_url': 'pic.twitter.com/mkkHsjvFgJ',\n                                               'expanded_url': 'https://twitter.com/packers/status/1326736688954159106/photo/1',\n                                               'id': 1326736684839546880,\n                                               'id_str': '1326736684839546880',\n                                               'indices': [34, 57],\n                                               'media_url': 'http://pbs.twimg.com/media/EmmD_EpXMAAnd7w.jpg',\n                                               'media_url_https': 'https://pbs.twimg.com/media/EmmD_EpXMAAnd7w.jpg',\n                                               'sizes': {'large': {'h': 1080,\n                                                                   'resize': 'fit',\n                                                                   'w': 1080},\n                                                         'medium': {'h': 1080,\n                                                                    'resize': 'fit',\n                                                                    'w': 1080},\n                                                         'small': {'h': 680,\n                                                                   'resize': 'fit',\n                                                                   'w': 680},\n                                                         'thumb': {'h': 150,\n                                                                   'resize': 'crop',\n                                                                   'w': 150}},\n                                               'type': 'photo',\n                                               'url': 'https://t.co/mkkHsjvFgJ'}],\n                                    'symbols': [],\n                                    'urls': [],\n                                    'user_mentions': [{'id': 412032884,\n                                                       'id_str': '412032884',\n                                                       'indices': [9, 21],\n                                                       'name': 'Aaron Jones '\n                                                               '3️⃣3️⃣',\n                                                       'screen_name': 'Showtyme_33'}]},\n                       'extended_entities': {'media': [{'display_url': 'pic.twitter.com/mkkHsjvFgJ',\n                                                        'expanded_url': 'https://twitter.com/packers/status/1326736688954159106/photo/1',\n                                                        'id': 1326736684839546880,\n                                                        'id_str': '1326736684839546880',\n                                                        'indices': [34, 57],\n                                                        'media_url': 'http://pbs.twimg.com/media/EmmD_EpXMAAnd7w.jpg',\n                                                        'media_url_https': 'https://pbs.twimg.com/media/EmmD_EpXMAAnd7w.jpg',\n                                                        'sizes': {'large': {'h': 1080,\n                                                                            'resize': 'fit',\n                                                                            'w': 1080},\n                                                                  'medium': {'h': 1080,\n                                                                             'resize': 'fit',\n                                                                             'w': 1080},\n                                                                  'small': {'h': 680,\n                                                                            'resize': 'fit',\n                                                                            'w': 680},\n                                                                  'thumb': {'h': 150,\n                                                                            'resize': 'crop',\n                                                                            'w': 150}},\n                                                        'type': 'photo',\n                                                        'url': 'https://t.co/mkkHsjvFgJ'}]},\n                       'favorite_count': 955,\n                       'favorited': False,\n                       'geo': None,\n                       'id': 1326736688954159106,\n                       'id_str': '1326736688954159106',\n                       'in_reply_to_screen_name': None,\n                       'in_reply_to_status_id': None,\n                       'in_reply_to_status_id_str': None,\n                       'in_reply_to_user_id': None,\n                       'in_reply_to_user_id_str': None,\n                       'is_quote_status': False,\n                       'lang': 'und',\n                       'metadata': {'iso_language_code': 'und',\n                                    'result_type': 'recent'},\n                       'place': None,\n                       'possibly_sensitive': False,\n                       'retweet_count': 59,\n                       'retweeted': False,\n                       'source': '<a href=\"http://twitter.com/download/iphone\" '\n                                 'rel=\"nofollow\">Twitter for iPhone</a>',\n                       'text': '3️⃣3️⃣ \\n'\n                               '\\n'\n                               '@Showtyme_33 | #GoPackGo '\n                               'https://t.co/mkkHsjvFgJ',\n                       'truncated': False,\n                       'user': {'contributors_enabled': False,\n                                'created_at': 'Mon Apr 27 21:22:16 +0000 2009',\n                                'default_profile': False,\n                                'default_profile_image': False,\n                                'description': 'The official Twitter account '\n                                               'of the 13-time World Champion '\n                                               'Green Bay Packers. Super Bowl '\n                                               'Champions I, II, XXXI, XLV.',\n                                'entities': {'description': {'urls': []},\n                                             'url': {'urls': [{'display_url': 'packers.com',\n                                                               'expanded_url': 'http://www.packers.com',\n                                                               'indices': [0,\n                                                                           22],\n                                                               'url': 'http://t.co/SOkNpLbeMb'}]}},\n                                'favourites_count': 3152,\n                                'follow_request_sent': None,\n                                'followers_count': 2308620,\n                                'following': None,\n                                'friends_count': 142,\n                                'geo_enabled': True,\n                                'has_extended_profile': True,\n                                'id': 35865630,\n                                'id_str': '35865630',\n                                'is_translation_enabled': False,\n                                'is_translator': False,\n                                'lang': None,\n                                'listed_count': 10615,\n                                'location': 'Green Bay, WI',\n                                'name': 'Green Bay Packers',\n                                'notifications': None,\n                                'profile_background_color': '2A433A',\n                                'profile_background_image_url': 'http://abs.twimg.com/images/themes/theme1/bg.png',\n                                'profile_background_image_url_https': 'https://abs.twimg.com/images/themes/theme1/bg.png',\n                                'profile_background_tile': False,\n                                'profile_banner_url': 'https://pbs.twimg.com/profile_banners/35865630/1595428222',\n                                'profile_image_url': 'http://pbs.twimg.com/profile_images/1222211597722177536/j0z0KQPt_normal.jpg',\n                                'profile_image_url_https': 'https://pbs.twimg.com/profile_images/1222211597722177536/j0z0KQPt_normal.jpg',\n                                'profile_link_color': '2A433A',\n                                'profile_sidebar_border_color': 'FFFFFF',\n                                'profile_sidebar_fill_color': 'DDFFCC',\n                                'profile_text_color': '333333',\n                                'profile_use_background_image': False,\n                                'protected': False,\n                                'screen_name': 'packers',\n                                'statuses_count': 66784,\n                                'time_zone': None,\n                                'translator_type': 'none',\n                                'url': 'http://t.co/SOkNpLbeMb',\n                                'utc_offset': None,\n                                'verified': True}},\n  'source': '<a href=\"http://twitter.com/download/iphone\" '\n            'rel=\"nofollow\">Twitter for iPhone</a>',\n  'team': 'Packers',\n  'text': 'RT @packers: 3️⃣3️⃣ \\n'\n          '\\n'\n          '@Showtyme_33 | #GoPackGo https://t.co/mkkHsjvFgJ',\n  'truncated': False,\n  'user': {'contributors_enabled': False,\n           'created_at': 'Mon Dec 03 15:28:50 +0000 2018',\n           'default_profile': True,\n           'default_profile_image': False,\n           'description': 'Packers fan!!!!',\n           'entities': {'description': {'urls': []}},\n           'favourites_count': 73711,\n           'follow_request_sent': None,\n           'followers_count': 3146,\n           'following': None,\n           'friends_count': 3717,\n           'geo_enabled': False,\n           'has_extended_profile': False,\n           'id': 1069614443875717120,\n           'id_str': '1069614443875717120',\n           'is_translation_enabled': False,\n           'is_translator': False,\n           'lang': None,\n           'listed_count': 10,\n           'location': '',\n           'name': 'Packersgurl(6-2)💛💚',\n           'notifications': None,\n           'profile_background_color': 'F5F8FA',\n           'profile_background_image_url': None,\n           'profile_background_image_url_https': None,\n           'profile_background_tile': False,\n           'profile_banner_url': 'https://pbs.twimg.com/profile_banners/1069614443875717120/1579410891',\n           'profile_image_url': 'http://pbs.twimg.com/profile_images/1326572682784206848/CZZ37KYs_normal.jpg',\n           'profile_image_url_https': 'https://pbs.twimg.com/profile_images/1326572682784206848/CZZ37KYs_normal.jpg',\n           'profile_link_color': '1DA1F2',\n           'profile_sidebar_border_color': 'C0DEED',\n           'profile_sidebar_fill_color': 'DDEEF6',\n           'profile_text_color': '333333',\n           'profile_use_background_image': True,\n           'protected': False,\n           'screen_name': '1Packersgurl',\n           'statuses_count': 31550,\n           'time_zone': None,\n           'translator_type': 'none',\n           'url': None,\n           'utc_offset': None,\n           'verified': False}}]\n"
     ]
    }
   ],
   "source": [
    "pprint.pprint(tweets[0:max_tweet_to_print])"
   ]
  },
  {
   "cell_type": "markdown",
   "metadata": {},
   "source": [
    "Link to understand [tweet-object](https://developer.twitter.com/en/docs/tweets/data-dictionary/overview/tweet-object)\n",
    "\n",
    "Let'see some tweets"
   ]
  },
  {
   "cell_type": "code",
   "execution_count": 30,
   "metadata": {
    "tags": []
   },
   "outputs": [
    {
     "output_type": "stream",
     "name": "stdout",
     "text": [
      "@pelicansfan13 @AdamSchefter Unlike packers and seahawks...we aint gotta worry bout yall old ass qb throwin deep. T… https://t.co/kxSJoI100t\n\nRT @sfl53: Week 2 game has both SFL Rams and SFL Packers searching for a defense.  The two teams battled to a 52-48 Packers win in Los Ange…\n\nGreenbay Packers all day !!!! #GoPackGo https://t.co/h76pz60433\n\nRT @packers: 3️⃣3️⃣ \n\n@Showtyme_33 | #GoPackGo https://t.co/mkkHsjvFgJ\n\n"
     ]
    }
   ],
   "source": [
    "for status in tweets[0:max_tweet_to_print]:\n",
    "    print(status['text'] + '\\n')"
   ]
  },
  {
   "cell_type": "markdown",
   "metadata": {},
   "source": [
    "# Pandas DataFrame for storing tweet feed\n",
    "\n",
    "Create following date frame for storing tweets\n",
    "\n",
    "- **climate_feed_df** DataFrame for storing tweet\n",
    "- **user_df** DataFrame for storing user detail\n",
    "- **retweeted_status_df** for storing original tweet"
   ]
  },
  {
   "cell_type": "markdown",
   "metadata": {},
   "source": [
    "# Printing keys in tweets"
   ]
  },
  {
   "cell_type": "code",
   "execution_count": 31,
   "metadata": {
    "tags": []
   },
   "outputs": [
    {
     "output_type": "stream",
     "name": "stdout",
     "text": [
      "dict_keys(['created_at', 'id', 'id_str', 'text', 'truncated', 'entities', 'metadata', 'source', 'in_reply_to_status_id', 'in_reply_to_status_id_str', 'in_reply_to_user_id', 'in_reply_to_user_id_str', 'in_reply_to_screen_name', 'user', 'geo', 'coordinates', 'place', 'contributors', 'retweeted_status', 'is_quote_status', 'retweet_count', 'favorite_count', 'favorited', 'retweeted', 'lang', 'team'])\n26\n"
     ]
    }
   ],
   "source": [
    "print(tweets[1].keys())\n",
    "print(len(tweets[1].keys()))\n"
   ]
  },
  {
   "cell_type": "code",
   "execution_count": 32,
   "metadata": {},
   "outputs": [],
   "source": [
    "import pandas as pd"
   ]
  },
  {
   "cell_type": "markdown",
   "metadata": {},
   "source": [
    "# Generators for building DataFrames"
   ]
  },
  {
   "cell_type": "code",
   "execution_count": 33,
   "metadata": {},
   "outputs": [],
   "source": [
    "def tweet_generator(tweets):\n",
    "    for tweet in tweets:\n",
    "        modified_tweet= {}\n",
    "        \n",
    "        #Write your code here\n",
    "\n",
    "        modified_tweet = deepcopy(tweet)\n",
    "        try:\n",
    "            modified_tweet[\"user_id\"] = modified_tweet[\"user\"][\"id\"]\n",
    "            modified_tweet.pop(\"user\", None)\n",
    "        except KeyError:\n",
    "            pass\n",
    "        try:\n",
    "            modified_tweet[\"retweeted_status_id\"] = modified_tweet[\"retweeted_status\"][\"id\"] \n",
    "            modified_tweet.pop(\"retweeted_status\", None)\n",
    "        except KeyError:\n",
    "            pass\n",
    "        yield modified_tweet       \n",
    "            \n",
    "            "
   ]
  },
  {
   "cell_type": "code",
   "execution_count": 34,
   "metadata": {},
   "outputs": [
    {
     "output_type": "execute_result",
     "data": {
      "text/plain": [
       "[{'created_at': 'Thu Nov 12 05:54:09 +0000 2020',\n",
       "  'id': 1326765205024632835,\n",
       "  'id_str': '1326765205024632835',\n",
       "  'text': '@pelicansfan13 @AdamSchefter Unlike packers and seahawks...we aint gotta worry bout yall old ass qb throwin deep. T… https://t.co/kxSJoI100t',\n",
       "  'truncated': True,\n",
       "  'entities': {'hashtags': [],\n",
       "   'symbols': [],\n",
       "   'user_mentions': [{'screen_name': 'pelicansfan13',\n",
       "     'name': 'Nick Traylor',\n",
       "     'id': 1245850911857139712,\n",
       "     'id_str': '1245850911857139712',\n",
       "     'indices': [0, 14]},\n",
       "    {'screen_name': 'AdamSchefter',\n",
       "     'name': 'Adam Schefter',\n",
       "     'id': 51263592,\n",
       "     'id_str': '51263592',\n",
       "     'indices': [15, 28]}],\n",
       "   'urls': [{'url': 'https://t.co/kxSJoI100t',\n",
       "     'expanded_url': 'https://twitter.com/i/web/status/1326765205024632835',\n",
       "     'display_url': 'twitter.com/i/web/status/1…',\n",
       "     'indices': [117, 140]}]},\n",
       "  'metadata': {'iso_language_code': 'en', 'result_type': 'recent'},\n",
       "  'source': '<a href=\"http://twitter.com/download/android\" rel=\"nofollow\">Twitter for Android</a>',\n",
       "  'in_reply_to_status_id': 1326643202640801795,\n",
       "  'in_reply_to_status_id_str': '1326643202640801795',\n",
       "  'in_reply_to_user_id': 1245850911857139712,\n",
       "  'in_reply_to_user_id_str': '1245850911857139712',\n",
       "  'in_reply_to_screen_name': 'pelicansfan13',\n",
       "  'geo': None,\n",
       "  'coordinates': None,\n",
       "  'place': None,\n",
       "  'contributors': None,\n",
       "  'is_quote_status': False,\n",
       "  'retweet_count': 0,\n",
       "  'favorite_count': 0,\n",
       "  'favorited': False,\n",
       "  'retweeted': False,\n",
       "  'lang': 'en',\n",
       "  'team': 'Packers',\n",
       "  'user_id': 1018431728},\n",
       " {'created_at': 'Thu Nov 12 05:53:46 +0000 2020',\n",
       "  'id': 1326765109734203395,\n",
       "  'id_str': '1326765109734203395',\n",
       "  'text': 'RT @sfl53: Week 2 game has both SFL Rams and SFL Packers searching for a defense.  The two teams battled to a 52-48 Packers win in Los Ange…',\n",
       "  'truncated': False,\n",
       "  'entities': {'hashtags': [],\n",
       "   'symbols': [],\n",
       "   'user_mentions': [{'screen_name': 'sfl53',\n",
       "     'name': 'sfl53',\n",
       "     'id': 769004446999318528,\n",
       "     'id_str': '769004446999318528',\n",
       "     'indices': [3, 9]}],\n",
       "   'urls': []},\n",
       "  'metadata': {'iso_language_code': 'en', 'result_type': 'recent'},\n",
       "  'source': '<a href=\"https://mobile.twitter.com\" rel=\"nofollow\">Twitter Web App</a>',\n",
       "  'in_reply_to_status_id': None,\n",
       "  'in_reply_to_status_id_str': None,\n",
       "  'in_reply_to_user_id': None,\n",
       "  'in_reply_to_user_id_str': None,\n",
       "  'in_reply_to_screen_name': None,\n",
       "  'geo': None,\n",
       "  'coordinates': None,\n",
       "  'place': None,\n",
       "  'contributors': None,\n",
       "  'is_quote_status': False,\n",
       "  'retweet_count': 1,\n",
       "  'favorite_count': 0,\n",
       "  'favorited': False,\n",
       "  'retweeted': False,\n",
       "  'lang': 'en',\n",
       "  'team': 'Packers',\n",
       "  'user_id': 1157637917038264320,\n",
       "  'retweeted_status_id': 1326760766796652544}]"
      ]
     },
     "metadata": {},
     "execution_count": 34
    }
   ],
   "source": [
    "# Checking  generator output\n",
    "list(tweet_generator(tweets[0:2]))"
   ]
  },
  {
   "cell_type": "code",
   "execution_count": 35,
   "metadata": {},
   "outputs": [],
   "source": [
    "football_feed_df = pd.DataFrame(tweet_generator(tweets))"
   ]
  },
  {
   "source": [
    "# Text Cleanup\n",
    "\n",
    "Here, we're going to take to start cleaning the text in the tweets."
   ],
   "cell_type": "markdown",
   "metadata": {}
  },
  {
   "cell_type": "code",
   "execution_count": null,
   "metadata": {},
   "outputs": [],
   "source": []
  },
  {
   "cell_type": "code",
   "execution_count": 51,
   "metadata": {},
   "outputs": [
    {
     "output_type": "stream",
     "name": "stdout",
     "text": [
      "Rows with either null text of teams: 0\n"
     ]
    }
   ],
   "source": [
    "print(\"Rows with either null text of teams: {}\".format(football_feed_df[[\"text\",\"team\"]].isnull().any(axis = 1).sum())) "
   ]
  },
  {
   "cell_type": "code",
   "execution_count": 49,
   "metadata": {},
   "outputs": [],
   "source": [
    "def NoneToNan(elem):\n",
    "    if elem == \"None\" or elem == None:\n",
    "        return np.nan\n",
    "    else:\n",
    "        return elem\n",
    "\n",
    "football_feed_df = football_feed_df.applymap(NoneToNan)"
   ]
  },
  {
   "cell_type": "code",
   "execution_count": 52,
   "metadata": {},
   "outputs": [
    {
     "output_type": "execute_result",
     "data": {
      "text/plain": [
       "                                                   text           team\n",
       "0     @pelicansfan13 @AdamSchefter Unlike packers an...        Packers\n",
       "1     RT @sfl53: Week 2 game has both SFL Rams and S...        Packers\n",
       "2     Greenbay Packers all day !!!! #GoPackGo https:...        Packers\n",
       "3     RT @packers: 3️⃣3️⃣ \\n\\n@Showtyme_33 | #GoPack...        Packers\n",
       "4     RT @fbgchase: Aaron Rodgers has started 182 ga...        Packers\n",
       "...                                                 ...            ...\n",
       "5986  Gonna be a fun one! #MVP #MahomesMadness #Chie...  ChiefsKingdom\n",
       "5987  RT @ArrowheadLive: Have you lost passion for f...  ChiefsKingdom\n",
       "5988  RT @PFF_Chiefs: #Chiefs TE Travis Kelce’s 2020...  ChiefsKingdom\n",
       "5989  RT @PFF_Chiefs: #Chiefs TE Travis Kelce’s 2020...  ChiefsKingdom\n",
       "5990  Big shoutout to the Kansas City Chiefs @Chiefs...  ChiefsKingdom\n",
       "\n",
       "[5991 rows x 2 columns]"
      ],
      "text/html": "<div>\n<style scoped>\n    .dataframe tbody tr th:only-of-type {\n        vertical-align: middle;\n    }\n\n    .dataframe tbody tr th {\n        vertical-align: top;\n    }\n\n    .dataframe thead th {\n        text-align: right;\n    }\n</style>\n<table border=\"1\" class=\"dataframe\">\n  <thead>\n    <tr style=\"text-align: right;\">\n      <th></th>\n      <th>text</th>\n      <th>team</th>\n    </tr>\n  </thead>\n  <tbody>\n    <tr>\n      <th>0</th>\n      <td>@pelicansfan13 @AdamSchefter Unlike packers an...</td>\n      <td>Packers</td>\n    </tr>\n    <tr>\n      <th>1</th>\n      <td>RT @sfl53: Week 2 game has both SFL Rams and S...</td>\n      <td>Packers</td>\n    </tr>\n    <tr>\n      <th>2</th>\n      <td>Greenbay Packers all day !!!! #GoPackGo https:...</td>\n      <td>Packers</td>\n    </tr>\n    <tr>\n      <th>3</th>\n      <td>RT @packers: 3️⃣3️⃣ \\n\\n@Showtyme_33 | #GoPack...</td>\n      <td>Packers</td>\n    </tr>\n    <tr>\n      <th>4</th>\n      <td>RT @fbgchase: Aaron Rodgers has started 182 ga...</td>\n      <td>Packers</td>\n    </tr>\n    <tr>\n      <th>...</th>\n      <td>...</td>\n      <td>...</td>\n    </tr>\n    <tr>\n      <th>5986</th>\n      <td>Gonna be a fun one! #MVP #MahomesMadness #Chie...</td>\n      <td>ChiefsKingdom</td>\n    </tr>\n    <tr>\n      <th>5987</th>\n      <td>RT @ArrowheadLive: Have you lost passion for f...</td>\n      <td>ChiefsKingdom</td>\n    </tr>\n    <tr>\n      <th>5988</th>\n      <td>RT @PFF_Chiefs: #Chiefs TE Travis Kelce’s 2020...</td>\n      <td>ChiefsKingdom</td>\n    </tr>\n    <tr>\n      <th>5989</th>\n      <td>RT @PFF_Chiefs: #Chiefs TE Travis Kelce’s 2020...</td>\n      <td>ChiefsKingdom</td>\n    </tr>\n    <tr>\n      <th>5990</th>\n      <td>Big shoutout to the Kansas City Chiefs @Chiefs...</td>\n      <td>ChiefsKingdom</td>\n    </tr>\n  </tbody>\n</table>\n<p>5991 rows × 2 columns</p>\n</div>"
     },
     "metadata": {},
     "execution_count": 52
    }
   ],
   "source": [
    "football_feed_df[[\"text\",\"team\"]]"
   ]
  },
  {
   "cell_type": "code",
   "execution_count": 58,
   "metadata": {},
   "outputs": [],
   "source": [
    "hashtags = []\n",
    "user_mentions = []\n",
    "\n",
    "for row in football_feed_df.itertuples():\n",
    "    row = row.entities\n",
    "    try:\n",
    "        hashtags_in_row = row[\"hashtags\"]\n",
    "        hashtags.append(hashtags_in_row)\n",
    "    except:\n",
    "        hashtags.append('')\n",
    "    try:\n",
    "        user_mentions_in_row = row[\"user_mentions\"][0][\"name\"]\n",
    "        user_mentions.append(user_mentions_in_row)\n",
    "    except:\n",
    "        user_mentions.append('')\n",
    "\n"
   ]
  },
  {
   "cell_type": "code",
   "execution_count": 59,
   "metadata": {},
   "outputs": [
    {
     "output_type": "execute_result",
     "data": {
      "text/plain": [
       "                       created_at                   id               id_str  \\\n",
       "0  Thu Nov 12 05:54:09 +0000 2020  1326765205024632835  1326765205024632835   \n",
       "1  Thu Nov 12 05:53:46 +0000 2020  1326765109734203395  1326765109734203395   \n",
       "2  Thu Nov 12 05:53:38 +0000 2020  1326765073302482945  1326765073302482945   \n",
       "3  Thu Nov 12 05:53:33 +0000 2020  1326765052339384324  1326765052339384324   \n",
       "4  Thu Nov 12 05:53:11 +0000 2020  1326764959771013120  1326764959771013120   \n",
       "\n",
       "                                                text  truncated  \\\n",
       "0  @pelicansfan13 @AdamSchefter Unlike packers an...       True   \n",
       "1  RT @sfl53: Week 2 game has both SFL Rams and S...      False   \n",
       "2  Greenbay Packers all day !!!! #GoPackGo https:...      False   \n",
       "3  RT @packers: 3️⃣3️⃣ \\n\\n@Showtyme_33 | #GoPack...      False   \n",
       "4  RT @fbgchase: Aaron Rodgers has started 182 ga...      False   \n",
       "\n",
       "                                            entities  \\\n",
       "0  {'hashtags': [], 'symbols': [], 'user_mentions...   \n",
       "1  {'hashtags': [], 'symbols': [], 'user_mentions...   \n",
       "2  {'hashtags': [{'text': 'GoPackGo', 'indices': ...   \n",
       "3  {'hashtags': [{'text': 'GoPackGo', 'indices': ...   \n",
       "4  {'hashtags': [], 'symbols': [], 'user_mentions...   \n",
       "\n",
       "                                            metadata  \\\n",
       "0  {'iso_language_code': 'en', 'result_type': 're...   \n",
       "1  {'iso_language_code': 'en', 'result_type': 're...   \n",
       "2  {'iso_language_code': 'en', 'result_type': 're...   \n",
       "3  {'iso_language_code': 'und', 'result_type': 'r...   \n",
       "4  {'iso_language_code': 'en', 'result_type': 're...   \n",
       "\n",
       "                                              source  in_reply_to_status_id  \\\n",
       "0  <a href=\"http://twitter.com/download/android\" ...           1.326643e+18   \n",
       "1  <a href=\"https://mobile.twitter.com\" rel=\"nofo...                    NaN   \n",
       "2  <a href=\"http://twitter.com/download/android\" ...                    NaN   \n",
       "3  <a href=\"http://twitter.com/download/iphone\" r...                    NaN   \n",
       "4  <a href=\"http://twitter.com/download/iphone\" r...                    NaN   \n",
       "\n",
       "  in_reply_to_status_id_str  ...     team              user_id  \\\n",
       "0       1326643202640801795  ...  Packers           1018431728   \n",
       "1                       NaN  ...  Packers  1157637917038264320   \n",
       "2                       NaN  ...  Packers             28899488   \n",
       "3                       NaN  ...  Packers  1069614443875717120   \n",
       "4                       NaN  ...  Packers   846892986021527552   \n",
       "\n",
       "  retweeted_status_id quoted_status_id quoted_status_id_str  \\\n",
       "0                 NaN              NaN                  NaN   \n",
       "1        1.326761e+18              NaN                  NaN   \n",
       "2                 NaN     1.320375e+18  1320375296604909569   \n",
       "3        1.326737e+18              NaN                  NaN   \n",
       "4        1.326523e+18              NaN                  NaN   \n",
       "\n",
       "                                       quoted_status  possibly_sensitive  \\\n",
       "0                                                NaN                 NaN   \n",
       "1                                                NaN                 NaN   \n",
       "2  {'created_at': 'Sun Oct 25 14:42:56 +0000 2020...               False   \n",
       "3                                                NaN               False   \n",
       "4                                                NaN                 NaN   \n",
       "\n",
       "                                   extended_entities  \\\n",
       "0                                                NaN   \n",
       "1                                                NaN   \n",
       "2                                                NaN   \n",
       "3  {'media': [{'id': 1326736684839546880, 'id_str...   \n",
       "4                                                NaN   \n",
       "\n",
       "                                      hashtags         user_mentions  \n",
       "0                                           []          Nick Traylor  \n",
       "1                                           []                 sfl53  \n",
       "2  [{'text': 'GoPackGo', 'indices': [30, 39]}]                        \n",
       "3  [{'text': 'GoPackGo', 'indices': [37, 46]}]     Green Bay Packers  \n",
       "4                                           []  Football Perspective  \n",
       "\n",
       "[5 rows x 33 columns]"
      ],
      "text/html": "<div>\n<style scoped>\n    .dataframe tbody tr th:only-of-type {\n        vertical-align: middle;\n    }\n\n    .dataframe tbody tr th {\n        vertical-align: top;\n    }\n\n    .dataframe thead th {\n        text-align: right;\n    }\n</style>\n<table border=\"1\" class=\"dataframe\">\n  <thead>\n    <tr style=\"text-align: right;\">\n      <th></th>\n      <th>created_at</th>\n      <th>id</th>\n      <th>id_str</th>\n      <th>text</th>\n      <th>truncated</th>\n      <th>entities</th>\n      <th>metadata</th>\n      <th>source</th>\n      <th>in_reply_to_status_id</th>\n      <th>in_reply_to_status_id_str</th>\n      <th>...</th>\n      <th>team</th>\n      <th>user_id</th>\n      <th>retweeted_status_id</th>\n      <th>quoted_status_id</th>\n      <th>quoted_status_id_str</th>\n      <th>quoted_status</th>\n      <th>possibly_sensitive</th>\n      <th>extended_entities</th>\n      <th>hashtags</th>\n      <th>user_mentions</th>\n    </tr>\n  </thead>\n  <tbody>\n    <tr>\n      <th>0</th>\n      <td>Thu Nov 12 05:54:09 +0000 2020</td>\n      <td>1326765205024632835</td>\n      <td>1326765205024632835</td>\n      <td>@pelicansfan13 @AdamSchefter Unlike packers an...</td>\n      <td>True</td>\n      <td>{'hashtags': [], 'symbols': [], 'user_mentions...</td>\n      <td>{'iso_language_code': 'en', 'result_type': 're...</td>\n      <td>&lt;a href=\"http://twitter.com/download/android\" ...</td>\n      <td>1.326643e+18</td>\n      <td>1326643202640801795</td>\n      <td>...</td>\n      <td>Packers</td>\n      <td>1018431728</td>\n      <td>NaN</td>\n      <td>NaN</td>\n      <td>NaN</td>\n      <td>NaN</td>\n      <td>NaN</td>\n      <td>NaN</td>\n      <td>[]</td>\n      <td>Nick Traylor</td>\n    </tr>\n    <tr>\n      <th>1</th>\n      <td>Thu Nov 12 05:53:46 +0000 2020</td>\n      <td>1326765109734203395</td>\n      <td>1326765109734203395</td>\n      <td>RT @sfl53: Week 2 game has both SFL Rams and S...</td>\n      <td>False</td>\n      <td>{'hashtags': [], 'symbols': [], 'user_mentions...</td>\n      <td>{'iso_language_code': 'en', 'result_type': 're...</td>\n      <td>&lt;a href=\"https://mobile.twitter.com\" rel=\"nofo...</td>\n      <td>NaN</td>\n      <td>NaN</td>\n      <td>...</td>\n      <td>Packers</td>\n      <td>1157637917038264320</td>\n      <td>1.326761e+18</td>\n      <td>NaN</td>\n      <td>NaN</td>\n      <td>NaN</td>\n      <td>NaN</td>\n      <td>NaN</td>\n      <td>[]</td>\n      <td>sfl53</td>\n    </tr>\n    <tr>\n      <th>2</th>\n      <td>Thu Nov 12 05:53:38 +0000 2020</td>\n      <td>1326765073302482945</td>\n      <td>1326765073302482945</td>\n      <td>Greenbay Packers all day !!!! #GoPackGo https:...</td>\n      <td>False</td>\n      <td>{'hashtags': [{'text': 'GoPackGo', 'indices': ...</td>\n      <td>{'iso_language_code': 'en', 'result_type': 're...</td>\n      <td>&lt;a href=\"http://twitter.com/download/android\" ...</td>\n      <td>NaN</td>\n      <td>NaN</td>\n      <td>...</td>\n      <td>Packers</td>\n      <td>28899488</td>\n      <td>NaN</td>\n      <td>1.320375e+18</td>\n      <td>1320375296604909569</td>\n      <td>{'created_at': 'Sun Oct 25 14:42:56 +0000 2020...</td>\n      <td>False</td>\n      <td>NaN</td>\n      <td>[{'text': 'GoPackGo', 'indices': [30, 39]}]</td>\n      <td></td>\n    </tr>\n    <tr>\n      <th>3</th>\n      <td>Thu Nov 12 05:53:33 +0000 2020</td>\n      <td>1326765052339384324</td>\n      <td>1326765052339384324</td>\n      <td>RT @packers: 3️⃣3️⃣ \\n\\n@Showtyme_33 | #GoPack...</td>\n      <td>False</td>\n      <td>{'hashtags': [{'text': 'GoPackGo', 'indices': ...</td>\n      <td>{'iso_language_code': 'und', 'result_type': 'r...</td>\n      <td>&lt;a href=\"http://twitter.com/download/iphone\" r...</td>\n      <td>NaN</td>\n      <td>NaN</td>\n      <td>...</td>\n      <td>Packers</td>\n      <td>1069614443875717120</td>\n      <td>1.326737e+18</td>\n      <td>NaN</td>\n      <td>NaN</td>\n      <td>NaN</td>\n      <td>False</td>\n      <td>{'media': [{'id': 1326736684839546880, 'id_str...</td>\n      <td>[{'text': 'GoPackGo', 'indices': [37, 46]}]</td>\n      <td>Green Bay Packers</td>\n    </tr>\n    <tr>\n      <th>4</th>\n      <td>Thu Nov 12 05:53:11 +0000 2020</td>\n      <td>1326764959771013120</td>\n      <td>1326764959771013120</td>\n      <td>RT @fbgchase: Aaron Rodgers has started 182 ga...</td>\n      <td>False</td>\n      <td>{'hashtags': [], 'symbols': [], 'user_mentions...</td>\n      <td>{'iso_language_code': 'en', 'result_type': 're...</td>\n      <td>&lt;a href=\"http://twitter.com/download/iphone\" r...</td>\n      <td>NaN</td>\n      <td>NaN</td>\n      <td>...</td>\n      <td>Packers</td>\n      <td>846892986021527552</td>\n      <td>1.326523e+18</td>\n      <td>NaN</td>\n      <td>NaN</td>\n      <td>NaN</td>\n      <td>NaN</td>\n      <td>NaN</td>\n      <td>[]</td>\n      <td>Football Perspective</td>\n    </tr>\n  </tbody>\n</table>\n<p>5 rows × 33 columns</p>\n</div>"
     },
     "metadata": {},
     "execution_count": 59
    }
   ],
   "source": [
    "football_feed_df[\"hashtags\"] = hashtags\n",
    "football_feed_df[\"user_mentions\"] = user_mentions\n",
    "football_feed_df.head()"
   ]
  },
  {
   "cell_type": "code",
   "execution_count": 60,
   "metadata": {},
   "outputs": [],
   "source": [
    "# write code here\n",
    "\n",
    "def clean_tweet(text):  \n",
    "\n",
    "    url = re.compile('https://.+')\n",
    "    rt = re.compile(\"RT\")\n",
    "    user = re.compile('@\\S+\\s')\n",
    " \n",
    "    #'(RT|@.*\\s|https://.+)'\n",
    "\n",
    "    text = url.sub(\"\", text)\n",
    "    text = rt.sub(\"\", text)\n",
    "    text = user.sub(\"\", text)\n",
    "\n",
    "    return text\n",
    "\n",
    "clean_tweet(\"RT .@SteveKingIA says he's unsure about the science of climate change. But you don’t need to be a scientist to take ac… https://t.co/J1CcrQZkB2\")\n",
    "\n",
    "football_feed_df[\"text\"] = football_feed_df[\"text\"].apply(clean_tweet)"
   ]
  },
  {
   "cell_type": "code",
   "execution_count": 67,
   "metadata": {},
   "outputs": [],
   "source": [
    "# write code here\n",
    "def emoji_retriever(text):\n",
    "      return [(char, emoji.demojize(char)) for char in text if char in emoji.UNICODE_EMOJI]\n",
    "\n",
    "football_feed_df[\"emoji\"] = football_feed_df[\"text\"].apply(emoji_retriever)"
   ]
  },
  {
   "cell_type": "code",
   "execution_count": 90,
   "metadata": {},
   "outputs": [],
   "source": [
    "contraction_patterns = [(r'won\\'t', 'will not'), (r'can\\'t', 'cannot'),\n",
    "(r'haven\\'t', 'have not'),\n",
    "(r'(\\w+)\\'ll', '\\g<1> will'),\n",
    "(r'(\\w+)\\'re', '\\g<1> are')]\n",
    "\n",
    "class contraction_replacer(object):\n",
    "    def __init__(self, contraction_patterns):\n",
    "        self._contraction_regexes = [(re.compile(p), replaced_text) for p, replaced_text in contraction_patterns]\n",
    "\n",
    "    def do_contraction_normalization(self, text):\n",
    "        for contraction_regex, replaced_text in self._contraction_regexes:\n",
    "            text = contraction_regex.sub(replaced_text, text)\n",
    "        return text\n",
    "\n",
    "def preprocess_text(text):\n",
    "    \n",
    "    contraction_patterns = [(r'won\\'t', 'will not'), (r'can\\'t', 'cannot'),\n",
    "    (r'haven\\'t', 'have not'),\n",
    "    (r'(\\w+)\\'ll', '\\g<1> will'),\n",
    "    (r'(\\w+)\\'re', '\\g<1> are')]\n",
    "\n",
    "    replacer = contraction_replacer(contraction_patterns)\n",
    "    text = replacer.do_contraction_normalization(text)\n",
    "    text = nltk.tokenize.word_tokenize(text)\n",
    "\n",
    "    stop_words = set(stopwords.words('english')) \n",
    "    \n",
    "    # lemmatization\n",
    "    wnlemma = WordNetLemmatizer()\n",
    "    lemma_text = []\n",
    "    for word in text:\n",
    "        if word in stop_words:\n",
    "            continue\n",
    "        lemma_text.append(wnlemma.lemmatize(word))\n",
    "    lemma_text = \" \".join(lemma_text)\n",
    "\n",
    "    return lemma_text\n",
    "\n",
    "football_feed_df[\"processed_text\"] = football_feed_df[\"text\"].apply(preprocess_text)"
   ]
  },
  {
   "cell_type": "code",
   "execution_count": 121,
   "metadata": {},
   "outputs": [],
   "source": [
    "def sentiment_analysis(text):\n",
    "    text = \" \".join(text[\"processed_text\"])\n",
    "    text = TextBlob(text)\n",
    "\n",
    "    return text.sentiment.polarity\n",
    "\n",
    "teams_df = football_feed_df[[\"processed_text\", \"team\"]].groupby(\"team\")\n",
    "sentiments = teams_df.apply(sentiment_analysis)"
   ]
  },
  {
   "source": [
    "# Sentiment Analysis\n",
    "\n",
    "Below represents the relative polarity of each team from each team on Twitter."
   ],
   "cell_type": "markdown",
   "metadata": {}
  },
  {
   "cell_type": "code",
   "execution_count": 122,
   "metadata": {},
   "outputs": [
    {
     "output_type": "execute_result",
     "data": {
      "text/plain": [
       "team\n",
       "Bears            0.094130\n",
       "ChiefsKingdom    0.072478\n",
       "Cowboys          0.228591\n",
       "Eagles           0.148519\n",
       "Packers          0.123480\n",
       "Raiders          0.224921\n",
       "dtype: float64"
      ]
     },
     "metadata": {},
     "execution_count": 122
    }
   ],
   "source": [
    "sentiments"
   ]
  },
  {
   "cell_type": "code",
   "execution_count": 43,
   "metadata": {},
   "outputs": [],
   "source": [
    "def tweet_user_generator(tweets):\n",
    "    for tweet in tweets:\n",
    "        yield tweet[\"user\"]\n",
    "                 "
   ]
  },
  {
   "cell_type": "code",
   "execution_count": 28,
   "metadata": {},
   "outputs": [],
   "source": [
    "user_df = pd.DataFrame(tweet_user_generator(tweets))"
   ]
  },
  {
   "cell_type": "code",
   "execution_count": 29,
   "metadata": {},
   "outputs": [
    {
     "output_type": "execute_result",
     "data": {
      "text/plain": [
       "                    id               id_str             name     screen_name  \\\n",
       "0  1310711812799766529  1310711812799766529   BringerofPeace      BringerofP   \n",
       "1            874131570            874131570  Bob Strulavitch  Bobstrulavitch   \n",
       "2            203445197            203445197           Nate L    houseofannie   \n",
       "3           1701716760           1701716760        Tom Achee        Tilsder_   \n",
       "4  1073024519114125312  1073024519114125312               🛋️         beej310   \n",
       "\n",
       "                  location                                        description  \\\n",
       "0                           Good vibez | other media 📷 Frankobangg | 👻 Fra...   \n",
       "1                                                                               \n",
       "2  ÜT: 37.2643,-121.971226  House of Annie is the food and travel blog of ...   \n",
       "3        Sandy Springs, GA  Recent graduate from Full Sail University who'...   \n",
       "4                                                     https://t.co/LoT4i0QjfM   \n",
       "\n",
       "                      url                                           entities  \\\n",
       "0                    None                      {'description': {'urls': []}}   \n",
       "1                    None                      {'description': {'urls': []}}   \n",
       "2  http://t.co/WdcBUY2zoQ  {'url': {'urls': [{'url': 'http://t.co/WdcBUY2...   \n",
       "3                    None                      {'description': {'urls': []}}   \n",
       "4                    None  {'description': {'urls': [{'url': 'https://t.c...   \n",
       "\n",
       "   protected  followers_count  ...  profile_sidebar_fill_color  \\\n",
       "0      False               12  ...                      DDEEF6   \n",
       "1      False              214  ...                      000000   \n",
       "2      False             2803  ...                      FFFFFF   \n",
       "3      False               59  ...                      000000   \n",
       "4      False               17  ...                      DDEEF6   \n",
       "\n",
       "   profile_text_color profile_use_background_image  has_extended_profile  \\\n",
       "0              333333                         True                  True   \n",
       "1              000000                        False                 False   \n",
       "2              333333                         True                 False   \n",
       "3              000000                        False                 False   \n",
       "4              333333                         True                 False   \n",
       "\n",
       "  default_profile default_profile_image  following  follow_request_sent  \\\n",
       "0            True                 False       None                 None   \n",
       "1           False                 False       None                 None   \n",
       "2           False                 False       None                 None   \n",
       "3           False                 False       None                 None   \n",
       "4            True                 False       None                 None   \n",
       "\n",
       "   notifications translator_type  \n",
       "0           None            none  \n",
       "1           None            none  \n",
       "2           None            none  \n",
       "3           None            none  \n",
       "4           None            none  \n",
       "\n",
       "[5 rows x 42 columns]"
      ],
      "text/html": "<div>\n<style scoped>\n    .dataframe tbody tr th:only-of-type {\n        vertical-align: middle;\n    }\n\n    .dataframe tbody tr th {\n        vertical-align: top;\n    }\n\n    .dataframe thead th {\n        text-align: right;\n    }\n</style>\n<table border=\"1\" class=\"dataframe\">\n  <thead>\n    <tr style=\"text-align: right;\">\n      <th></th>\n      <th>id</th>\n      <th>id_str</th>\n      <th>name</th>\n      <th>screen_name</th>\n      <th>location</th>\n      <th>description</th>\n      <th>url</th>\n      <th>entities</th>\n      <th>protected</th>\n      <th>followers_count</th>\n      <th>...</th>\n      <th>profile_sidebar_fill_color</th>\n      <th>profile_text_color</th>\n      <th>profile_use_background_image</th>\n      <th>has_extended_profile</th>\n      <th>default_profile</th>\n      <th>default_profile_image</th>\n      <th>following</th>\n      <th>follow_request_sent</th>\n      <th>notifications</th>\n      <th>translator_type</th>\n    </tr>\n  </thead>\n  <tbody>\n    <tr>\n      <th>0</th>\n      <td>1310711812799766529</td>\n      <td>1310711812799766529</td>\n      <td>BringerofPeace</td>\n      <td>BringerofP</td>\n      <td></td>\n      <td>Good vibez | other media 📷 Frankobangg | 👻 Fra...</td>\n      <td>None</td>\n      <td>{'description': {'urls': []}}</td>\n      <td>False</td>\n      <td>12</td>\n      <td>...</td>\n      <td>DDEEF6</td>\n      <td>333333</td>\n      <td>True</td>\n      <td>True</td>\n      <td>True</td>\n      <td>False</td>\n      <td>None</td>\n      <td>None</td>\n      <td>None</td>\n      <td>none</td>\n    </tr>\n    <tr>\n      <th>1</th>\n      <td>874131570</td>\n      <td>874131570</td>\n      <td>Bob Strulavitch</td>\n      <td>Bobstrulavitch</td>\n      <td></td>\n      <td></td>\n      <td>None</td>\n      <td>{'description': {'urls': []}}</td>\n      <td>False</td>\n      <td>214</td>\n      <td>...</td>\n      <td>000000</td>\n      <td>000000</td>\n      <td>False</td>\n      <td>False</td>\n      <td>False</td>\n      <td>False</td>\n      <td>None</td>\n      <td>None</td>\n      <td>None</td>\n      <td>none</td>\n    </tr>\n    <tr>\n      <th>2</th>\n      <td>203445197</td>\n      <td>203445197</td>\n      <td>Nate L</td>\n      <td>houseofannie</td>\n      <td>ÜT: 37.2643,-121.971226</td>\n      <td>House of Annie is the food and travel blog of ...</td>\n      <td>http://t.co/WdcBUY2zoQ</td>\n      <td>{'url': {'urls': [{'url': 'http://t.co/WdcBUY2...</td>\n      <td>False</td>\n      <td>2803</td>\n      <td>...</td>\n      <td>FFFFFF</td>\n      <td>333333</td>\n      <td>True</td>\n      <td>False</td>\n      <td>False</td>\n      <td>False</td>\n      <td>None</td>\n      <td>None</td>\n      <td>None</td>\n      <td>none</td>\n    </tr>\n    <tr>\n      <th>3</th>\n      <td>1701716760</td>\n      <td>1701716760</td>\n      <td>Tom Achee</td>\n      <td>Tilsder_</td>\n      <td>Sandy Springs, GA</td>\n      <td>Recent graduate from Full Sail University who'...</td>\n      <td>None</td>\n      <td>{'description': {'urls': []}}</td>\n      <td>False</td>\n      <td>59</td>\n      <td>...</td>\n      <td>000000</td>\n      <td>000000</td>\n      <td>False</td>\n      <td>False</td>\n      <td>False</td>\n      <td>False</td>\n      <td>None</td>\n      <td>None</td>\n      <td>None</td>\n      <td>none</td>\n    </tr>\n    <tr>\n      <th>4</th>\n      <td>1073024519114125312</td>\n      <td>1073024519114125312</td>\n      <td>🛋️</td>\n      <td>beej310</td>\n      <td></td>\n      <td>https://t.co/LoT4i0QjfM</td>\n      <td>None</td>\n      <td>{'description': {'urls': [{'url': 'https://t.c...</td>\n      <td>False</td>\n      <td>17</td>\n      <td>...</td>\n      <td>DDEEF6</td>\n      <td>333333</td>\n      <td>True</td>\n      <td>False</td>\n      <td>True</td>\n      <td>False</td>\n      <td>None</td>\n      <td>None</td>\n      <td>None</td>\n      <td>none</td>\n    </tr>\n  </tbody>\n</table>\n<p>5 rows × 42 columns</p>\n</div>"
     },
     "metadata": {},
     "execution_count": 29
    }
   ],
   "source": [
    "user_df.head()"
   ]
  }
 ],
 "metadata": {
  "kernelspec": {
   "display_name": "Python 3",
   "language": "python",
   "name": "python3"
  },
  "language_info": {
   "codemirror_mode": {
    "name": "ipython",
    "version": 3
   },
   "file_extension": ".py",
   "mimetype": "text/x-python",
   "name": "python",
   "nbconvert_exporter": "python",
   "pygments_lexer": "ipython3",
   "version": "3.7.6-final"
  },
  "toc": {
   "base_numbering": 1,
   "nav_menu": {},
   "number_sections": false,
   "sideBar": true,
   "skip_h1_title": false,
   "title_cell": "Table of Contents",
   "title_sidebar": "Contents",
   "toc_cell": false,
   "toc_position": {},
   "toc_section_display": true,
   "toc_window_display": false
  },
  "varInspector": {
   "cols": {
    "lenName": 16,
    "lenType": 16,
    "lenVar": 40
   },
   "kernels_config": {
    "python": {
     "delete_cmd_postfix": "",
     "delete_cmd_prefix": "del ",
     "library": "var_list.py",
     "varRefreshCmd": "print(var_dic_list())"
    },
    "r": {
     "delete_cmd_postfix": ") ",
     "delete_cmd_prefix": "rm(",
     "library": "var_list.r",
     "varRefreshCmd": "cat(var_dic_list()) "
    }
   },
   "types_to_exclude": [
    "module",
    "function",
    "builtin_function_or_method",
    "instance",
    "_Feature"
   ],
   "window_display": false
  }
 },
 "nbformat": 4,
 "nbformat_minor": 2
}