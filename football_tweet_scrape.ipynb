{
 "cells": [
  {
   "cell_type": "markdown",
   "metadata": {},
   "source": [
    "[twitter api reference index](https://developer.twitter.com/en/docs/api-reference-index)\n",
    "\n",
    "\n",
    "# POST oauth2/token\n",
    "Allows a registered application to obtain an OAuth 2 Bearer Token, which can be used to make API requests on an application's own behalf, without a user context.\n",
    "https://developer.twitter.com/en/docs/basics/authentication/api-reference/token\n"
   ]
  },
  {
   "cell_type": "markdown",
   "metadata": {},
   "source": []
  },
  {
   "cell_type": "code",
   "execution_count": 2,
   "metadata": {},
   "outputs": [],
   "source": [
    "import requests\n",
    "import base64\n",
    "from copy import deepcopy\n",
    "import pandas as pd\n",
    "import numpy as np\n",
    "from nltk.stem import WordNetLemmatizer\n",
    "from nltk.corpus import stopwords\n",
    "from textblob import TextBlob\n",
    "from bs4 import BeautifulSoup as bsoup\n",
    "import matplotlib.pyplot as plt\n",
    "import pandas as pd\n",
    "import numpy as np\n",
    "import nltk\n",
    "import re\n",
    "import ast\n",
    "import emoji"
   ]
  },
  {
   "cell_type": "code",
   "execution_count": 186,
   "metadata": {},
   "outputs": [],
   "source": [
    "client_key = \"fill in your key here\"\n",
    "client_secret = \"fill in your secret here\" "
   ]
  },
  {
   "cell_type": "code",
   "execution_count": 10,
   "metadata": {},
   "outputs": [],
   "source": [
    "key_secret = '{}:{}'.format(client_key, client_secret).encode('ascii')\n",
    "b64_encoded_key = base64.b64encode(key_secret)\n",
    "b64_encoded_key = b64_encoded_key.decode('ascii')"
   ]
  },
  {
   "cell_type": "code",
   "execution_count": 11,
   "metadata": {},
   "outputs": [],
   "source": [
    "base_url = 'https://api.twitter.com/'\n",
    "auth_endpoint = base_url+'oauth2/token'\n",
    "\n",
    "auth_headers = { 'Authorization': 'Basic {}'.format(b64_encoded_key),\n",
    "                'Content-Type': 'application/x-www-form-urlencoded;charset=UTF-8'}\n",
    "\n",
    "auth_data = { 'grant_type': 'client_credentials'}\n",
    "\n"
   ]
  },
  {
   "cell_type": "markdown",
   "metadata": {},
   "source": [
    "Let's post to authentication endpoint and get the token to be used in subsequent REST API call"
   ]
  },
  {
   "cell_type": "code",
   "execution_count": 12,
   "metadata": {},
   "outputs": [
    {
     "output_type": "execute_result",
     "data": {
      "text/plain": [
       "200"
      ]
     },
     "metadata": {},
     "execution_count": 12
    }
   ],
   "source": [
    "response = requests.post(auth_endpoint, headers=auth_headers, data=auth_data)\n",
    "response.status_code"
   ]
  },
  {
   "cell_type": "code",
   "execution_count": 13,
   "metadata": {},
   "outputs": [
    {
     "output_type": "execute_result",
     "data": {
      "text/plain": [
       "{'token_type': 'bearer',\n",
       " 'access_token': 'AAAAAAAAAAAAAAAAAAAAAEskIQEAAAAAqkugIbkkPuB3XUUBhHAYkbYX4ik%3DjxVjLVRb5O9OUZ95hy8Z3cDHaTkA4j7VJM0Shx3GNLq2W8SdOA'}"
      ]
     },
     "metadata": {},
     "execution_count": 13
    }
   ],
   "source": [
    "json_data =  response.json()\n",
    "json_data"
   ]
  },
  {
   "cell_type": "code",
   "execution_count": 14,
   "metadata": {},
   "outputs": [],
   "source": [
    "access_token = json_data['access_token']"
   ]
  },
  {
   "cell_type": "markdown",
   "metadata": {},
   "source": [
    "# Get Tweets\n",
    "This is how we got search endpoint\n",
    "\n",
    "https://developer.twitter.com/en/docs/tweets/search/api-reference/get-search-tweets"
   ]
  },
  {
   "cell_type": "code",
   "execution_count": 142,
   "metadata": {},
   "outputs": [],
   "source": [
    "max_tweets=1000 #CHANGED TO 200 FOR TESTING - MUST BE at least 1000 for analysis\n",
    "tw_limit=100# we can get only 100 tweet per call with standard search api\n",
    "tweets = []"
   ]
  },
  {
   "cell_type": "code",
   "execution_count": 143,
   "metadata": {
    "tags": []
   },
   "outputs": [
    {
     "output_type": "stream",
     "name": "stdout",
     "text": [
      "searching tweets with id  < 1329433901744451584\n",
      "0 100\n",
      "searching tweets with id  < 1329363684821372928\n",
      "1 100\n",
      "searching tweets with id  < 1329265253721526273\n",
      "2 100\n"
     ]
    }
   ],
   "source": [
    "search_headers = {'Authorization': 'Bearer {}'.format(access_token)    \n",
    "}\n",
    "\n",
    "keywords = [\"Packers\",\"DaBears\",\"Eagles\", \"Cowboys\",\"Raiders\", \"ChiefsKingdom\"]\n",
    "\n",
    "for keyword in keywords:\n",
    "    #parameters popular and extended tweet mode\n",
    "    parameters = { 'q': keyword,\n",
    "                        'result_type': 'mixed',\n",
    "                    'count': tw_limit, \n",
    "                     'tweet_mode': 'extended'}\n",
    "\n",
    "    search_url = base_url+'1.1/search/tweets.json'\n",
    "\n",
    "    response = requests.get(search_url, headers=search_headers, params=parameters)\n",
    "    football_tweets = response.json()\n",
    "\n",
    "    for status in football_tweets['statuses']:\n",
    "        status[\"team\"] = keyword\n",
    "    tweets += football_tweets['statuses']\n",
    "    ids = [tw['id'] for tw in football_tweets['statuses']]\n",
    "    min_id = min(ids)\n",
    "    tw_ids = []\n",
    "    tw_ids+=ids\n",
    "\n",
    "    for  i in range(max_tweets//tw_limit -1):\n",
    "        parameters = { 'q': keyword,\n",
    "                        'result_type': 'mixed',\n",
    "                    'count': tw_limit,\n",
    "                    'max_id': min(tw_ids)-1\n",
    "                     }\n",
    "        print(\"searching tweets with id  < {}\".format(min_id))\n",
    "        search_url = base_url+'1.1/search/tweets.json'\n",
    "        response = requests.get(search_url, headers=search_headers, params=parameters)\n",
    "        football_tweets = response.json()\n",
    "        ids = [tw['id'] for tw in football_tweets['statuses']]\n",
    "        tw_ids+=ids\n",
    "        print(i, len(football_tweets['statuses']))\n",
    "        min_id = min(ids)\n",
    "        for status in football_tweets['statuses']:\n",
    "            status[\"team\"] = keyword\n",
    "        tweets += football_tweets['statuses']    "
   ]
  },
  {
   "cell_type": "markdown",
   "metadata": {},
   "source": [
    "As per twitter api documentation we can use\n",
    "\n",
    "max_id:Returns results with an ID less than (that is, older than) or equal to the specified ID.\n",
    "\n",
    "to get older tweets"
   ]
  },
  {
   "cell_type": "code",
   "execution_count": 187,
   "metadata": {
    "tags": []
   },
   "outputs": [
    {
     "output_type": "stream",
     "name": "stdout",
     "text": [
      "Total tweets retrieved= 6000\n"
     ]
    }
   ],
   "source": [
    "print('Total tweets retrieved= {}'.format(len(tweets)))"
   ]
  },
  {
   "cell_type": "markdown",
   "metadata": {},
   "source": [
    "# Let's print some tweets"
   ]
  },
  {
   "cell_type": "code",
   "execution_count": 145,
   "metadata": {},
   "outputs": [],
   "source": [
    "import pprint #pretty-print” arbitrary Python data structures. Tweets object has hierarchical struture\n",
    "max_tweet_to_print=4"
   ]
  },
  {
   "cell_type": "code",
   "execution_count": 146,
   "metadata": {
    "tags": []
   },
   "outputs": [
    {
     "output_type": "stream",
     "name": "stdout",
     "text": [
      "[{'contributors': None,\n  'coordinates': None,\n  'created_at': 'Thu Nov 19 14:38:36 +0000 2020',\n  'display_text_range': [0, 165],\n  'entities': {'hashtags': [],\n               'media': [{'display_url': 'pic.twitter.com/RRmWQqNdBd',\n                          'expanded_url': 'https://twitter.com/RyanDeto/status/1329433901744451584/photo/1',\n                          'id': 1329433894324760577,\n                          'id_str': '1329433894324760577',\n                          'indices': [166, 189],\n                          'media_url': 'http://pbs.twimg.com/media/EnMZFU-XcAEXDTW.jpg',\n                          'media_url_https': 'https://pbs.twimg.com/media/EnMZFU-XcAEXDTW.jpg',\n                          'sizes': {'large': {'h': 801,\n                                              'resize': 'fit',\n                                              'w': 1242},\n                                    'medium': {'h': 774,\n                                               'resize': 'fit',\n                                               'w': 1200},\n                                    'small': {'h': 439,\n                                              'resize': 'fit',\n                                              'w': 680},\n                                    'thumb': {'h': 150,\n                                              'resize': 'crop',\n                                              'w': 150}},\n                          'type': 'photo',\n                          'url': 'https://t.co/RRmWQqNdBd'}],\n               'symbols': [],\n               'urls': [],\n               'user_mentions': []},\n  'extended_entities': {'media': [{'display_url': 'pic.twitter.com/RRmWQqNdBd',\n                                   'expanded_url': 'https://twitter.com/RyanDeto/status/1329433901744451584/photo/1',\n                                   'id': 1329433894324760577,\n                                   'id_str': '1329433894324760577',\n                                   'indices': [166, 189],\n                                   'media_url': 'http://pbs.twimg.com/media/EnMZFU-XcAEXDTW.jpg',\n                                   'media_url_https': 'https://pbs.twimg.com/media/EnMZFU-XcAEXDTW.jpg',\n                                   'sizes': {'large': {'h': 801,\n                                                       'resize': 'fit',\n                                                       'w': 1242},\n                                             'medium': {'h': 774,\n                                                        'resize': 'fit',\n                                                        'w': 1200},\n                                             'small': {'h': 439,\n                                                       'resize': 'fit',\n                                                       'w': 680},\n                                             'thumb': {'h': 150,\n                                                       'resize': 'crop',\n                                                       'w': 150}},\n                                   'type': 'photo',\n                                   'url': 'https://t.co/RRmWQqNdBd'}]},\n  'favorite_count': 1422,\n  'favorited': False,\n  'full_text': 'The British Financial Times not understanding exactly where '\n               'and what Sheetz is, only outdone by its meekness in describing '\n               'Pittburghers’ hatred of the Dallas Cowboys '\n               'https://t.co/RRmWQqNdBd',\n  'geo': None,\n  'id': 1329433901744451584,\n  'id_str': '1329433901744451584',\n  'in_reply_to_screen_name': None,\n  'in_reply_to_status_id': None,\n  'in_reply_to_status_id_str': None,\n  'in_reply_to_user_id': None,\n  'in_reply_to_user_id_str': None,\n  'is_quote_status': False,\n  'lang': 'en',\n  'metadata': {'iso_language_code': 'en', 'result_type': 'popular'},\n  'place': None,\n  'possibly_sensitive': False,\n  'retweet_count': 298,\n  'retweeted': False,\n  'source': '<a href=\"http://twitter.com/download/iphone\" '\n            'rel=\"nofollow\">Twitter for iPhone</a>',\n  'team': 'Dallas Cowboys',\n  'truncated': False,\n  'user': {'contributors_enabled': False,\n           'created_at': 'Mon Aug 15 23:15:00 +0000 2011',\n           'default_profile': False,\n           'default_profile_image': False,\n           'description': 'Bay Area native, proud PGH transplant. '\n                          '@PGHCityPaper News Editor: politics, transit, '\n                          'media, labor, fracking, all things alt. Tips: '\n                          'ryandeto@pghcitypaper.com',\n           'entities': {'description': {'urls': []},\n                        'url': {'urls': [{'display_url': 'pghcitypaper.com',\n                                          'expanded_url': 'https://www.pghcitypaper.com/',\n                                          'indices': [0, 23],\n                                          'url': 'https://t.co/srRrQCWeTi'}]}},\n           'favourites_count': 33522,\n           'follow_request_sent': None,\n           'followers_count': 8326,\n           'following': None,\n           'friends_count': 1501,\n           'geo_enabled': True,\n           'has_extended_profile': False,\n           'id': 355823359,\n           'id_str': '355823359',\n           'is_translation_enabled': False,\n           'is_translator': False,\n           'lang': None,\n           'listed_count': 158,\n           'location': 'Pittsburgh, PA',\n           'name': 'Ryan Deto',\n           'notifications': None,\n           'profile_background_color': '000000',\n           'profile_background_image_url': 'http://abs.twimg.com/images/themes/theme1/bg.png',\n           'profile_background_image_url_https': 'https://abs.twimg.com/images/themes/theme1/bg.png',\n           'profile_background_tile': False,\n           'profile_banner_url': 'https://pbs.twimg.com/profile_banners/355823359/1603484289',\n           'profile_image_url': 'http://pbs.twimg.com/profile_images/1259292358711091202/v-q_JoAu_normal.jpg',\n           'profile_image_url_https': 'https://pbs.twimg.com/profile_images/1259292358711091202/v-q_JoAu_normal.jpg',\n           'profile_link_color': 'FF691F',\n           'profile_sidebar_border_color': '000000',\n           'profile_sidebar_fill_color': '000000',\n           'profile_text_color': '000000',\n           'profile_use_background_image': False,\n           'protected': False,\n           'screen_name': 'RyanDeto',\n           'statuses_count': 25142,\n           'time_zone': None,\n           'translator_type': 'none',\n           'url': 'https://t.co/srRrQCWeTi',\n           'utc_offset': None,\n           'verified': True}},\n {'contributors': None,\n  'coordinates': None,\n  'created_at': 'Fri Nov 20 13:05:43 +0000 2020',\n  'display_text_range': [0, 122],\n  'entities': {'hashtags': [],\n               'symbols': [],\n               'urls': [{'display_url': 'espn.com/nfl/story/_/id…',\n                         'expanded_url': 'https://www.espn.com/nfl/story/_/id/30349898/dallas-cowboys-qb-andy-dalton-says-covid-19-hit-hard',\n                         'indices': [99, 122],\n                         'url': 'https://t.co/3ZgsJNxEbj'}],\n               'user_mentions': []},\n  'favorite_count': 9,\n  'favorited': False,\n  'full_text': 'Andy Dalton, who is now ready to start Sunday vs. the Vikings, '\n               'said the coronavirus hit him hard:\\n'\n               '\\n'\n               'https://t.co/3ZgsJNxEbj',\n  'geo': None,\n  'id': 1329772914091159557,\n  'id_str': '1329772914091159557',\n  'in_reply_to_screen_name': None,\n  'in_reply_to_status_id': None,\n  'in_reply_to_status_id_str': None,\n  'in_reply_to_user_id': None,\n  'in_reply_to_user_id_str': None,\n  'is_quote_status': False,\n  'lang': 'en',\n  'metadata': {'iso_language_code': 'en', 'result_type': 'popular'},\n  'place': None,\n  'possibly_sensitive': False,\n  'retweet_count': 139,\n  'retweeted': False,\n  'source': '<a href=\"http://twitter.com/download/iphone\" '\n            'rel=\"nofollow\">Twitter for iPhone</a>',\n  'team': 'Dallas Cowboys',\n  'truncated': False,\n  'user': {'contributors_enabled': False,\n           'created_at': 'Fri Jun 26 22:55:28 +0000 2009',\n           'default_profile': False,\n           'default_profile_image': False,\n           'description': 'ESPN Senior NFL Insider. \\n'\n                          'Interview & Podcast Requests: ESPNPR@espn.com\\n'\n                          'Host of the Adam Schefter Podcast\\n'\n                          'https://t.co/oz43ix5jZU',\n           'entities': {'description': {'urls': [{'display_url': 'Instagram.com/AdamSchefter',\n                                                  'expanded_url': 'http://Instagram.com/AdamSchefter',\n                                                  'indices': [106, 129],\n                                                  'url': 'https://t.co/oz43ix5jZU'}]},\n                        'url': {'urls': [{'display_url': 'open.spotify.com/show/42oVKqEPu…',\n                                          'expanded_url': 'https://open.spotify.com/show/42oVKqEPuf4kFZrXCO7Oh9?si=O1I6pHOYRh2FwJ1R0WbMSQ',\n                                          'indices': [0, 23],\n                                          'url': 'https://t.co/OUz4GsIjV2'}]}},\n           'favourites_count': 634,\n           'follow_request_sent': None,\n           'followers_count': 8030804,\n           'following': None,\n           'friends_count': 3289,\n           'geo_enabled': True,\n           'has_extended_profile': True,\n           'id': 51263592,\n           'id_str': '51263592',\n           'is_translation_enabled': True,\n           'is_translator': False,\n           'lang': None,\n           'listed_count': 49811,\n           'location': 'New York',\n           'name': 'Adam Schefter',\n           'notifications': None,\n           'profile_background_color': '2573B8',\n           'profile_background_image_url': 'http://abs.twimg.com/images/themes/theme4/bg.gif',\n           'profile_background_image_url_https': 'https://abs.twimg.com/images/themes/theme4/bg.gif',\n           'profile_background_tile': False,\n           'profile_banner_url': 'https://pbs.twimg.com/profile_banners/51263592/1466784770',\n           'profile_image_url': 'http://pbs.twimg.com/profile_images/793924061843914752/ycm8ibEE_normal.jpg',\n           'profile_image_url_https': 'https://pbs.twimg.com/profile_images/793924061843914752/ycm8ibEE_normal.jpg',\n           'profile_link_color': '3B94D9',\n           'profile_sidebar_border_color': 'FFFFFF',\n           'profile_sidebar_fill_color': '95E8EC',\n           'profile_text_color': '16101F',\n           'profile_use_background_image': True,\n           'protected': False,\n           'screen_name': 'AdamSchefter',\n           'statuses_count': 52439,\n           'time_zone': None,\n           'translator_type': 'none',\n           'url': 'https://t.co/OUz4GsIjV2',\n           'utc_offset': None,\n           'verified': True}},\n {'contributors': None,\n  'coordinates': None,\n  'created_at': 'Thu Nov 19 21:20:33 +0000 2020',\n  'display_text_range': [0, 99],\n  'entities': {'hashtags': [],\n               'symbols': [],\n               'urls': [{'display_url': 'dlvr.it/Rm2j88',\n                         'expanded_url': 'http://dlvr.it/Rm2j88',\n                         'indices': [76, 99],\n                         'url': 'https://t.co/BMfLO1H6MP'}],\n               'user_mentions': []},\n  'favorite_count': 93,\n  'favorited': False,\n  'full_text': \"Cowboys' Andy Dalton Says He Still Can't Taste, Smell After \"\n               'COVID Diagnosis https://t.co/BMfLO1H6MP',\n  'geo': None,\n  'id': 1329535054201044994,\n  'id_str': '1329535054201044994',\n  'in_reply_to_screen_name': None,\n  'in_reply_to_status_id': None,\n  'in_reply_to_status_id_str': None,\n  'in_reply_to_user_id': None,\n  'in_reply_to_user_id_str': None,\n  'is_quote_status': False,\n  'lang': 'en',\n  'metadata': {'iso_language_code': 'en', 'result_type': 'popular'},\n  'place': None,\n  'possibly_sensitive': False,\n  'retweet_count': 15,\n  'retweeted': False,\n  'source': '<a href=\"https://dlvrit.com/\" rel=\"nofollow\">dlvr.it</a>',\n  'team': 'Dallas Cowboys',\n  'truncated': False,\n  'user': {'contributors_enabled': False,\n           'created_at': 'Wed Sep 17 15:50:22 +0000 2008',\n           'default_profile': False,\n           'default_profile_image': False,\n           'description': 'TMZ has consistently been credited for breaking the '\n                          'biggest stories dominating the entertainment news '\n                          'landscape and changing the way the public gets '\n                          'their news.',\n           'entities': {'description': {'urls': []},\n                        'url': {'urls': [{'display_url': 'TMZ.com',\n                                          'expanded_url': 'http://www.TMZ.com',\n                                          'indices': [0, 23],\n                                          'url': 'https://t.co/WFmNNP7hvg'}]}},\n           'favourites_count': 1282,\n           'follow_request_sent': None,\n           'followers_count': 5572205,\n           'following': None,\n           'friends_count': 909,\n           'geo_enabled': False,\n           'has_extended_profile': False,\n           'id': 16331010,\n           'id_str': '16331010',\n           'is_translation_enabled': True,\n           'is_translator': False,\n           'lang': None,\n           'listed_count': 19974,\n           'location': 'Los Angeles, CA',\n           'name': 'TMZ',\n           'notifications': None,\n           'profile_background_color': '1A1B1F',\n           'profile_background_image_url': 'http://abs.twimg.com/images/themes/theme9/bg.gif',\n           'profile_background_image_url_https': 'https://abs.twimg.com/images/themes/theme9/bg.gif',\n           'profile_background_tile': False,\n           'profile_banner_url': 'https://pbs.twimg.com/profile_banners/16331010/1571072693',\n           'profile_image_url': 'http://pbs.twimg.com/profile_images/948698715220410368/EkNILtvi_normal.jpg',\n           'profile_image_url_https': 'https://pbs.twimg.com/profile_images/948698715220410368/EkNILtvi_normal.jpg',\n           'profile_link_color': 'FF1A1A',\n           'profile_sidebar_border_color': '000000',\n           'profile_sidebar_fill_color': '000000',\n           'profile_text_color': '000000',\n           'profile_use_background_image': True,\n           'protected': False,\n           'screen_name': 'TMZ',\n           'statuses_count': 320693,\n           'time_zone': None,\n           'translator_type': 'none',\n           'url': 'https://t.co/WFmNNP7hvg',\n           'utc_offset': None,\n           'verified': True}},\n {'contributors': None,\n  'coordinates': None,\n  'created_at': 'Sat Nov 21 02:40:58 +0000 2020',\n  'display_text_range': [0, 53],\n  'entities': {'hashtags': [],\n               'symbols': [],\n               'urls': [{'display_url': 'twitter.com/dallascowboys/…',\n                         'expanded_url': 'https://twitter.com/dallascowboys/status/1329969772944093185',\n                         'indices': [54, 77],\n                         'url': 'https://t.co/1lnuSE676e'}],\n               'user_mentions': []},\n  'favorite_count': 2,\n  'favorited': False,\n  'full_text': 'AS IF WE NEEDED THE COWBOYS TO BREAK OUR HEARTS AGAIN '\n               'https://t.co/1lnuSE676e',\n  'geo': None,\n  'id': 1329978079134052354,\n  'id_str': '1329978079134052354',\n  'in_reply_to_screen_name': None,\n  'in_reply_to_status_id': None,\n  'in_reply_to_status_id_str': None,\n  'in_reply_to_user_id': None,\n  'in_reply_to_user_id_str': None,\n  'is_quote_status': True,\n  'lang': 'en',\n  'metadata': {'iso_language_code': 'en', 'result_type': 'recent'},\n  'place': None,\n  'possibly_sensitive': False,\n  'quoted_status': {'contributors': None,\n                    'coordinates': None,\n                    'created_at': 'Sat Nov 21 02:07:58 +0000 2020',\n                    'display_text_range': [0, 72],\n                    'entities': {'hashtags': [{'indices': [37, 46],\n                                               'text': 'DALvsMIN'},\n                                              {'indices': [58, 72],\n                                               'text': 'DallasCowboys'}],\n                                 'media': [{'display_url': 'pic.twitter.com/CiGzWovtPd',\n                                            'expanded_url': 'https://twitter.com/dallascowboys/status/1329969772944093185/video/1',\n                                            'id': 1329965635993014273,\n                                            'id_str': '1329965635993014273',\n                                            'indices': [73, 96],\n                                            'media_url': 'http://pbs.twimg.com/media/EnT8-rRXMAEAAVx.jpg',\n                                            'media_url_https': 'https://pbs.twimg.com/media/EnT8-rRXMAEAAVx.jpg',\n                                            'sizes': {'large': {'h': 1143,\n                                                                'resize': 'fit',\n                                                                'w': 2048},\n                                                      'medium': {'h': 670,\n                                                                 'resize': 'fit',\n                                                                 'w': 1200},\n                                                      'small': {'h': 380,\n                                                                'resize': 'fit',\n                                                                'w': 680},\n                                                      'thumb': {'h': 150,\n                                                                'resize': 'crop',\n                                                                'w': 150}},\n                                            'type': 'photo',\n                                            'url': 'https://t.co/CiGzWovtPd'}],\n                                 'symbols': [],\n                                 'urls': [],\n                                 'user_mentions': [{'id': 18139619,\n                                                    'id_str': '18139619',\n                                                    'indices': [49, 55],\n                                                    'name': 'Pepsi',\n                                                    'screen_name': 'pepsi'}]},\n                    'extended_entities': {'media': [{'additional_media_info': {'description': '',\n                                                                               'embeddable': True,\n                                                                               'monetizable': True,\n                                                                               'title': ''},\n                                                     'display_url': 'pic.twitter.com/CiGzWovtPd',\n                                                     'expanded_url': 'https://twitter.com/dallascowboys/status/1329969772944093185/video/1',\n                                                     'id': 1329965635993014273,\n                                                     'id_str': '1329965635993014273',\n                                                     'indices': [73, 96],\n                                                     'media_url': 'http://pbs.twimg.com/media/EnT8-rRXMAEAAVx.jpg',\n                                                     'media_url_https': 'https://pbs.twimg.com/media/EnT8-rRXMAEAAVx.jpg',\n                                                     'sizes': {'large': {'h': 1143,\n                                                                         'resize': 'fit',\n                                                                         'w': 2048},\n                                                               'medium': {'h': 670,\n                                                                          'resize': 'fit',\n                                                                          'w': 1200},\n                                                               'small': {'h': 380,\n                                                                         'resize': 'fit',\n                                                                         'w': 680},\n                                                               'thumb': {'h': 150,\n                                                                         'resize': 'crop',\n                                                                         'w': 150}},\n                                                     'type': 'video',\n                                                     'url': 'https://t.co/CiGzWovtPd',\n                                                     'video_info': {'aspect_ratio': [16,\n                                                                                     9],\n                                                                    'duration_millis': 21121,\n                                                                    'variants': [{'bitrate': 2176000,\n                                                                                  'content_type': 'video/mp4',\n                                                                                  'url': 'https://video.twimg.com/amplify_video/1329965635993014273/vid/1280x720/abYrNRYdfkxl3wYo.mp4?tag=13'},\n                                                                                 {'bitrate': 288000,\n                                                                                  'content_type': 'video/mp4',\n                                                                                  'url': 'https://video.twimg.com/amplify_video/1329965635993014273/vid/480x270/lZQyxpK2jUnxsfVK.mp4?tag=13'},\n                                                                                 {'bitrate': 832000,\n                                                                                  'content_type': 'video/mp4',\n                                                                                  'url': 'https://video.twimg.com/amplify_video/1329965635993014273/vid/640x360/cr4LEtCH8x0XzfmD.mp4?tag=13'},\n                                                                                 {'content_type': 'application/x-mpegURL',\n                                                                                  'url': 'https://video.twimg.com/amplify_video/1329965635993014273/pl/FOiWgY6g78eKUZx-.m3u8?tag=13'}]}}]},\n                    'favorite_count': 295,\n                    'favorited': False,\n                    'full_text': 'Back on the road ⚔️ Ready to battle\\n'\n                                 '\\n'\n                                 '#DALvsMIN | @Pepsi | #DallasCowboys '\n                                 'https://t.co/CiGzWovtPd',\n                    'geo': None,\n                    'id': 1329969772944093185,\n                    'id_str': '1329969772944093185',\n                    'in_reply_to_screen_name': None,\n                    'in_reply_to_status_id': None,\n                    'in_reply_to_status_id_str': None,\n                    'in_reply_to_user_id': None,\n                    'in_reply_to_user_id_str': None,\n                    'is_quote_status': False,\n                    'lang': 'en',\n                    'metadata': {'iso_language_code': 'en',\n                                 'result_type': 'recent'},\n                    'place': None,\n                    'possibly_sensitive': False,\n                    'retweet_count': 40,\n                    'retweeted': False,\n                    'source': '<a href=\"https://studio.twitter.com\" '\n                              'rel=\"nofollow\">Twitter Media Studio</a>',\n                    'truncated': False,\n                    'user': {'contributors_enabled': False,\n                             'created_at': 'Wed Sep 12 02:56:44 +0000 2007',\n                             'default_profile': False,\n                             'default_profile_image': False,\n                             'description': 'Official twitter account of the '\n                                            'Dallas Cowboys. World Champions '\n                                            'VI, XII, XXVII, XXVIII, XXX.  '\n                                            'Spanish Content: @SomosCowboys',\n                             'entities': {'description': {'urls': []},\n                                          'url': {'urls': [{'display_url': 'dallascowboys.com',\n                                                            'expanded_url': 'http://www.dallascowboys.com',\n                                                            'indices': [0, 23],\n                                                            'url': 'https://t.co/9DBHEv0Yyc'}]}},\n                             'favourites_count': 1549,\n                             'follow_request_sent': None,\n                             'followers_count': 3950343,\n                             'following': None,\n                             'friends_count': 301,\n                             'geo_enabled': True,\n                             'has_extended_profile': False,\n                             'id': 8824902,\n                             'id_str': '8824902',\n                             'is_translation_enabled': False,\n                             'is_translator': False,\n                             'lang': None,\n                             'listed_count': 11138,\n                             'location': 'Frisco, TX',\n                             'name': 'Dallas Cowboys',\n                             'notifications': None,\n                             'profile_background_color': 'C0DEED',\n                             'profile_background_image_url': 'http://abs.twimg.com/images/themes/theme15/bg.png',\n                             'profile_background_image_url_https': 'https://abs.twimg.com/images/themes/theme15/bg.png',\n                             'profile_background_tile': False,\n                             'profile_banner_url': 'https://pbs.twimg.com/profile_banners/8824902/1588088241',\n                             'profile_image_url': 'http://pbs.twimg.com/profile_images/1304455778468859905/x_Obe5Fn_normal.jpg',\n                             'profile_image_url_https': 'https://pbs.twimg.com/profile_images/1304455778468859905/x_Obe5Fn_normal.jpg',\n                             'profile_link_color': '0084B4',\n                             'profile_sidebar_border_color': 'FFFFFF',\n                             'profile_sidebar_fill_color': 'C0DFEC',\n                             'profile_text_color': '333333',\n                             'profile_use_background_image': True,\n                             'protected': False,\n                             'screen_name': 'dallascowboys',\n                             'statuses_count': 67022,\n                             'time_zone': None,\n                             'translator_type': 'none',\n                             'url': 'https://t.co/9DBHEv0Yyc',\n                             'utc_offset': None,\n                             'verified': True}},\n  'quoted_status_id': 1329969772944093185,\n  'quoted_status_id_str': '1329969772944093185',\n  'retweet_count': 0,\n  'retweeted': False,\n  'source': '<a href=\"http://twitter.com/download/iphone\" '\n            'rel=\"nofollow\">Twitter for iPhone</a>',\n  'team': 'Dallas Cowboys',\n  'truncated': False,\n  'user': {'contributors_enabled': False,\n           'created_at': 'Mon Jul 04 22:44:47 +0000 2016',\n           'default_profile': False,\n           'default_profile_image': False,\n           'description': 'The Official Fan Page that covers all aspects of '\n                          'Dallas Area Professional Sports teams '\n                          '@DallasCowboys 🏈 @Rangers ⚾️ @DallasStars '\n                          '@DallasMavs 🏀 Follow us 👆🏽',\n           'entities': {'description': {'urls': []}},\n           'favourites_count': 2146,\n           'follow_request_sent': None,\n           'followers_count': 6935,\n           'following': None,\n           'friends_count': 3419,\n           'geo_enabled': False,\n           'has_extended_profile': False,\n           'id': 750098054900953088,\n           'id_str': '750098054900953088',\n           'is_translation_enabled': False,\n           'is_translator': False,\n           'lang': None,\n           'listed_count': 54,\n           'location': 'Dallas, TX',\n           'name': 'Dallas Nation',\n           'notifications': None,\n           'profile_background_color': '000000',\n           'profile_background_image_url': 'http://abs.twimg.com/images/themes/theme1/bg.png',\n           'profile_background_image_url_https': 'https://abs.twimg.com/images/themes/theme1/bg.png',\n           'profile_background_tile': False,\n           'profile_banner_url': 'https://pbs.twimg.com/profile_banners/750098054900953088/1603951734',\n           'profile_image_url': 'http://pbs.twimg.com/profile_images/1321691803754680325/QX9rZyDg_normal.jpg',\n           'profile_image_url_https': 'https://pbs.twimg.com/profile_images/1321691803754680325/QX9rZyDg_normal.jpg',\n           'profile_link_color': '1B95E0',\n           'profile_sidebar_border_color': '000000',\n           'profile_sidebar_fill_color': '000000',\n           'profile_text_color': '000000',\n           'profile_use_background_image': False,\n           'protected': False,\n           'screen_name': 'Dallas__Nation',\n           'statuses_count': 6777,\n           'time_zone': None,\n           'translator_type': 'none',\n           'url': None,\n           'utc_offset': None,\n           'verified': False}}]\n"
     ]
    }
   ],
   "source": [
    "pprint.pprint(tweets[0:max_tweet_to_print])"
   ]
  },
  {
   "cell_type": "code",
   "execution_count": 147,
   "metadata": {
    "tags": []
   },
   "outputs": [
    {
     "output_type": "stream",
     "name": "stdout",
     "text": [
      "The British Financial Times not understanding exactly where and what Sheetz is, only outdone by its meekness in describing Pittburghers’ hatred of the Dallas Cowboys https://t.co/RRmWQqNdBd\n\nAndy Dalton, who is now ready to start Sunday vs. the Vikings, said the coronavirus hit him hard:\n\nhttps://t.co/3ZgsJNxEbj\n\nCowboys' Andy Dalton Says He Still Can't Taste, Smell After COVID Diagnosis https://t.co/BMfLO1H6MP\n\nAS IF WE NEEDED THE COWBOYS TO BREAK OUR HEARTS AGAIN https://t.co/1lnuSE676e\n\n"
     ]
    }
   ],
   "source": [
    "for status in tweets[0:max_tweet_to_print]:\n",
    "    print(status['full_text'] + '\\n')"
   ]
  },
  {
   "cell_type": "markdown",
   "metadata": {},
   "source": [
    "# Pandas DataFrame for storing tweet feed\n"
   ]
  },
  {
   "cell_type": "markdown",
   "metadata": {},
   "source": [
    "# Printing keys in tweets"
   ]
  },
  {
   "cell_type": "code",
   "execution_count": 148,
   "metadata": {
    "tags": []
   },
   "outputs": [
    {
     "output_type": "stream",
     "name": "stdout",
     "text": [
      "dict_keys(['created_at', 'id', 'id_str', 'full_text', 'truncated', 'display_text_range', 'entities', 'metadata', 'source', 'in_reply_to_status_id', 'in_reply_to_status_id_str', 'in_reply_to_user_id', 'in_reply_to_user_id_str', 'in_reply_to_screen_name', 'user', 'geo', 'coordinates', 'place', 'contributors', 'is_quote_status', 'retweet_count', 'favorite_count', 'favorited', 'retweeted', 'possibly_sensitive', 'lang', 'team'])\n27\n"
     ]
    }
   ],
   "source": [
    "print(tweets[1].keys())\n",
    "print(len(tweets[1].keys()))"
   ]
  },
  {
   "cell_type": "code",
   "execution_count": 149,
   "metadata": {},
   "outputs": [],
   "source": [
    "import pandas as pd"
   ]
  },
  {
   "cell_type": "code",
   "execution_count": 150,
   "metadata": {},
   "outputs": [],
   "source": [
    "def tweet_generator(tweets):\n",
    "    for tweet in tweets:\n",
    "        modified_tweet= {}\n",
    "        \n",
    "        #Write your code here\n",
    "\n",
    "        modified_tweet = deepcopy(tweet)\n",
    "        try:\n",
    "            modified_tweet[\"user_id\"] = modified_tweet[\"user\"][\"id\"]\n",
    "            modified_tweet.pop(\"user\", None)\n",
    "        except KeyError:\n",
    "            pass\n",
    "        try:\n",
    "            modified_tweet[\"retweeted_status_id\"] = modified_tweet[\"retweeted_status\"][\"id\"] \n",
    "            modified_tweet.pop(\"retweeted_status\", None)\n",
    "        except KeyError:\n",
    "            pass\n",
    "        yield modified_tweet       "
   ]
  },
  {
   "cell_type": "code",
   "execution_count": 151,
   "metadata": {},
   "outputs": [
    {
     "output_type": "execute_result",
     "data": {
      "text/plain": [
       "[{'created_at': 'Thu Nov 19 14:38:36 +0000 2020',\n",
       "  'id': 1329433901744451584,\n",
       "  'id_str': '1329433901744451584',\n",
       "  'full_text': 'The British Financial Times not understanding exactly where and what Sheetz is, only outdone by its meekness in describing Pittburghers’ hatred of the Dallas Cowboys https://t.co/RRmWQqNdBd',\n",
       "  'truncated': False,\n",
       "  'display_text_range': [0, 165],\n",
       "  'entities': {'hashtags': [],\n",
       "   'symbols': [],\n",
       "   'user_mentions': [],\n",
       "   'urls': [],\n",
       "   'media': [{'id': 1329433894324760577,\n",
       "     'id_str': '1329433894324760577',\n",
       "     'indices': [166, 189],\n",
       "     'media_url': 'http://pbs.twimg.com/media/EnMZFU-XcAEXDTW.jpg',\n",
       "     'media_url_https': 'https://pbs.twimg.com/media/EnMZFU-XcAEXDTW.jpg',\n",
       "     'url': 'https://t.co/RRmWQqNdBd',\n",
       "     'display_url': 'pic.twitter.com/RRmWQqNdBd',\n",
       "     'expanded_url': 'https://twitter.com/RyanDeto/status/1329433901744451584/photo/1',\n",
       "     'type': 'photo',\n",
       "     'sizes': {'thumb': {'w': 150, 'h': 150, 'resize': 'crop'},\n",
       "      'small': {'w': 680, 'h': 439, 'resize': 'fit'},\n",
       "      'large': {'w': 1242, 'h': 801, 'resize': 'fit'},\n",
       "      'medium': {'w': 1200, 'h': 774, 'resize': 'fit'}}}]},\n",
       "  'extended_entities': {'media': [{'id': 1329433894324760577,\n",
       "     'id_str': '1329433894324760577',\n",
       "     'indices': [166, 189],\n",
       "     'media_url': 'http://pbs.twimg.com/media/EnMZFU-XcAEXDTW.jpg',\n",
       "     'media_url_https': 'https://pbs.twimg.com/media/EnMZFU-XcAEXDTW.jpg',\n",
       "     'url': 'https://t.co/RRmWQqNdBd',\n",
       "     'display_url': 'pic.twitter.com/RRmWQqNdBd',\n",
       "     'expanded_url': 'https://twitter.com/RyanDeto/status/1329433901744451584/photo/1',\n",
       "     'type': 'photo',\n",
       "     'sizes': {'thumb': {'w': 150, 'h': 150, 'resize': 'crop'},\n",
       "      'small': {'w': 680, 'h': 439, 'resize': 'fit'},\n",
       "      'large': {'w': 1242, 'h': 801, 'resize': 'fit'},\n",
       "      'medium': {'w': 1200, 'h': 774, 'resize': 'fit'}}}]},\n",
       "  'metadata': {'result_type': 'popular', 'iso_language_code': 'en'},\n",
       "  'source': '<a href=\"http://twitter.com/download/iphone\" rel=\"nofollow\">Twitter for iPhone</a>',\n",
       "  'in_reply_to_status_id': None,\n",
       "  'in_reply_to_status_id_str': None,\n",
       "  'in_reply_to_user_id': None,\n",
       "  'in_reply_to_user_id_str': None,\n",
       "  'in_reply_to_screen_name': None,\n",
       "  'geo': None,\n",
       "  'coordinates': None,\n",
       "  'place': None,\n",
       "  'contributors': None,\n",
       "  'is_quote_status': False,\n",
       "  'retweet_count': 298,\n",
       "  'favorite_count': 1422,\n",
       "  'favorited': False,\n",
       "  'retweeted': False,\n",
       "  'possibly_sensitive': False,\n",
       "  'lang': 'en',\n",
       "  'team': 'Dallas Cowboys',\n",
       "  'user_id': 355823359},\n",
       " {'created_at': 'Fri Nov 20 13:05:43 +0000 2020',\n",
       "  'id': 1329772914091159557,\n",
       "  'id_str': '1329772914091159557',\n",
       "  'full_text': 'Andy Dalton, who is now ready to start Sunday vs. the Vikings, said the coronavirus hit him hard:\\n\\nhttps://t.co/3ZgsJNxEbj',\n",
       "  'truncated': False,\n",
       "  'display_text_range': [0, 122],\n",
       "  'entities': {'hashtags': [],\n",
       "   'symbols': [],\n",
       "   'user_mentions': [],\n",
       "   'urls': [{'url': 'https://t.co/3ZgsJNxEbj',\n",
       "     'expanded_url': 'https://www.espn.com/nfl/story/_/id/30349898/dallas-cowboys-qb-andy-dalton-says-covid-19-hit-hard',\n",
       "     'display_url': 'espn.com/nfl/story/_/id…',\n",
       "     'indices': [99, 122]}]},\n",
       "  'metadata': {'result_type': 'popular', 'iso_language_code': 'en'},\n",
       "  'source': '<a href=\"http://twitter.com/download/iphone\" rel=\"nofollow\">Twitter for iPhone</a>',\n",
       "  'in_reply_to_status_id': None,\n",
       "  'in_reply_to_status_id_str': None,\n",
       "  'in_reply_to_user_id': None,\n",
       "  'in_reply_to_user_id_str': None,\n",
       "  'in_reply_to_screen_name': None,\n",
       "  'geo': None,\n",
       "  'coordinates': None,\n",
       "  'place': None,\n",
       "  'contributors': None,\n",
       "  'is_quote_status': False,\n",
       "  'retweet_count': 139,\n",
       "  'favorite_count': 9,\n",
       "  'favorited': False,\n",
       "  'retweeted': False,\n",
       "  'possibly_sensitive': False,\n",
       "  'lang': 'en',\n",
       "  'team': 'Dallas Cowboys',\n",
       "  'user_id': 51263592}]"
      ]
     },
     "metadata": {},
     "execution_count": 151
    }
   ],
   "source": [
    "# Checking  generator output\n",
    "list(tweet_generator(tweets[0:2]))"
   ]
  },
  {
   "cell_type": "code",
   "execution_count": 152,
   "metadata": {},
   "outputs": [],
   "source": [
    "football_feed_df = pd.DataFrame(tweet_generator(tweets))"
   ]
  },
  {
   "source": [
    "# Tweet Cleaning"
   ],
   "cell_type": "markdown",
   "metadata": {}
  },
  {
   "cell_type": "code",
   "execution_count": 153,
   "metadata": {},
   "outputs": [
    {
     "output_type": "stream",
     "name": "stdout",
     "text": [
      "Rows with either null text or teams: 100\n"
     ]
    }
   ],
   "source": [
    "print(\"Rows with either null text or teams: {}\".format(football_feed_df[[\"text\", \"team\"]].isnull().any(axis = 1).sum())) "
   ]
  },
  {
   "cell_type": "code",
   "execution_count": 154,
   "metadata": {},
   "outputs": [],
   "source": [
    "def NoneToNan(elem):\n",
    "    if elem == \"None\" or elem == None:\n",
    "        return np.nan\n",
    "    else:\n",
    "        return elem\n",
    "\n",
    "football_feed_df = football_feed_df.applymap(NoneToNan)"
   ]
  },
  {
   "cell_type": "code",
   "execution_count": 155,
   "metadata": {},
   "outputs": [
    {
     "output_type": "execute_result",
     "data": {
      "text/plain": [
       "                                           full_text            team text\n",
       "0  The British Financial Times not understanding ...  Dallas Cowboys  NaN\n",
       "1  Andy Dalton, who is now ready to start Sunday ...  Dallas Cowboys  NaN\n",
       "2  Cowboys' Andy Dalton Says He Still Can't Taste...  Dallas Cowboys  NaN\n",
       "3  AS IF WE NEEDED THE COWBOYS TO BREAK OUR HEART...  Dallas Cowboys  NaN\n",
       "4  @KarlSafchick My boys!  And don’t worry, as a ...  Dallas Cowboys  NaN"
      ],
      "text/html": "<div>\n<style scoped>\n    .dataframe tbody tr th:only-of-type {\n        vertical-align: middle;\n    }\n\n    .dataframe tbody tr th {\n        vertical-align: top;\n    }\n\n    .dataframe thead th {\n        text-align: right;\n    }\n</style>\n<table border=\"1\" class=\"dataframe\">\n  <thead>\n    <tr style=\"text-align: right;\">\n      <th></th>\n      <th>full_text</th>\n      <th>team</th>\n      <th>text</th>\n    </tr>\n  </thead>\n  <tbody>\n    <tr>\n      <th>0</th>\n      <td>The British Financial Times not understanding ...</td>\n      <td>Dallas Cowboys</td>\n      <td>NaN</td>\n    </tr>\n    <tr>\n      <th>1</th>\n      <td>Andy Dalton, who is now ready to start Sunday ...</td>\n      <td>Dallas Cowboys</td>\n      <td>NaN</td>\n    </tr>\n    <tr>\n      <th>2</th>\n      <td>Cowboys' Andy Dalton Says He Still Can't Taste...</td>\n      <td>Dallas Cowboys</td>\n      <td>NaN</td>\n    </tr>\n    <tr>\n      <th>3</th>\n      <td>AS IF WE NEEDED THE COWBOYS TO BREAK OUR HEART...</td>\n      <td>Dallas Cowboys</td>\n      <td>NaN</td>\n    </tr>\n    <tr>\n      <th>4</th>\n      <td>@KarlSafchick My boys!  And don’t worry, as a ...</td>\n      <td>Dallas Cowboys</td>\n      <td>NaN</td>\n    </tr>\n  </tbody>\n</table>\n</div>"
     },
     "metadata": {},
     "execution_count": 155
    }
   ],
   "source": [
    "football_feed_df[[\"full_text\",\"team\", \"text\"]].head()"
   ]
  },
  {
   "cell_type": "code",
   "execution_count": 156,
   "metadata": {},
   "outputs": [
    {
     "output_type": "execute_result",
     "data": {
      "text/plain": [
       "                                             full_text            team  \\\n",
       "0    The British Financial Times not understanding ...  Dallas Cowboys   \n",
       "1    Andy Dalton, who is now ready to start Sunday ...  Dallas Cowboys   \n",
       "2    Cowboys' Andy Dalton Says He Still Can't Taste...  Dallas Cowboys   \n",
       "3    AS IF WE NEEDED THE COWBOYS TO BREAK OUR HEART...  Dallas Cowboys   \n",
       "4    @KarlSafchick My boys!  And don’t worry, as a ...  Dallas Cowboys   \n",
       "..                                                 ...             ...   \n",
       "395  @JosephPatrice I really just want to Spam this...  Dallas Cowboys   \n",
       "396  RT @keilanadezignz: 🏈 Dallas Cowboys 2PC Tray ...  Dallas Cowboys   \n",
       "397  RT @apa1906NETwork: Brother Charles Lewis Hale...  Dallas Cowboys   \n",
       "398  RT @WilliamJoy: New: 8 people who tested posit...  Dallas Cowboys   \n",
       "399  RT @WilliamJoy: New: 8 people who tested posit...  Dallas Cowboys   \n",
       "\n",
       "                                                  text  \n",
       "0                                                  NaN  \n",
       "1                                                  NaN  \n",
       "2                                                  NaN  \n",
       "3                                                  NaN  \n",
       "4                                                  NaN  \n",
       "..                                                 ...  \n",
       "395  @JosephPatrice I really just want to Spam this...  \n",
       "396  RT @keilanadezignz: 🏈 Dallas Cowboys 2PC Tray ...  \n",
       "397  RT @apa1906NETwork: Brother Charles Lewis Hale...  \n",
       "398  RT @WilliamJoy: New: 8 people who tested posit...  \n",
       "399  RT @WilliamJoy: New: 8 people who tested posit...  \n",
       "\n",
       "[400 rows x 3 columns]"
      ],
      "text/html": "<div>\n<style scoped>\n    .dataframe tbody tr th:only-of-type {\n        vertical-align: middle;\n    }\n\n    .dataframe tbody tr th {\n        vertical-align: top;\n    }\n\n    .dataframe thead th {\n        text-align: right;\n    }\n</style>\n<table border=\"1\" class=\"dataframe\">\n  <thead>\n    <tr style=\"text-align: right;\">\n      <th></th>\n      <th>full_text</th>\n      <th>team</th>\n      <th>text</th>\n    </tr>\n  </thead>\n  <tbody>\n    <tr>\n      <th>0</th>\n      <td>The British Financial Times not understanding ...</td>\n      <td>Dallas Cowboys</td>\n      <td>NaN</td>\n    </tr>\n    <tr>\n      <th>1</th>\n      <td>Andy Dalton, who is now ready to start Sunday ...</td>\n      <td>Dallas Cowboys</td>\n      <td>NaN</td>\n    </tr>\n    <tr>\n      <th>2</th>\n      <td>Cowboys' Andy Dalton Says He Still Can't Taste...</td>\n      <td>Dallas Cowboys</td>\n      <td>NaN</td>\n    </tr>\n    <tr>\n      <th>3</th>\n      <td>AS IF WE NEEDED THE COWBOYS TO BREAK OUR HEART...</td>\n      <td>Dallas Cowboys</td>\n      <td>NaN</td>\n    </tr>\n    <tr>\n      <th>4</th>\n      <td>@KarlSafchick My boys!  And don’t worry, as a ...</td>\n      <td>Dallas Cowboys</td>\n      <td>NaN</td>\n    </tr>\n    <tr>\n      <th>...</th>\n      <td>...</td>\n      <td>...</td>\n      <td>...</td>\n    </tr>\n    <tr>\n      <th>395</th>\n      <td>@JosephPatrice I really just want to Spam this...</td>\n      <td>Dallas Cowboys</td>\n      <td>@JosephPatrice I really just want to Spam this...</td>\n    </tr>\n    <tr>\n      <th>396</th>\n      <td>RT @keilanadezignz: 🏈 Dallas Cowboys 2PC Tray ...</td>\n      <td>Dallas Cowboys</td>\n      <td>RT @keilanadezignz: 🏈 Dallas Cowboys 2PC Tray ...</td>\n    </tr>\n    <tr>\n      <th>397</th>\n      <td>RT @apa1906NETwork: Brother Charles Lewis Hale...</td>\n      <td>Dallas Cowboys</td>\n      <td>RT @apa1906NETwork: Brother Charles Lewis Hale...</td>\n    </tr>\n    <tr>\n      <th>398</th>\n      <td>RT @WilliamJoy: New: 8 people who tested posit...</td>\n      <td>Dallas Cowboys</td>\n      <td>RT @WilliamJoy: New: 8 people who tested posit...</td>\n    </tr>\n    <tr>\n      <th>399</th>\n      <td>RT @WilliamJoy: New: 8 people who tested posit...</td>\n      <td>Dallas Cowboys</td>\n      <td>RT @WilliamJoy: New: 8 people who tested posit...</td>\n    </tr>\n  </tbody>\n</table>\n<p>400 rows × 3 columns</p>\n</div>"
     },
     "metadata": {},
     "execution_count": 156
    }
   ],
   "source": [
    "football_feed_df.full_text.fillna(football_feed_df.text, inplace=True)\n",
    "football_feed_df[\"full_text\"] = football_feed_df[\"full_text\"].apply(str)\n",
    "football_feed_df[[\"full_text\",\"team\", \"text\"]]"
   ]
  },
  {
   "cell_type": "code",
   "execution_count": 157,
   "metadata": {},
   "outputs": [
    {
     "output_type": "stream",
     "name": "stdout",
     "text": [
      "Rows with either null text or teams: 0\n"
     ]
    }
   ],
   "source": [
    "print(\"Rows with either null text or teams: {}\".format(football_feed_df[[\"full_text\", \"team\"]].isnull().any(axis = 1).sum())) "
   ]
  },
  {
   "cell_type": "code",
   "execution_count": 158,
   "metadata": {},
   "outputs": [],
   "source": [
    "hashtags = []\n",
    "user_mentions = []\n",
    "\n",
    "for row in football_feed_df.itertuples():\n",
    "    row = row.entities\n",
    "    try:\n",
    "        hashtags_in_row = row[\"hashtags\"]\n",
    "        hashtags.append(hashtags_in_row)\n",
    "    except:\n",
    "        hashtags.append('')\n",
    "    try:\n",
    "        user_mentions_in_row = row[\"user_mentions\"][0][\"name\"]\n",
    "        user_mentions.append(user_mentions_in_row)\n",
    "    except:\n",
    "        user_mentions.append('')"
   ]
  },
  {
   "cell_type": "code",
   "execution_count": 159,
   "metadata": {},
   "outputs": [
    {
     "output_type": "execute_result",
     "data": {
      "text/plain": [
       "                         created_at                   id               id_str  \\\n",
       "0    Thu Nov 19 14:38:36 +0000 2020  1329433901744451584  1329433901744451584   \n",
       "1    Fri Nov 20 13:05:43 +0000 2020  1329772914091159557  1329772914091159557   \n",
       "2    Thu Nov 19 21:20:33 +0000 2020  1329535054201044994  1329535054201044994   \n",
       "3    Sat Nov 21 02:40:58 +0000 2020  1329978079134052354  1329978079134052354   \n",
       "4    Sat Nov 21 02:40:08 +0000 2020  1329977868571406337  1329977868571406337   \n",
       "..                              ...                  ...                  ...   \n",
       "395  Thu Nov 19 00:53:29 +0000 2020  1329226253904322565  1329226253904322565   \n",
       "396  Thu Nov 19 00:50:13 +0000 2020  1329225430109466624  1329225430109466624   \n",
       "397  Thu Nov 19 00:49:01 +0000 2020  1329225129323343874  1329225129323343874   \n",
       "398  Thu Nov 19 00:48:46 +0000 2020  1329225065678954497  1329225065678954497   \n",
       "399  Thu Nov 19 00:47:55 +0000 2020  1329224854948753410  1329224854948753410   \n",
       "\n",
       "                                             full_text  truncated  \\\n",
       "0    The British Financial Times not understanding ...      False   \n",
       "1    Andy Dalton, who is now ready to start Sunday ...      False   \n",
       "2    Cowboys' Andy Dalton Says He Still Can't Taste...      False   \n",
       "3    AS IF WE NEEDED THE COWBOYS TO BREAK OUR HEART...      False   \n",
       "4    @KarlSafchick My boys!  And don’t worry, as a ...      False   \n",
       "..                                                 ...        ...   \n",
       "395  @JosephPatrice I really just want to Spam this...       True   \n",
       "396  RT @keilanadezignz: 🏈 Dallas Cowboys 2PC Tray ...      False   \n",
       "397  RT @apa1906NETwork: Brother Charles Lewis Hale...      False   \n",
       "398  RT @WilliamJoy: New: 8 people who tested posit...      False   \n",
       "399  RT @WilliamJoy: New: 8 people who tested posit...      False   \n",
       "\n",
       "    display_text_range                                           entities  \\\n",
       "0             [0, 165]  {'hashtags': [], 'symbols': [], 'user_mentions...   \n",
       "1             [0, 122]  {'hashtags': [], 'symbols': [], 'user_mentions...   \n",
       "2              [0, 99]  {'hashtags': [], 'symbols': [], 'user_mentions...   \n",
       "3              [0, 53]  {'hashtags': [], 'symbols': [], 'user_mentions...   \n",
       "4             [14, 99]  {'hashtags': [], 'symbols': [], 'user_mentions...   \n",
       "..                 ...                                                ...   \n",
       "395                NaN  {'hashtags': [], 'symbols': [], 'user_mentions...   \n",
       "396                NaN  {'hashtags': [], 'symbols': [], 'user_mentions...   \n",
       "397                NaN  {'hashtags': [], 'symbols': [], 'user_mentions...   \n",
       "398                NaN  {'hashtags': [], 'symbols': [], 'user_mentions...   \n",
       "399                NaN  {'hashtags': [], 'symbols': [], 'user_mentions...   \n",
       "\n",
       "                                     extended_entities  \\\n",
       "0    {'media': [{'id': 1329433894324760577, 'id_str...   \n",
       "1                                                  NaN   \n",
       "2                                                  NaN   \n",
       "3                                                  NaN   \n",
       "4    {'media': [{'id': 1329977865316626434, 'id_str...   \n",
       "..                                                 ...   \n",
       "395                                                NaN   \n",
       "396  {'media': [{'id': 1329189406679318528, 'id_str...   \n",
       "397                                                NaN   \n",
       "398                                                NaN   \n",
       "399                                                NaN   \n",
       "\n",
       "                                              metadata  \\\n",
       "0    {'result_type': 'popular', 'iso_language_code'...   \n",
       "1    {'result_type': 'popular', 'iso_language_code'...   \n",
       "2    {'result_type': 'popular', 'iso_language_code'...   \n",
       "3    {'iso_language_code': 'en', 'result_type': 're...   \n",
       "4    {'iso_language_code': 'en', 'result_type': 're...   \n",
       "..                                                 ...   \n",
       "395  {'iso_language_code': 'en', 'result_type': 're...   \n",
       "396  {'iso_language_code': 'en', 'result_type': 're...   \n",
       "397  {'iso_language_code': 'en', 'result_type': 're...   \n",
       "398  {'iso_language_code': 'en', 'result_type': 're...   \n",
       "399  {'iso_language_code': 'en', 'result_type': 're...   \n",
       "\n",
       "                                                source  ...  lang  \\\n",
       "0    <a href=\"http://twitter.com/download/iphone\" r...  ...    en   \n",
       "1    <a href=\"http://twitter.com/download/iphone\" r...  ...    en   \n",
       "2    <a href=\"https://dlvrit.com/\" rel=\"nofollow\">d...  ...    en   \n",
       "3    <a href=\"http://twitter.com/download/iphone\" r...  ...    en   \n",
       "4    <a href=\"http://twitter.com/#!/download/ipad\" ...  ...    en   \n",
       "..                                                 ...  ...   ...   \n",
       "395  <a href=\"http://twitter.com/download/iphone\" r...  ...    en   \n",
       "396  <a href=\"http://twitter.com/download/android\" ...  ...    en   \n",
       "397  <a href=\"http://twitter.com/download/iphone\" r...  ...    en   \n",
       "398  <a href=\"https://mobile.twitter.com\" rel=\"nofo...  ...    en   \n",
       "399  <a href=\"http://itunes.apple.com/us/app/twitte...  ...    en   \n",
       "\n",
       "               team             user_id quoted_status_id quoted_status_id_str  \\\n",
       "0    Dallas Cowboys           355823359              NaN                  NaN   \n",
       "1    Dallas Cowboys            51263592              NaN                  NaN   \n",
       "2    Dallas Cowboys            16331010              NaN                  NaN   \n",
       "3    Dallas Cowboys  750098054900953088     1.329970e+18  1329969772944093185   \n",
       "4    Dallas Cowboys          1035807834              NaN                  NaN   \n",
       "..              ...                 ...              ...                  ...   \n",
       "395  Dallas Cowboys           427951378              NaN                  NaN   \n",
       "396  Dallas Cowboys  963930258184572928              NaN                  NaN   \n",
       "397  Dallas Cowboys          3302680656              NaN                  NaN   \n",
       "398  Dallas Cowboys           168360685              NaN                  NaN   \n",
       "399  Dallas Cowboys            27933062              NaN                  NaN   \n",
       "\n",
       "                                         quoted_status  retweeted_status_id  \\\n",
       "0                                                  NaN                  NaN   \n",
       "1                                                  NaN                  NaN   \n",
       "2                                                  NaN                  NaN   \n",
       "3    {'created_at': 'Sat Nov 21 02:07:58 +0000 2020...                  NaN   \n",
       "4                                                  NaN                  NaN   \n",
       "..                                                 ...                  ...   \n",
       "395                                                NaN                  NaN   \n",
       "396                                                NaN         1.329189e+18   \n",
       "397                                                NaN         1.329198e+18   \n",
       "398                                                NaN         1.329177e+18   \n",
       "399                                                NaN         1.329177e+18   \n",
       "\n",
       "                                                  text  hashtags  \\\n",
       "0                                                  NaN        []   \n",
       "1                                                  NaN        []   \n",
       "2                                                  NaN        []   \n",
       "3                                                  NaN        []   \n",
       "4                                                  NaN        []   \n",
       "..                                                 ...       ...   \n",
       "395  @JosephPatrice I really just want to Spam this...        []   \n",
       "396  RT @keilanadezignz: 🏈 Dallas Cowboys 2PC Tray ...        []   \n",
       "397  RT @apa1906NETwork: Brother Charles Lewis Hale...        []   \n",
       "398  RT @WilliamJoy: New: 8 people who tested posit...        []   \n",
       "399  RT @WilliamJoy: New: 8 people who tested posit...        []   \n",
       "\n",
       "                          user_mentions  \n",
       "0                                        \n",
       "1                                        \n",
       "2                                        \n",
       "3                                        \n",
       "4                         Karl Safchick  \n",
       "..                                  ...  \n",
       "395                         Joe Patrice  \n",
       "396                    keilanadezignz 💕  \n",
       "397  Alpha Phi Alpha Fraternity, Inc. ®  \n",
       "398                         William Joy  \n",
       "399                         William Joy  \n",
       "\n",
       "[400 rows x 35 columns]"
      ],
      "text/html": "<div>\n<style scoped>\n    .dataframe tbody tr th:only-of-type {\n        vertical-align: middle;\n    }\n\n    .dataframe tbody tr th {\n        vertical-align: top;\n    }\n\n    .dataframe thead th {\n        text-align: right;\n    }\n</style>\n<table border=\"1\" class=\"dataframe\">\n  <thead>\n    <tr style=\"text-align: right;\">\n      <th></th>\n      <th>created_at</th>\n      <th>id</th>\n      <th>id_str</th>\n      <th>full_text</th>\n      <th>truncated</th>\n      <th>display_text_range</th>\n      <th>entities</th>\n      <th>extended_entities</th>\n      <th>metadata</th>\n      <th>source</th>\n      <th>...</th>\n      <th>lang</th>\n      <th>team</th>\n      <th>user_id</th>\n      <th>quoted_status_id</th>\n      <th>quoted_status_id_str</th>\n      <th>quoted_status</th>\n      <th>retweeted_status_id</th>\n      <th>text</th>\n      <th>hashtags</th>\n      <th>user_mentions</th>\n    </tr>\n  </thead>\n  <tbody>\n    <tr>\n      <th>0</th>\n      <td>Thu Nov 19 14:38:36 +0000 2020</td>\n      <td>1329433901744451584</td>\n      <td>1329433901744451584</td>\n      <td>The British Financial Times not understanding ...</td>\n      <td>False</td>\n      <td>[0, 165]</td>\n      <td>{'hashtags': [], 'symbols': [], 'user_mentions...</td>\n      <td>{'media': [{'id': 1329433894324760577, 'id_str...</td>\n      <td>{'result_type': 'popular', 'iso_language_code'...</td>\n      <td>&lt;a href=\"http://twitter.com/download/iphone\" r...</td>\n      <td>...</td>\n      <td>en</td>\n      <td>Dallas Cowboys</td>\n      <td>355823359</td>\n      <td>NaN</td>\n      <td>NaN</td>\n      <td>NaN</td>\n      <td>NaN</td>\n      <td>NaN</td>\n      <td>[]</td>\n      <td></td>\n    </tr>\n    <tr>\n      <th>1</th>\n      <td>Fri Nov 20 13:05:43 +0000 2020</td>\n      <td>1329772914091159557</td>\n      <td>1329772914091159557</td>\n      <td>Andy Dalton, who is now ready to start Sunday ...</td>\n      <td>False</td>\n      <td>[0, 122]</td>\n      <td>{'hashtags': [], 'symbols': [], 'user_mentions...</td>\n      <td>NaN</td>\n      <td>{'result_type': 'popular', 'iso_language_code'...</td>\n      <td>&lt;a href=\"http://twitter.com/download/iphone\" r...</td>\n      <td>...</td>\n      <td>en</td>\n      <td>Dallas Cowboys</td>\n      <td>51263592</td>\n      <td>NaN</td>\n      <td>NaN</td>\n      <td>NaN</td>\n      <td>NaN</td>\n      <td>NaN</td>\n      <td>[]</td>\n      <td></td>\n    </tr>\n    <tr>\n      <th>2</th>\n      <td>Thu Nov 19 21:20:33 +0000 2020</td>\n      <td>1329535054201044994</td>\n      <td>1329535054201044994</td>\n      <td>Cowboys' Andy Dalton Says He Still Can't Taste...</td>\n      <td>False</td>\n      <td>[0, 99]</td>\n      <td>{'hashtags': [], 'symbols': [], 'user_mentions...</td>\n      <td>NaN</td>\n      <td>{'result_type': 'popular', 'iso_language_code'...</td>\n      <td>&lt;a href=\"https://dlvrit.com/\" rel=\"nofollow\"&gt;d...</td>\n      <td>...</td>\n      <td>en</td>\n      <td>Dallas Cowboys</td>\n      <td>16331010</td>\n      <td>NaN</td>\n      <td>NaN</td>\n      <td>NaN</td>\n      <td>NaN</td>\n      <td>NaN</td>\n      <td>[]</td>\n      <td></td>\n    </tr>\n    <tr>\n      <th>3</th>\n      <td>Sat Nov 21 02:40:58 +0000 2020</td>\n      <td>1329978079134052354</td>\n      <td>1329978079134052354</td>\n      <td>AS IF WE NEEDED THE COWBOYS TO BREAK OUR HEART...</td>\n      <td>False</td>\n      <td>[0, 53]</td>\n      <td>{'hashtags': [], 'symbols': [], 'user_mentions...</td>\n      <td>NaN</td>\n      <td>{'iso_language_code': 'en', 'result_type': 're...</td>\n      <td>&lt;a href=\"http://twitter.com/download/iphone\" r...</td>\n      <td>...</td>\n      <td>en</td>\n      <td>Dallas Cowboys</td>\n      <td>750098054900953088</td>\n      <td>1.329970e+18</td>\n      <td>1329969772944093185</td>\n      <td>{'created_at': 'Sat Nov 21 02:07:58 +0000 2020...</td>\n      <td>NaN</td>\n      <td>NaN</td>\n      <td>[]</td>\n      <td></td>\n    </tr>\n    <tr>\n      <th>4</th>\n      <td>Sat Nov 21 02:40:08 +0000 2020</td>\n      <td>1329977868571406337</td>\n      <td>1329977868571406337</td>\n      <td>@KarlSafchick My boys!  And don’t worry, as a ...</td>\n      <td>False</td>\n      <td>[14, 99]</td>\n      <td>{'hashtags': [], 'symbols': [], 'user_mentions...</td>\n      <td>{'media': [{'id': 1329977865316626434, 'id_str...</td>\n      <td>{'iso_language_code': 'en', 'result_type': 're...</td>\n      <td>&lt;a href=\"http://twitter.com/#!/download/ipad\" ...</td>\n      <td>...</td>\n      <td>en</td>\n      <td>Dallas Cowboys</td>\n      <td>1035807834</td>\n      <td>NaN</td>\n      <td>NaN</td>\n      <td>NaN</td>\n      <td>NaN</td>\n      <td>NaN</td>\n      <td>[]</td>\n      <td>Karl Safchick</td>\n    </tr>\n    <tr>\n      <th>...</th>\n      <td>...</td>\n      <td>...</td>\n      <td>...</td>\n      <td>...</td>\n      <td>...</td>\n      <td>...</td>\n      <td>...</td>\n      <td>...</td>\n      <td>...</td>\n      <td>...</td>\n      <td>...</td>\n      <td>...</td>\n      <td>...</td>\n      <td>...</td>\n      <td>...</td>\n      <td>...</td>\n      <td>...</td>\n      <td>...</td>\n      <td>...</td>\n      <td>...</td>\n      <td>...</td>\n    </tr>\n    <tr>\n      <th>395</th>\n      <td>Thu Nov 19 00:53:29 +0000 2020</td>\n      <td>1329226253904322565</td>\n      <td>1329226253904322565</td>\n      <td>@JosephPatrice I really just want to Spam this...</td>\n      <td>True</td>\n      <td>NaN</td>\n      <td>{'hashtags': [], 'symbols': [], 'user_mentions...</td>\n      <td>NaN</td>\n      <td>{'iso_language_code': 'en', 'result_type': 're...</td>\n      <td>&lt;a href=\"http://twitter.com/download/iphone\" r...</td>\n      <td>...</td>\n      <td>en</td>\n      <td>Dallas Cowboys</td>\n      <td>427951378</td>\n      <td>NaN</td>\n      <td>NaN</td>\n      <td>NaN</td>\n      <td>NaN</td>\n      <td>@JosephPatrice I really just want to Spam this...</td>\n      <td>[]</td>\n      <td>Joe Patrice</td>\n    </tr>\n    <tr>\n      <th>396</th>\n      <td>Thu Nov 19 00:50:13 +0000 2020</td>\n      <td>1329225430109466624</td>\n      <td>1329225430109466624</td>\n      <td>RT @keilanadezignz: 🏈 Dallas Cowboys 2PC Tray ...</td>\n      <td>False</td>\n      <td>NaN</td>\n      <td>{'hashtags': [], 'symbols': [], 'user_mentions...</td>\n      <td>{'media': [{'id': 1329189406679318528, 'id_str...</td>\n      <td>{'iso_language_code': 'en', 'result_type': 're...</td>\n      <td>&lt;a href=\"http://twitter.com/download/android\" ...</td>\n      <td>...</td>\n      <td>en</td>\n      <td>Dallas Cowboys</td>\n      <td>963930258184572928</td>\n      <td>NaN</td>\n      <td>NaN</td>\n      <td>NaN</td>\n      <td>1.329189e+18</td>\n      <td>RT @keilanadezignz: 🏈 Dallas Cowboys 2PC Tray ...</td>\n      <td>[]</td>\n      <td>keilanadezignz 💕</td>\n    </tr>\n    <tr>\n      <th>397</th>\n      <td>Thu Nov 19 00:49:01 +0000 2020</td>\n      <td>1329225129323343874</td>\n      <td>1329225129323343874</td>\n      <td>RT @apa1906NETwork: Brother Charles Lewis Hale...</td>\n      <td>False</td>\n      <td>NaN</td>\n      <td>{'hashtags': [], 'symbols': [], 'user_mentions...</td>\n      <td>NaN</td>\n      <td>{'iso_language_code': 'en', 'result_type': 're...</td>\n      <td>&lt;a href=\"http://twitter.com/download/iphone\" r...</td>\n      <td>...</td>\n      <td>en</td>\n      <td>Dallas Cowboys</td>\n      <td>3302680656</td>\n      <td>NaN</td>\n      <td>NaN</td>\n      <td>NaN</td>\n      <td>1.329198e+18</td>\n      <td>RT @apa1906NETwork: Brother Charles Lewis Hale...</td>\n      <td>[]</td>\n      <td>Alpha Phi Alpha Fraternity, Inc. ®</td>\n    </tr>\n    <tr>\n      <th>398</th>\n      <td>Thu Nov 19 00:48:46 +0000 2020</td>\n      <td>1329225065678954497</td>\n      <td>1329225065678954497</td>\n      <td>RT @WilliamJoy: New: 8 people who tested posit...</td>\n      <td>False</td>\n      <td>NaN</td>\n      <td>{'hashtags': [], 'symbols': [], 'user_mentions...</td>\n      <td>NaN</td>\n      <td>{'iso_language_code': 'en', 'result_type': 're...</td>\n      <td>&lt;a href=\"https://mobile.twitter.com\" rel=\"nofo...</td>\n      <td>...</td>\n      <td>en</td>\n      <td>Dallas Cowboys</td>\n      <td>168360685</td>\n      <td>NaN</td>\n      <td>NaN</td>\n      <td>NaN</td>\n      <td>1.329177e+18</td>\n      <td>RT @WilliamJoy: New: 8 people who tested posit...</td>\n      <td>[]</td>\n      <td>William Joy</td>\n    </tr>\n    <tr>\n      <th>399</th>\n      <td>Thu Nov 19 00:47:55 +0000 2020</td>\n      <td>1329224854948753410</td>\n      <td>1329224854948753410</td>\n      <td>RT @WilliamJoy: New: 8 people who tested posit...</td>\n      <td>False</td>\n      <td>NaN</td>\n      <td>{'hashtags': [], 'symbols': [], 'user_mentions...</td>\n      <td>NaN</td>\n      <td>{'iso_language_code': 'en', 'result_type': 're...</td>\n      <td>&lt;a href=\"http://itunes.apple.com/us/app/twitte...</td>\n      <td>...</td>\n      <td>en</td>\n      <td>Dallas Cowboys</td>\n      <td>27933062</td>\n      <td>NaN</td>\n      <td>NaN</td>\n      <td>NaN</td>\n      <td>1.329177e+18</td>\n      <td>RT @WilliamJoy: New: 8 people who tested posit...</td>\n      <td>[]</td>\n      <td>William Joy</td>\n    </tr>\n  </tbody>\n</table>\n<p>400 rows × 35 columns</p>\n</div>"
     },
     "metadata": {},
     "execution_count": 159
    }
   ],
   "source": [
    "football_feed_df[\"hashtags\"] = hashtags\n",
    "football_feed_df[\"user_mentions\"] = user_mentions\n",
    "football_feed_df"
   ]
  },
  {
   "cell_type": "code",
   "execution_count": 160,
   "metadata": {},
   "outputs": [],
   "source": [
    "def clean_tweet(text):  \n",
    "\n",
    "    url = re.compile('https://.+')\n",
    "    rt = re.compile(\"RT\")\n",
    "    user = re.compile('@\\S+\\s')\n",
    " \n",
    "    #'(RT|@.*\\s|https://.+)'\n",
    "\n",
    "    text = url.sub(\"\", text)\n",
    "    text = rt.sub(\"\", text)\n",
    "    text = user.sub(\"\", text)\n",
    "\n",
    "    return text\n",
    "\n",
    "football_feed_df[\"full_text\"] = football_feed_df[\"full_text\"].apply(clean_tweet)"
   ]
  },
  {
   "cell_type": "code",
   "execution_count": 161,
   "metadata": {},
   "outputs": [],
   "source": [
    "def emoji_retriever(text):\n",
    "      return [(char, emoji.demojize(char)) for char in text if char in emoji.UNICODE_EMOJI]\n",
    "\n",
    "football_feed_df[\"emoji\"] = football_feed_df[\"full_text\"].apply(emoji_retriever)"
   ]
  },
  {
   "cell_type": "code",
   "execution_count": 182,
   "metadata": {},
   "outputs": [],
   "source": [
    "contraction_patterns = [(r'won\\'t', 'will not'), (r'can\\'t', 'cannot'),\n",
    "(r'haven\\'t', 'have not'),\n",
    "(r'(\\w+)\\'ll', '\\g<1> will'),\n",
    "(r'(\\w+)\\'re', '\\g<1> are')]\n",
    "\n",
    "class contraction_replacer(object):\n",
    "    def __init__(self, contraction_patterns):\n",
    "        self._contraction_regexes = [(re.compile(p), replaced_text) for p, replaced_text in contraction_patterns]\n",
    "\n",
    "    def do_contraction_normalization(self, text):\n",
    "        for contraction_regex, replaced_text in self._contraction_regexes:\n",
    "            text = contraction_regex.sub(replaced_text, text)\n",
    "        return text\n",
    "\n",
    "def preprocess_text(text):\n",
    "    \n",
    "    contraction_patterns = [(r'won\\'t', 'will not'), (r'can\\'t', 'cannot'),\n",
    "    (r'haven\\'t', 'have not'),\n",
    "    (r'(\\w+)\\'ll', '\\g<1> will'),\n",
    "    (r'(\\w+)\\'re', '\\g<1> are')]\n",
    "\n",
    "    replacer = contraction_replacer(contraction_patterns)\n",
    "    text = replacer.do_contraction_normalization(text)\n",
    "    text = nltk.tokenize.word_tokenize(text)\n",
    "\n",
    "    stop_words = set(stopwords.words('english')) \n",
    "    \n",
    "    # lemmatization\n",
    "    wnlemma = WordNetLemmatizer()\n",
    "    lemma_text = []\n",
    "    for word in text:\n",
    "        if word in stop_words:\n",
    "            continue\n",
    "        lemma_text.append(wnlemma.lemmatize(word))\n",
    "    lemma_text = \" \".join(lemma_text)\n",
    "\n",
    "    return lemma_text\n",
    "\n",
    "football_feed_df[\"processed_text\"] = football_feed_df[\"full_text\"].apply(preprocess_text)"
   ]
  },
  {
   "cell_type": "code",
   "execution_count": 185,
   "metadata": {},
   "outputs": [],
   "source": [
    "# DataFrame to csv\n",
    "\n",
    "football_feed_df.to_csv('football_feed_df.csv')"
   ]
  },
  {
   "cell_type": "code",
   "execution_count": 183,
   "metadata": {},
   "outputs": [],
   "source": [
    "def sentiment_analysis(text):\n",
    "    text = \" \".join(text[\"processed_text\"])\n",
    "    text = TextBlob(text)\n",
    "\n",
    "    return text.sentiment.polarity\n",
    "\n",
    "teams_df = football_feed_df[[\"processed_text\", \"team\"]].groupby(\"team\")\n",
    "sentiments = teams_df.apply(sentiment_analysis)"
   ]
  },
  {
   "cell_type": "markdown",
   "metadata": {},
   "source": [
    "# Team Sentiment Analysis\n",
    "\n",
    "Below represents the relative polarity of each team from each team on Twitter."
   ]
  },
  {
   "cell_type": "code",
   "execution_count": 184,
   "metadata": {},
   "outputs": [
    {
     "output_type": "execute_result",
     "data": {
      "text/plain": [
       "team\n",
       "Bears      0.119359\n",
       "Chiefs     0.131724\n",
       "Cowboys    0.108805\n",
       "Eagles     0.140848\n",
       "Packers    0.117030\n",
       "Raiders    0.135659\n",
       "dtype: float64"
      ]
     },
     "metadata": {},
     "execution_count": 184
    }
   ],
   "source": [
    "sentiments"
   ]
  }
 ],
 "metadata": {
  "kernelspec": {
   "display_name": "Python 3",
   "language": "python",
   "name": "python3"
  },
  "language_info": {
   "codemirror_mode": {
    "name": "ipython",
    "version": 3
   },
   "file_extension": ".py",
   "mimetype": "text/x-python",
   "name": "python",
   "nbconvert_exporter": "python",
   "pygments_lexer": "ipython3",
   "version": "3.7.6-final"
  },
  "toc": {
   "base_numbering": 1,
   "nav_menu": {},
   "number_sections": false,
   "sideBar": true,
   "skip_h1_title": false,
   "title_cell": "Table of Contents",
   "title_sidebar": "Contents",
   "toc_cell": false,
   "toc_position": {},
   "toc_section_display": true,
   "toc_window_display": false
  },
  "varInspector": {
   "cols": {
    "lenName": 16,
    "lenType": 16,
    "lenVar": 40
   },
   "kernels_config": {
    "python": {
     "delete_cmd_postfix": "",
     "delete_cmd_prefix": "del ",
     "library": "var_list.py",
     "varRefreshCmd": "print(var_dic_list())"
    },
    "r": {
     "delete_cmd_postfix": ") ",
     "delete_cmd_prefix": "rm(",
     "library": "var_list.r",
     "varRefreshCmd": "cat(var_dic_list()) "
    }
   },
   "types_to_exclude": [
    "module",
    "function",
    "builtin_function_or_method",
    "instance",
    "_Feature"
   ],
   "window_display": false
  }
 },
 "nbformat": 4,
 "nbformat_minor": 2
}