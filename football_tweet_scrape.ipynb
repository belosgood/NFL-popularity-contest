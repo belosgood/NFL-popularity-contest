{
 "cells": [
  {
   "cell_type": "markdown",
   "metadata": {},
   "source": [
    "[twitter api reference index](https://developer.twitter.com/en/docs/api-reference-index)\n",
    "\n",
    "\n",
    "# POST oauth2/token\n",
    "Allows a registered application to obtain an OAuth 2 Bearer Token, which can be used to make API requests on an application's own behalf, without a user context.\n",
    "https://developer.twitter.com/en/docs/basics/authentication/api-reference/token\n"
   ]
  },
  {
   "cell_type": "markdown",
   "metadata": {},
   "source": []
  },
  {
   "cell_type": "code",
   "execution_count": 4,
   "metadata": {},
   "outputs": [],
   "source": [
    "import requests\n",
    "import base64\n",
    "from copy import deepcopy\n",
    "import pandas as pd\n",
    "import numpy as np\n",
    "from nltk.stem import WordNetLemmatizer\n",
    "from nltk.corpus import stopwords\n",
    "from textblob import TextBlob\n",
    "from bs4 import BeautifulSoup as bsoup\n",
    "import matplotlib.pyplot as plt\n",
    "import pandas as pd\n",
    "import numpy as np\n",
    "import nltk\n",
    "import re\n",
    "import ast\n",
    "import emoji"
   ]
  },
  {
   "cell_type": "code",
   "execution_count": 2,
   "metadata": {},
   "outputs": [],
   "source": [
    "client_key = \"get your client key from your twitter acct\"\n",
    "client_secret = \"get your client key from your twitter acct\" "
   ]
  },
  {
   "cell_type": "code",
   "execution_count": 5,
   "metadata": {},
   "outputs": [],
   "source": [
    "key_secret = '{}:{}'.format(client_key, client_secret).encode('ascii')\n",
    "b64_encoded_key = base64.b64encode(key_secret)\n",
    "b64_encoded_key = b64_encoded_key.decode('ascii')"
   ]
  },
  {
   "cell_type": "code",
   "execution_count": 6,
   "metadata": {},
   "outputs": [],
   "source": [
    "base_url = 'https://api.twitter.com/'\n",
    "auth_endpoint = base_url+'oauth2/token'\n",
    "\n",
    "auth_headers = { 'Authorization': 'Basic {}'.format(b64_encoded_key),\n",
    "                'Content-Type': 'application/x-www-form-urlencoded;charset=UTF-8'}\n",
    "\n",
    "auth_data = { 'grant_type': 'client_credentials'}"
   ]
  },
  {
   "cell_type": "markdown",
   "metadata": {},
   "source": [
    "Let's post to authentication endpoint and get the token to be used in subsequent REST API call"
   ]
  },
  {
   "cell_type": "code",
   "execution_count": 7,
   "metadata": {},
   "outputs": [
    {
     "output_type": "execute_result",
     "data": {
      "text/plain": [
       "200"
      ]
     },
     "metadata": {},
     "execution_count": 7
    }
   ],
   "source": [
    "response = requests.post(auth_endpoint, headers=auth_headers, data=auth_data)\n",
    "response.status_code"
   ]
  },
  {
   "cell_type": "code",
   "execution_count": 8,
   "metadata": {},
   "outputs": [
    {
     "output_type": "execute_result",
     "data": {
      "text/plain": [
       "{'token_type': 'bearer',\n",
       " 'access_token': 'AAAAAAAAAAAAAAAAAAAAAEskIQEAAAAAqkugIbkkPuB3XUUBhHAYkbYX4ik%3DjxVjLVRb5O9OUZ95hy8Z3cDHaTkA4j7VJM0Shx3GNLq2W8SdOA'}"
      ]
     },
     "metadata": {},
     "execution_count": 8
    }
   ],
   "source": [
    "json_data =  response.json()\n",
    "json_data"
   ]
  },
  {
   "cell_type": "code",
   "execution_count": 9,
   "metadata": {},
   "outputs": [],
   "source": [
    "access_token = json_data['access_token']"
   ]
  },
  {
   "cell_type": "markdown",
   "metadata": {},
   "source": [
    "# Get Tweets\n",
    "This is how we got search endpoint\n",
    "\n",
    "https://developer.twitter.com/en/docs/tweets/search/api-reference/get-search-tweets"
   ]
  },
  {
   "cell_type": "code",
   "execution_count": 10,
   "metadata": {},
   "outputs": [],
   "source": [
    "max_tweets=1000 #CHANGED TO 200 FOR TESTING - MUST BE at least 1000 for analysis\n",
    "tw_limit=100# we can get only 100 tweet per call with standard search api\n",
    "tweets = []"
   ]
  },
  {
   "cell_type": "code",
   "execution_count": 11,
   "metadata": {
    "tags": []
   },
   "outputs": [
    {
     "output_type": "stream",
     "name": "stdout",
     "text": [
      "searching tweets with id  < 1329443531694481411\n",
      "0 100\n",
      "searching tweets with id  < 1329435997503971329\n",
      "1 100\n",
      "searching tweets with id  < 1329427456558829568\n",
      "2 100\n",
      "searching tweets with id  < 1329420217181745160\n",
      "3 100\n",
      "searching tweets with id  < 1329407906836590594\n",
      "4 100\n",
      "searching tweets with id  < 1329398277880619008\n",
      "5 100\n",
      "searching tweets with id  < 1329380324388716544\n",
      "6 100\n",
      "searching tweets with id  < 1329349959305445376\n",
      "7 100\n",
      "searching tweets with id  < 1329329823873986571\n",
      "8 100\n",
      "searching tweets with id  < 1329502616842276865\n",
      "0 100\n",
      "searching tweets with id  < 1329451542794170371\n",
      "1 100\n",
      "searching tweets with id  < 1329306243983429633\n",
      "2 100\n",
      "searching tweets with id  < 1329245864729202693\n",
      "3 100\n",
      "searching tweets with id  < 1329197314142035969\n",
      "4 100\n",
      "searching tweets with id  < 1329147678471712769\n",
      "5 100\n",
      "searching tweets with id  < 1329097265768767501\n",
      "6 100\n",
      "searching tweets with id  < 1328959096545030148\n",
      "7 100\n",
      "searching tweets with id  < 1328851179598647303\n",
      "8 100\n",
      "searching tweets with id  < 1329477551585112065\n",
      "0 100\n",
      "searching tweets with id  < 1329476923324571655\n",
      "1 100\n",
      "searching tweets with id  < 1329475395004063745\n",
      "2 100\n",
      "searching tweets with id  < 1329473132151902210\n",
      "3 100\n",
      "searching tweets with id  < 1329470740928765952\n",
      "4 100\n",
      "searching tweets with id  < 1329469144031514626\n",
      "5 100\n",
      "searching tweets with id  < 1329466535958765572\n",
      "6 100\n",
      "searching tweets with id  < 1329464125890695173\n",
      "7 100\n",
      "searching tweets with id  < 1329461990251663360\n",
      "8 100\n",
      "searching tweets with id  < 1329433901744451584\n",
      "0 100\n",
      "searching tweets with id  < 1329429350685564933\n",
      "1 100\n",
      "searching tweets with id  < 1329423370492932096\n",
      "2 100\n",
      "searching tweets with id  < 1329417004634304512\n",
      "3 100\n",
      "searching tweets with id  < 1329410323632316417\n",
      "4 100\n",
      "searching tweets with id  < 1329398558496198656\n",
      "5 100\n",
      "searching tweets with id  < 1329385940243128324\n",
      "6 100\n",
      "searching tweets with id  < 1329369905741836291\n",
      "7 100\n",
      "searching tweets with id  < 1329355407467245569\n",
      "8 100\n",
      "searching tweets with id  < 1329456650537684992\n",
      "0 100\n",
      "searching tweets with id  < 1329453765196443650\n",
      "1 100\n",
      "searching tweets with id  < 1329450872624066567\n",
      "2 100\n",
      "searching tweets with id  < 1329447727294451716\n",
      "3 100\n",
      "searching tweets with id  < 1329445296347222025\n",
      "4 100\n",
      "searching tweets with id  < 1329442040178946048\n",
      "5 100\n",
      "searching tweets with id  < 1329439119634796553\n",
      "6 100\n",
      "searching tweets with id  < 1329436046241751041\n",
      "7 100\n",
      "searching tweets with id  < 1329432425735327747\n",
      "8 100\n",
      "searching tweets with id  < 1329606135675023362\n",
      "0 100\n",
      "searching tweets with id  < 1329578352080867328\n",
      "1 100\n",
      "searching tweets with id  < 1329550339226411009\n",
      "2 100\n",
      "searching tweets with id  < 1329524690973384704\n",
      "3 100\n",
      "searching tweets with id  < 1329507409887338496\n",
      "4 100\n",
      "searching tweets with id  < 1329486332004081666\n",
      "5 100\n",
      "searching tweets with id  < 1329459222254411777\n",
      "6 100\n",
      "searching tweets with id  < 1329421307084218369\n",
      "7 100\n",
      "searching tweets with id  < 1329307928772317184\n",
      "8 100\n"
     ]
    }
   ],
   "source": [
    "search_headers = {'Authorization': 'Bearer {}'.format(access_token)    \n",
    "}\n",
    "\n",
    "keywords = [\"Packers\",\"DaBears\",\"Eagles\", \"Cowboys\",\"Raiders\", \"ChiefsKingdom\"]\n",
    "\n",
    "for keyword in keywords:\n",
    "    #parameters popular and extended tweet mode\n",
    "    parameters = { 'q': keyword,\n",
    "                        'result_type': 'mixed',\n",
    "                    'count': tw_limit, \n",
    "                     'tweet_mode': 'extended'}\n",
    "\n",
    "    search_url = base_url+'1.1/search/tweets.json'\n",
    "\n",
    "    response = requests.get(search_url, headers=search_headers, params=parameters)\n",
    "    football_tweets = response.json()\n",
    "\n",
    "    for status in football_tweets['statuses']:\n",
    "        status[\"team\"] = keyword\n",
    "    tweets += football_tweets['statuses']\n",
    "    ids = [tw['id'] for tw in football_tweets['statuses']]\n",
    "    min_id = min(ids)\n",
    "    tw_ids = []\n",
    "    tw_ids+=ids\n",
    "\n",
    "    for  i in range(max_tweets//tw_limit -1):\n",
    "        parameters = { 'q': keyword,\n",
    "                        'result_type': 'mixed',\n",
    "                    'count': tw_limit,\n",
    "                    'tweet_mode': 'extended',\n",
    "                    'max_id': min(tw_ids)-1\n",
    "                     }\n",
    "        print(\"searching tweets with id  < {}\".format(min_id))\n",
    "        search_url = base_url+'1.1/search/tweets.json'\n",
    "        response = requests.get(search_url, headers=search_headers, params=parameters)\n",
    "        football_tweets = response.json()\n",
    "        ids = [tw['id'] for tw in football_tweets['statuses']]\n",
    "        tw_ids+=ids\n",
    "        print(i, len(football_tweets['statuses']))\n",
    "        min_id = min(ids)\n",
    "        for status in football_tweets['statuses']:\n",
    "            status[\"team\"] = keyword\n",
    "        tweets += football_tweets['statuses']    "
   ]
  },
  {
   "cell_type": "markdown",
   "metadata": {},
   "source": [
    "As per twitter api documentation we can use\n",
    "\n",
    "max_id:Returns results with an ID less than (that is, older than) or equal to the specified ID.\n",
    "\n",
    "to get older tweets"
   ]
  },
  {
   "cell_type": "code",
   "execution_count": 12,
   "metadata": {
    "tags": []
   },
   "outputs": [
    {
     "output_type": "stream",
     "name": "stdout",
     "text": [
      "Total tweets retrieved= 6000\n"
     ]
    }
   ],
   "source": [
    "print('Total tweets retrieved= {}'.format(len(tweets)))"
   ]
  },
  {
   "cell_type": "markdown",
   "metadata": {},
   "source": [
    "# Let's print some tweets"
   ]
  },
  {
   "cell_type": "code",
   "execution_count": 13,
   "metadata": {},
   "outputs": [],
   "source": [
    "import pprint #pretty-print” arbitrary Python data structures. Tweets object has hierarchical struture\n",
    "max_tweet_to_print=4"
   ]
  },
  {
   "cell_type": "code",
   "execution_count": 14,
   "metadata": {
    "tags": []
   },
   "outputs": [
    {
     "output_type": "stream",
     "name": "stdout",
     "text": [
      "[{'contributors': None,\n  'coordinates': None,\n  'created_at': 'Thu Nov 19 15:16:52 +0000 2020',\n  'display_text_range': [0, 202],\n  'entities': {'hashtags': [],\n               'media': [{'display_url': 'pic.twitter.com/xlo5NGg6iD',\n                          'expanded_url': 'https://twitter.com/briebriejoy/status/1329443531694481411/photo/1',\n                          'id': 1329443527311450121,\n                          'id_str': '1329443527311450121',\n                          'indices': [203, 226],\n                          'media_url': 'http://pbs.twimg.com/media/EnMh2CpXYAkQrUs.jpg',\n                          'media_url_https': 'https://pbs.twimg.com/media/EnMh2CpXYAkQrUs.jpg',\n                          'sizes': {'large': {'h': 444,\n                                              'resize': 'fit',\n                                              'w': 1125},\n                                    'medium': {'h': 444,\n                                               'resize': 'fit',\n                                               'w': 1125},\n                                    'small': {'h': 268,\n                                              'resize': 'fit',\n                                              'w': 680},\n                                    'thumb': {'h': 150,\n                                              'resize': 'crop',\n                                              'w': 150}},\n                          'type': 'photo',\n                          'url': 'https://t.co/xlo5NGg6iD'}],\n               'symbols': [],\n               'urls': [{'display_url': 'twitter.com/dmregister/sta…',\n                         'expanded_url': 'https://twitter.com/dmregister/status/1329431739475832835',\n                         'indices': [179, 202],\n                         'url': 'https://t.co/wef0Do6kyu'}],\n               'user_mentions': []},\n  'extended_entities': {'media': [{'display_url': 'pic.twitter.com/xlo5NGg6iD',\n                                   'expanded_url': 'https://twitter.com/briebriejoy/status/1329443531694481411/photo/1',\n                                   'id': 1329443527311450121,\n                                   'id_str': '1329443527311450121',\n                                   'indices': [203, 226],\n                                   'media_url': 'http://pbs.twimg.com/media/EnMh2CpXYAkQrUs.jpg',\n                                   'media_url_https': 'https://pbs.twimg.com/media/EnMh2CpXYAkQrUs.jpg',\n                                   'sizes': {'large': {'h': 444,\n                                                       'resize': 'fit',\n                                                       'w': 1125},\n                                             'medium': {'h': 444,\n                                                        'resize': 'fit',\n                                                        'w': 1125},\n                                             'small': {'h': 268,\n                                                       'resize': 'fit',\n                                                       'w': 680},\n                                             'thumb': {'h': 150,\n                                                       'resize': 'crop',\n                                                       'w': 150}},\n                                   'type': 'photo',\n                                   'url': 'https://t.co/xlo5NGg6iD'},\n                                  {'display_url': 'pic.twitter.com/xlo5NGg6iD',\n                                   'expanded_url': 'https://twitter.com/briebriejoy/status/1329443531694481411/photo/1',\n                                   'id': 1329443527324033027,\n                                   'id_str': '1329443527324033027',\n                                   'indices': [203, 226],\n                                   'media_url': 'http://pbs.twimg.com/media/EnMh2CsXYAMDpPD.jpg',\n                                   'media_url_https': 'https://pbs.twimg.com/media/EnMh2CsXYAMDpPD.jpg',\n                                   'sizes': {'large': {'h': 960,\n                                                       'resize': 'fit',\n                                                       'w': 1125},\n                                             'medium': {'h': 960,\n                                                        'resize': 'fit',\n                                                        'w': 1125},\n                                             'small': {'h': 580,\n                                                       'resize': 'fit',\n                                                       'w': 680},\n                                             'thumb': {'h': 150,\n                                                       'resize': 'crop',\n                                                       'w': 150}},\n                                   'type': 'photo',\n                                   'url': 'https://t.co/xlo5NGg6iD'},\n                                  {'display_url': 'pic.twitter.com/xlo5NGg6iD',\n                                   'expanded_url': 'https://twitter.com/briebriejoy/status/1329443531694481411/photo/1',\n                                   'id': 1329443527357509634,\n                                   'id_str': '1329443527357509634',\n                                   'indices': [203, 226],\n                                   'media_url': 'http://pbs.twimg.com/media/EnMh2C0WMAIN_vj.jpg',\n                                   'media_url_https': 'https://pbs.twimg.com/media/EnMh2C0WMAIN_vj.jpg',\n                                   'sizes': {'large': {'h': 954,\n                                                       'resize': 'fit',\n                                                       'w': 1125},\n                                             'medium': {'h': 954,\n                                                        'resize': 'fit',\n                                                        'w': 1125},\n                                             'small': {'h': 577,\n                                                       'resize': 'fit',\n                                                       'w': 680},\n                                             'thumb': {'h': 150,\n                                                       'resize': 'crop',\n                                                       'w': 150}},\n                                   'type': 'photo',\n                                   'url': 'https://t.co/xlo5NGg6iD'}]},\n  'favorite_count': 2744,\n  'favorited': False,\n  'full_text': 'Thinking about how many Iowa meat packers voted for Bernie who '\n               'would’ve given them ownership stake in their business, greater '\n               'control over their conditions, and Medicare for All. '\n               'https://t.co/wef0Do6kyu https://t.co/xlo5NGg6iD',\n  'geo': None,\n  'id': 1329443531694481411,\n  'id_str': '1329443531694481411',\n  'in_reply_to_screen_name': None,\n  'in_reply_to_status_id': None,\n  'in_reply_to_status_id_str': None,\n  'in_reply_to_user_id': None,\n  'in_reply_to_user_id_str': None,\n  'is_quote_status': True,\n  'lang': 'en',\n  'metadata': {'iso_language_code': 'en', 'result_type': 'popular'},\n  'place': None,\n  'possibly_sensitive': False,\n  'quoted_status': {'contributors': None,\n                    'coordinates': None,\n                    'created_at': 'Thu Nov 19 14:30:00 +0000 2020',\n                    'display_text_range': [0, 242],\n                    'entities': {'hashtags': [],\n                                 'symbols': [],\n                                 'urls': [{'display_url': 'desmoinesregister.com/story/money/ag…',\n                                           'expanded_url': 'https://www.desmoinesregister.com/story/money/agriculture/2020/11/19/lawsuit-tyson-iowa-plant-managers-made-bets-on-workers-getting-covid/3775558001/',\n                                           'indices': [219, 242],\n                                           'url': 'https://t.co/goPttTmbRn'}],\n                                 'user_mentions': [{'id': 1185222369234825216,\n                                                    'id_str': '1185222369234825216',\n                                                    'indices': [201, 217],\n                                                    'name': 'Iowa Capital '\n                                                            'Dispatch',\n                                                    'screen_name': 'IowaCapDispatch'}]},\n                    'favorite_count': 185,\n                    'favorited': False,\n                    'full_text': \"A lawsuit claims that the manager at Tyson's \"\n                                 'Waterloo plant a betting pool for '\n                                 'supervisors and managers to wager how many '\n                                 'plant employees would test positive for '\n                                 'COVID-19, according to a report in the '\n                                 '@IowaCapDispatch.\\xa0https://t.co/goPttTmbRn',\n                    'geo': None,\n                    'id': 1329431739475832835,\n                    'id_str': '1329431739475832835',\n                    'in_reply_to_screen_name': None,\n                    'in_reply_to_status_id': None,\n                    'in_reply_to_status_id_str': None,\n                    'in_reply_to_user_id': None,\n                    'in_reply_to_user_id_str': None,\n                    'is_quote_status': False,\n                    'lang': 'en',\n                    'metadata': {'iso_language_code': 'en',\n                                 'result_type': 'popular'},\n                    'place': None,\n                    'possibly_sensitive': False,\n                    'retweet_count': 107,\n                    'retweeted': False,\n                    'source': '<a href=\"http://www.socialnewsdesk.com\" '\n                              'rel=\"nofollow\">SocialNewsDesk</a>',\n                    'truncated': False,\n                    'user': {'contributors_enabled': False,\n                             'created_at': 'Tue Feb 19 04:56:13 +0000 2008',\n                             'default_profile': False,\n                             'default_profile_image': False,\n                             'description': 'The news Iowans have depended '\n                                            'upon since 1849. Winner of 17 '\n                                            'Pulitzer Prizes. Support local '\n                                            'journalism by subscribing at '\n                                            'https://t.co/M3wA9tGwwF.',\n                             'entities': {'description': {'urls': [{'display_url': 'bit.ly/2FdH7Xn',\n                                                                    'expanded_url': 'http://bit.ly/2FdH7Xn',\n                                                                    'indices': [120,\n                                                                                143],\n                                                                    'url': 'https://t.co/M3wA9tGwwF'}]},\n                                          'url': {'urls': [{'display_url': 'DesMoinesRegister.com',\n                                                            'expanded_url': 'http://DesMoinesRegister.com',\n                                                            'indices': [0, 23],\n                                                            'url': 'https://t.co/l1zKlTUG8R'}]}},\n                             'favourites_count': 1340,\n                             'follow_request_sent': None,\n                             'followers_count': 160324,\n                             'following': None,\n                             'friends_count': 4912,\n                             'geo_enabled': True,\n                             'has_extended_profile': False,\n                             'id': 13657922,\n                             'id_str': '13657922',\n                             'is_translation_enabled': False,\n                             'is_translator': False,\n                             'lang': None,\n                             'listed_count': 2374,\n                             'location': 'Des Moines, Iowa, USA',\n                             'name': 'Des Moines Register',\n                             'notifications': None,\n                             'profile_background_color': 'FFFFFF',\n                             'profile_background_image_url': 'http://abs.twimg.com/images/themes/theme1/bg.png',\n                             'profile_background_image_url_https': 'https://abs.twimg.com/images/themes/theme1/bg.png',\n                             'profile_background_tile': False,\n                             'profile_banner_url': 'https://pbs.twimg.com/profile_banners/13657922/1559277744',\n                             'profile_image_url': 'http://pbs.twimg.com/profile_images/923667780649357314/YTM1dNv6_normal.jpg',\n                             'profile_image_url_https': 'https://pbs.twimg.com/profile_images/923667780649357314/YTM1dNv6_normal.jpg',\n                             'profile_link_color': '0000FF',\n                             'profile_sidebar_border_color': '87BC44',\n                             'profile_sidebar_fill_color': 'E0FF92',\n                             'profile_text_color': '000000',\n                             'profile_use_background_image': True,\n                             'protected': False,\n                             'screen_name': 'DMRegister',\n                             'statuses_count': 117155,\n                             'time_zone': None,\n                             'translator_type': 'none',\n                             'url': 'https://t.co/l1zKlTUG8R',\n                             'utc_offset': None,\n                             'verified': True}},\n  'quoted_status_id': 1329431739475832835,\n  'quoted_status_id_str': '1329431739475832835',\n  'retweet_count': 329,\n  'retweeted': False,\n  'source': '<a href=\"http://twitter.com/download/iphone\" '\n            'rel=\"nofollow\">Twitter for iPhone</a>',\n  'team': 'Packers',\n  'truncated': False,\n  'user': {'contributors_enabled': False,\n           'created_at': 'Sat Apr 06 22:27:51 +0000 2013',\n           'default_profile': False,\n           'default_profile_image': False,\n           'description': 'Former National Press Secretary for '\n                          '#BernieSanders2020. Co-host @BadFaithPod, '\n                          'Contributing Editor @curaffairs. Former Senior '\n                          'Politics Editor @theintercept',\n           'entities': {'description': {'urls': []},\n                        'url': {'urls': [{'display_url': 'patreon.com/badfaithpodcast',\n                                          'expanded_url': 'https://www.patreon.com/badfaithpodcast',\n                                          'indices': [0, 23],\n                                          'url': 'https://t.co/7M04QT5ytf'}]}},\n           'favourites_count': 48082,\n           'follow_request_sent': None,\n           'followers_count': 328249,\n           'following': None,\n           'friends_count': 3408,\n           'geo_enabled': True,\n           'has_extended_profile': True,\n           'id': 1332630685,\n           'id_str': '1332630685',\n           'is_translation_enabled': False,\n           'is_translator': False,\n           'lang': None,\n           'listed_count': 1815,\n           'location': 'Manhattan, NY',\n           'name': 'BJG 👑',\n           'notifications': None,\n           'profile_background_color': '000000',\n           'profile_background_image_url': 'http://abs.twimg.com/images/themes/theme1/bg.png',\n           'profile_background_image_url_https': 'https://abs.twimg.com/images/themes/theme1/bg.png',\n           'profile_background_tile': False,\n           'profile_banner_url': 'https://pbs.twimg.com/profile_banners/1332630685/1601391160',\n           'profile_image_url': 'http://pbs.twimg.com/profile_images/1309622973947674624/ucD15yFM_normal.jpg',\n           'profile_image_url_https': 'https://pbs.twimg.com/profile_images/1309622973947674624/ucD15yFM_normal.jpg',\n           'profile_link_color': '1B95E0',\n           'profile_sidebar_border_color': '000000',\n           'profile_sidebar_fill_color': '000000',\n           'profile_text_color': '000000',\n           'profile_use_background_image': False,\n           'protected': False,\n           'screen_name': 'briebriejoy',\n           'statuses_count': 31762,\n           'time_zone': None,\n           'translator_type': 'none',\n           'url': 'https://t.co/7M04QT5ytf',\n           'utc_offset': None,\n           'verified': True}},\n {'contributors': None,\n  'coordinates': None,\n  'created_at': 'Thu Nov 19 21:19:15 +0000 2020',\n  'display_text_range': [0, 72],\n  'entities': {'hashtags': [], 'symbols': [], 'urls': [], 'user_mentions': []},\n  'favorite_count': 3856,\n  'favorited': False,\n  'full_text': \"Packers' WR Davante Adams did not practice today due to an \"\n               'ankle injury.',\n  'geo': None,\n  'id': 1329534730115702787,\n  'id_str': '1329534730115702787',\n  'in_reply_to_screen_name': None,\n  'in_reply_to_status_id': None,\n  'in_reply_to_status_id_str': None,\n  'in_reply_to_user_id': None,\n  'in_reply_to_user_id_str': None,\n  'is_quote_status': False,\n  'lang': 'en',\n  'metadata': {'iso_language_code': 'en', 'result_type': 'popular'},\n  'place': None,\n  'retweet_count': 186,\n  'retweeted': False,\n  'source': '<a href=\"https://mobile.twitter.com\" rel=\"nofollow\">Twitter Web '\n            'App</a>',\n  'team': 'Packers',\n  'truncated': False,\n  'user': {'contributors_enabled': False,\n           'created_at': 'Fri Jun 26 22:55:28 +0000 2009',\n           'default_profile': False,\n           'default_profile_image': False,\n           'description': 'ESPN Senior NFL Insider. \\n'\n                          'Interview & Podcast Requests: ESPNPR@espn.com\\n'\n                          'Host of the Adam Schefter Podcast\\n'\n                          'https://t.co/oz43ix5jZU',\n           'entities': {'description': {'urls': [{'display_url': 'Instagram.com/AdamSchefter',\n                                                  'expanded_url': 'http://Instagram.com/AdamSchefter',\n                                                  'indices': [106, 129],\n                                                  'url': 'https://t.co/oz43ix5jZU'}]},\n                        'url': {'urls': [{'display_url': 'open.spotify.com/show/42oVKqEPu…',\n                                          'expanded_url': 'https://open.spotify.com/show/42oVKqEPuf4kFZrXCO7Oh9?si=O1I6pHOYRh2FwJ1R0WbMSQ',\n                                          'indices': [0, 23],\n                                          'url': 'https://t.co/OUz4GsIjV2'}]}},\n           'favourites_count': 634,\n           'follow_request_sent': None,\n           'followers_count': 8031289,\n           'following': None,\n           'friends_count': 3289,\n           'geo_enabled': True,\n           'has_extended_profile': True,\n           'id': 51263592,\n           'id_str': '51263592',\n           'is_translation_enabled': True,\n           'is_translator': False,\n           'lang': None,\n           'listed_count': 49811,\n           'location': 'New York',\n           'name': 'Adam Schefter',\n           'notifications': None,\n           'profile_background_color': '2573B8',\n           'profile_background_image_url': 'http://abs.twimg.com/images/themes/theme4/bg.gif',\n           'profile_background_image_url_https': 'https://abs.twimg.com/images/themes/theme4/bg.gif',\n           'profile_background_tile': False,\n           'profile_banner_url': 'https://pbs.twimg.com/profile_banners/51263592/1466784770',\n           'profile_image_url': 'http://pbs.twimg.com/profile_images/793924061843914752/ycm8ibEE_normal.jpg',\n           'profile_image_url_https': 'https://pbs.twimg.com/profile_images/793924061843914752/ycm8ibEE_normal.jpg',\n           'profile_link_color': '3B94D9',\n           'profile_sidebar_border_color': 'FFFFFF',\n           'profile_sidebar_fill_color': '95E8EC',\n           'profile_text_color': '16101F',\n           'profile_use_background_image': True,\n           'protected': False,\n           'screen_name': 'AdamSchefter',\n           'statuses_count': 52439,\n           'time_zone': None,\n           'translator_type': 'none',\n           'url': 'https://t.co/OUz4GsIjV2',\n           'utc_offset': None,\n           'verified': True}},\n {'contributors': None,\n  'coordinates': None,\n  'created_at': 'Fri Nov 20 20:19:18 +0000 2020',\n  'display_text_range': [0, 158],\n  'entities': {'hashtags': [{'indices': [0, 8], 'text': 'Packers'},\n                            {'indices': [95, 101], 'text': 'Colts'}],\n               'symbols': [],\n               'urls': [],\n               'user_mentions': []},\n  'favorite_count': 727,\n  'favorited': False,\n  'full_text': '#Packers WR Davante Adams is officially off the injury report '\n               'and will play Sunday against the #Colts, while WR Allen Lazard '\n               '(core) is listed as questionable.',\n  'geo': None,\n  'id': 1329882030855892998,\n  'id_str': '1329882030855892998',\n  'in_reply_to_screen_name': None,\n  'in_reply_to_status_id': None,\n  'in_reply_to_status_id_str': None,\n  'in_reply_to_user_id': None,\n  'in_reply_to_user_id_str': None,\n  'is_quote_status': False,\n  'lang': 'en',\n  'metadata': {'iso_language_code': 'en', 'result_type': 'popular'},\n  'place': None,\n  'retweet_count': 74,\n  'retweeted': False,\n  'source': '<a href=\"https://about.twitter.com/products/tweetdeck\" '\n            'rel=\"nofollow\">TweetDeck</a>',\n  'team': 'Packers',\n  'truncated': False,\n  'user': {'contributors_enabled': False,\n           'created_at': 'Tue Apr 28 15:12:14 +0000 2009',\n           'default_profile': False,\n           'default_profile_image': False,\n           'description': 'Reporter, @NFLNetwork and https://t.co/r2IXpGUBaj. '\n                          'Host, @SiriusXMNFL. Husband, @SaraPelissero. Dad, '\n                          'the best girls ever.',\n           'entities': {'description': {'urls': [{'display_url': 'NFL.com',\n                                                  'expanded_url': 'http://NFL.com',\n                                                  'indices': [26, 49],\n                                                  'url': 'https://t.co/r2IXpGUBaj'}]}},\n           'favourites_count': 0,\n           'follow_request_sent': None,\n           'followers_count': 210162,\n           'following': None,\n           'friends_count': 1172,\n           'geo_enabled': True,\n           'has_extended_profile': False,\n           'id': 36089053,\n           'id_str': '36089053',\n           'is_translation_enabled': False,\n           'is_translator': False,\n           'lang': None,\n           'listed_count': 4173,\n           'location': '',\n           'name': 'Tom Pelissero',\n           'notifications': None,\n           'profile_background_color': '020D17',\n           'profile_background_image_url': 'http://abs.twimg.com/images/themes/theme1/bg.png',\n           'profile_background_image_url_https': 'https://abs.twimg.com/images/themes/theme1/bg.png',\n           'profile_background_tile': False,\n           'profile_banner_url': 'https://pbs.twimg.com/profile_banners/36089053/1588987245',\n           'profile_image_url': 'http://pbs.twimg.com/profile_images/1033154816816672768/7iNueHDC_normal.jpg',\n           'profile_image_url_https': 'https://pbs.twimg.com/profile_images/1033154816816672768/7iNueHDC_normal.jpg',\n           'profile_link_color': 'C71C1C',\n           'profile_sidebar_border_color': 'FFFFFF',\n           'profile_sidebar_fill_color': 'DADFE3',\n           'profile_text_color': '050505',\n           'profile_use_background_image': False,\n           'protected': False,\n           'screen_name': 'TomPelissero',\n           'statuses_count': 71727,\n           'time_zone': None,\n           'translator_type': 'none',\n           'url': None,\n           'utc_offset': None,\n           'verified': True}},\n {'contributors': None,\n  'coordinates': None,\n  'created_at': 'Sat Nov 21 08:07:18 +0000 2020',\n  'display_text_range': [14, 310],\n  'entities': {'hashtags': [{'indices': [33, 37], 'text': 'ALR'},\n                            {'indices': [123, 134], 'text': 'RichmondBC'},\n                            {'indices': [300, 306], 'text': 'SiteC'}],\n               'symbols': [],\n               'urls': [],\n               'user_mentions': [{'id': 3666395597,\n                                  'id_str': '3666395597',\n                                  'indices': [0, 13],\n                                  'name': 'Notwhatuthink',\n                                  'screen_name': 'marcellemroy'}]},\n  'favorite_count': 0,\n  'favorited': False,\n  'full_text': '@marcellemroy Highlights are the #ALR &amp; BC Food Security, '\n               'including the KPU Farm School on the Garden City Lands. Then '\n               '#RichmondBC Garry Point &amp; Terra Nova Parks, Trails, Gulf '\n               'of Georgia Cannery &amp; Britannia Shipyard. On the down side '\n               'loss of BC Packers Cannery for a seafood market &amp; #SiteC '\n               'Dam',\n  'geo': None,\n  'id': 1330060203845410817,\n  'id_str': '1330060203845410817',\n  'in_reply_to_screen_name': 'marcellemroy',\n  'in_reply_to_status_id': 1330016847123542017,\n  'in_reply_to_status_id_str': '1330016847123542017',\n  'in_reply_to_user_id': 3666395597,\n  'in_reply_to_user_id_str': '3666395597',\n  'is_quote_status': False,\n  'lang': 'en',\n  'metadata': {'iso_language_code': 'en', 'result_type': 'recent'},\n  'place': None,\n  'retweet_count': 0,\n  'retweeted': False,\n  'source': '<a href=\"https://mobile.twitter.com\" rel=\"nofollow\">Twitter Web '\n            'App</a>',\n  'team': 'Packers',\n  'truncated': False,\n  'user': {'contributors_enabled': False,\n           'created_at': 'Thu Aug 29 05:53:36 +0000 2013',\n           'default_profile': True,\n           'default_profile_image': False,\n           'description': 'A founder BC Ag Land Reserve, Agroecologist, BScAg, '\n                          'EcoSocialist, Richmond Council, Groundfish '\n                          'Authority, Lulu Is District Energy, grass fed beef, '\n                          'heirloom seed',\n           'entities': {'description': {'urls': []},\n                        'url': {'urls': [{'display_url': 'stevesfarm.com',\n                                          'expanded_url': 'http://www.stevesfarm.com',\n                                          'indices': [0, 22],\n                                          'url': 'http://t.co/s2Yd3bMbM4'}]}},\n           'favourites_count': 37503,\n           'follow_request_sent': None,\n           'followers_count': 8972,\n           'following': None,\n           'friends_count': 8109,\n           'geo_enabled': False,\n           'has_extended_profile': False,\n           'id': 1709275855,\n           'id_str': '1709275855',\n           'is_translation_enabled': False,\n           'is_translator': False,\n           'lang': None,\n           'listed_count': 212,\n           'location': 'Steveston, BC',\n           'name': 'ClimateChange Steves',\n           'notifications': None,\n           'profile_background_color': 'C0DEED',\n           'profile_background_image_url': 'http://abs.twimg.com/images/themes/theme1/bg.png',\n           'profile_background_image_url_https': 'https://abs.twimg.com/images/themes/theme1/bg.png',\n           'profile_background_tile': False,\n           'profile_banner_url': 'https://pbs.twimg.com/profile_banners/1709275855/1377831455',\n           'profile_image_url': 'http://pbs.twimg.com/profile_images/378800000731324760/12a6cffc2a4e9c9df822960a9ae5e5d0_normal.jpeg',\n           'profile_image_url_https': 'https://pbs.twimg.com/profile_images/378800000731324760/12a6cffc2a4e9c9df822960a9ae5e5d0_normal.jpeg',\n           'profile_link_color': '1DA1F2',\n           'profile_sidebar_border_color': 'C0DEED',\n           'profile_sidebar_fill_color': 'DDEEF6',\n           'profile_text_color': '333333',\n           'profile_use_background_image': True,\n           'protected': False,\n           'screen_name': 'Harold_Steves',\n           'statuses_count': 24873,\n           'time_zone': None,\n           'translator_type': 'none',\n           'url': 'http://t.co/s2Yd3bMbM4',\n           'utc_offset': None,\n           'verified': False}}]\n"
     ]
    }
   ],
   "source": [
    "pprint.pprint(tweets[0:max_tweet_to_print])"
   ]
  },
  {
   "cell_type": "code",
   "execution_count": 15,
   "metadata": {
    "tags": []
   },
   "outputs": [
    {
     "output_type": "stream",
     "name": "stdout",
     "text": [
      "Thinking about how many Iowa meat packers voted for Bernie who would’ve given them ownership stake in their business, greater control over their conditions, and Medicare for All. https://t.co/wef0Do6kyu https://t.co/xlo5NGg6iD\n\nPackers' WR Davante Adams did not practice today due to an ankle injury.\n\n#Packers WR Davante Adams is officially off the injury report and will play Sunday against the #Colts, while WR Allen Lazard (core) is listed as questionable.\n\n@marcellemroy Highlights are the #ALR &amp; BC Food Security, including the KPU Farm School on the Garden City Lands. Then #RichmondBC Garry Point &amp; Terra Nova Parks, Trails, Gulf of Georgia Cannery &amp; Britannia Shipyard. On the down side loss of BC Packers Cannery for a seafood market &amp; #SiteC Dam\n\n"
     ]
    }
   ],
   "source": [
    "for status in tweets[0:max_tweet_to_print]:\n",
    "    print(status['full_text'] + '\\n')"
   ]
  },
  {
   "cell_type": "markdown",
   "metadata": {},
   "source": [
    "# Pandas DataFrame for storing tweet feed\n"
   ]
  },
  {
   "cell_type": "markdown",
   "metadata": {},
   "source": [
    "# Printing keys in tweets"
   ]
  },
  {
   "cell_type": "code",
   "execution_count": 16,
   "metadata": {
    "tags": []
   },
   "outputs": [
    {
     "output_type": "stream",
     "name": "stdout",
     "text": [
      "dict_keys(['created_at', 'id', 'id_str', 'full_text', 'truncated', 'display_text_range', 'entities', 'metadata', 'source', 'in_reply_to_status_id', 'in_reply_to_status_id_str', 'in_reply_to_user_id', 'in_reply_to_user_id_str', 'in_reply_to_screen_name', 'user', 'geo', 'coordinates', 'place', 'contributors', 'is_quote_status', 'retweet_count', 'favorite_count', 'favorited', 'retweeted', 'lang', 'team'])\n26\n"
     ]
    }
   ],
   "source": [
    "print(tweets[1].keys())\n",
    "print(len(tweets[1].keys()))"
   ]
  },
  {
   "cell_type": "code",
   "execution_count": 17,
   "metadata": {},
   "outputs": [],
   "source": [
    "import pandas as pd"
   ]
  },
  {
   "cell_type": "code",
   "execution_count": 18,
   "metadata": {},
   "outputs": [],
   "source": [
    "def tweet_generator(tweets):\n",
    "    for tweet in tweets:\n",
    "        modified_tweet= {}\n",
    "        \n",
    "        #Write your code here\n",
    "\n",
    "        modified_tweet = deepcopy(tweet)\n",
    "        try:\n",
    "            modified_tweet[\"user_id\"] = modified_tweet[\"user\"][\"id\"]\n",
    "            modified_tweet.pop(\"user\", None)\n",
    "        except KeyError:\n",
    "            pass\n",
    "        try:\n",
    "            modified_tweet[\"retweeted_status_id\"] = modified_tweet[\"retweeted_status\"][\"id\"] \n",
    "            modified_tweet.pop(\"retweeted_status\", None)\n",
    "        except KeyError:\n",
    "            pass\n",
    "        yield modified_tweet       "
   ]
  },
  {
   "cell_type": "code",
   "execution_count": 19,
   "metadata": {},
   "outputs": [
    {
     "output_type": "execute_result",
     "data": {
      "text/plain": [
       "[{'created_at': 'Thu Nov 19 15:16:52 +0000 2020',\n",
       "  'id': 1329443531694481411,\n",
       "  'id_str': '1329443531694481411',\n",
       "  'full_text': 'Thinking about how many Iowa meat packers voted for Bernie who would’ve given them ownership stake in their business, greater control over their conditions, and Medicare for All. https://t.co/wef0Do6kyu https://t.co/xlo5NGg6iD',\n",
       "  'truncated': False,\n",
       "  'display_text_range': [0, 202],\n",
       "  'entities': {'hashtags': [],\n",
       "   'symbols': [],\n",
       "   'user_mentions': [],\n",
       "   'urls': [{'url': 'https://t.co/wef0Do6kyu',\n",
       "     'expanded_url': 'https://twitter.com/dmregister/status/1329431739475832835',\n",
       "     'display_url': 'twitter.com/dmregister/sta…',\n",
       "     'indices': [179, 202]}],\n",
       "   'media': [{'id': 1329443527311450121,\n",
       "     'id_str': '1329443527311450121',\n",
       "     'indices': [203, 226],\n",
       "     'media_url': 'http://pbs.twimg.com/media/EnMh2CpXYAkQrUs.jpg',\n",
       "     'media_url_https': 'https://pbs.twimg.com/media/EnMh2CpXYAkQrUs.jpg',\n",
       "     'url': 'https://t.co/xlo5NGg6iD',\n",
       "     'display_url': 'pic.twitter.com/xlo5NGg6iD',\n",
       "     'expanded_url': 'https://twitter.com/briebriejoy/status/1329443531694481411/photo/1',\n",
       "     'type': 'photo',\n",
       "     'sizes': {'thumb': {'w': 150, 'h': 150, 'resize': 'crop'},\n",
       "      'medium': {'w': 1125, 'h': 444, 'resize': 'fit'},\n",
       "      'large': {'w': 1125, 'h': 444, 'resize': 'fit'},\n",
       "      'small': {'w': 680, 'h': 268, 'resize': 'fit'}}}]},\n",
       "  'extended_entities': {'media': [{'id': 1329443527311450121,\n",
       "     'id_str': '1329443527311450121',\n",
       "     'indices': [203, 226],\n",
       "     'media_url': 'http://pbs.twimg.com/media/EnMh2CpXYAkQrUs.jpg',\n",
       "     'media_url_https': 'https://pbs.twimg.com/media/EnMh2CpXYAkQrUs.jpg',\n",
       "     'url': 'https://t.co/xlo5NGg6iD',\n",
       "     'display_url': 'pic.twitter.com/xlo5NGg6iD',\n",
       "     'expanded_url': 'https://twitter.com/briebriejoy/status/1329443531694481411/photo/1',\n",
       "     'type': 'photo',\n",
       "     'sizes': {'thumb': {'w': 150, 'h': 150, 'resize': 'crop'},\n",
       "      'medium': {'w': 1125, 'h': 444, 'resize': 'fit'},\n",
       "      'large': {'w': 1125, 'h': 444, 'resize': 'fit'},\n",
       "      'small': {'w': 680, 'h': 268, 'resize': 'fit'}}},\n",
       "    {'id': 1329443527324033027,\n",
       "     'id_str': '1329443527324033027',\n",
       "     'indices': [203, 226],\n",
       "     'media_url': 'http://pbs.twimg.com/media/EnMh2CsXYAMDpPD.jpg',\n",
       "     'media_url_https': 'https://pbs.twimg.com/media/EnMh2CsXYAMDpPD.jpg',\n",
       "     'url': 'https://t.co/xlo5NGg6iD',\n",
       "     'display_url': 'pic.twitter.com/xlo5NGg6iD',\n",
       "     'expanded_url': 'https://twitter.com/briebriejoy/status/1329443531694481411/photo/1',\n",
       "     'type': 'photo',\n",
       "     'sizes': {'medium': {'w': 1125, 'h': 960, 'resize': 'fit'},\n",
       "      'thumb': {'w': 150, 'h': 150, 'resize': 'crop'},\n",
       "      'small': {'w': 680, 'h': 580, 'resize': 'fit'},\n",
       "      'large': {'w': 1125, 'h': 960, 'resize': 'fit'}}},\n",
       "    {'id': 1329443527357509634,\n",
       "     'id_str': '1329443527357509634',\n",
       "     'indices': [203, 226],\n",
       "     'media_url': 'http://pbs.twimg.com/media/EnMh2C0WMAIN_vj.jpg',\n",
       "     'media_url_https': 'https://pbs.twimg.com/media/EnMh2C0WMAIN_vj.jpg',\n",
       "     'url': 'https://t.co/xlo5NGg6iD',\n",
       "     'display_url': 'pic.twitter.com/xlo5NGg6iD',\n",
       "     'expanded_url': 'https://twitter.com/briebriejoy/status/1329443531694481411/photo/1',\n",
       "     'type': 'photo',\n",
       "     'sizes': {'thumb': {'w': 150, 'h': 150, 'resize': 'crop'},\n",
       "      'small': {'w': 680, 'h': 577, 'resize': 'fit'},\n",
       "      'medium': {'w': 1125, 'h': 954, 'resize': 'fit'},\n",
       "      'large': {'w': 1125, 'h': 954, 'resize': 'fit'}}}]},\n",
       "  'metadata': {'result_type': 'popular', 'iso_language_code': 'en'},\n",
       "  'source': '<a href=\"http://twitter.com/download/iphone\" rel=\"nofollow\">Twitter for iPhone</a>',\n",
       "  'in_reply_to_status_id': None,\n",
       "  'in_reply_to_status_id_str': None,\n",
       "  'in_reply_to_user_id': None,\n",
       "  'in_reply_to_user_id_str': None,\n",
       "  'in_reply_to_screen_name': None,\n",
       "  'geo': None,\n",
       "  'coordinates': None,\n",
       "  'place': None,\n",
       "  'contributors': None,\n",
       "  'is_quote_status': True,\n",
       "  'quoted_status_id': 1329431739475832835,\n",
       "  'quoted_status_id_str': '1329431739475832835',\n",
       "  'quoted_status': {'created_at': 'Thu Nov 19 14:30:00 +0000 2020',\n",
       "   'id': 1329431739475832835,\n",
       "   'id_str': '1329431739475832835',\n",
       "   'full_text': \"A lawsuit claims that the manager at Tyson's Waterloo plant a betting pool for supervisors and managers to wager how many plant employees would test positive for COVID-19, according to a report in the @IowaCapDispatch.\\xa0https://t.co/goPttTmbRn\",\n",
       "   'truncated': False,\n",
       "   'display_text_range': [0, 242],\n",
       "   'entities': {'hashtags': [],\n",
       "    'symbols': [],\n",
       "    'user_mentions': [{'screen_name': 'IowaCapDispatch',\n",
       "      'name': 'Iowa Capital Dispatch',\n",
       "      'id': 1185222369234825216,\n",
       "      'id_str': '1185222369234825216',\n",
       "      'indices': [201, 217]}],\n",
       "    'urls': [{'url': 'https://t.co/goPttTmbRn',\n",
       "      'expanded_url': 'https://www.desmoinesregister.com/story/money/agriculture/2020/11/19/lawsuit-tyson-iowa-plant-managers-made-bets-on-workers-getting-covid/3775558001/',\n",
       "      'display_url': 'desmoinesregister.com/story/money/ag…',\n",
       "      'indices': [219, 242]}]},\n",
       "   'metadata': {'result_type': 'popular', 'iso_language_code': 'en'},\n",
       "   'source': '<a href=\"http://www.socialnewsdesk.com\" rel=\"nofollow\">SocialNewsDesk</a>',\n",
       "   'in_reply_to_status_id': None,\n",
       "   'in_reply_to_status_id_str': None,\n",
       "   'in_reply_to_user_id': None,\n",
       "   'in_reply_to_user_id_str': None,\n",
       "   'in_reply_to_screen_name': None,\n",
       "   'user': {'id': 13657922,\n",
       "    'id_str': '13657922',\n",
       "    'name': 'Des Moines Register',\n",
       "    'screen_name': 'DMRegister',\n",
       "    'location': 'Des Moines, Iowa, USA',\n",
       "    'description': 'The news Iowans have depended upon since 1849. Winner of 17 Pulitzer Prizes. Support local journalism by subscribing at https://t.co/M3wA9tGwwF.',\n",
       "    'url': 'https://t.co/l1zKlTUG8R',\n",
       "    'entities': {'url': {'urls': [{'url': 'https://t.co/l1zKlTUG8R',\n",
       "        'expanded_url': 'http://DesMoinesRegister.com',\n",
       "        'display_url': 'DesMoinesRegister.com',\n",
       "        'indices': [0, 23]}]},\n",
       "     'description': {'urls': [{'url': 'https://t.co/M3wA9tGwwF',\n",
       "        'expanded_url': 'http://bit.ly/2FdH7Xn',\n",
       "        'display_url': 'bit.ly/2FdH7Xn',\n",
       "        'indices': [120, 143]}]}},\n",
       "    'protected': False,\n",
       "    'followers_count': 160324,\n",
       "    'friends_count': 4912,\n",
       "    'listed_count': 2374,\n",
       "    'created_at': 'Tue Feb 19 04:56:13 +0000 2008',\n",
       "    'favourites_count': 1340,\n",
       "    'utc_offset': None,\n",
       "    'time_zone': None,\n",
       "    'geo_enabled': True,\n",
       "    'verified': True,\n",
       "    'statuses_count': 117155,\n",
       "    'lang': None,\n",
       "    'contributors_enabled': False,\n",
       "    'is_translator': False,\n",
       "    'is_translation_enabled': False,\n",
       "    'profile_background_color': 'FFFFFF',\n",
       "    'profile_background_image_url': 'http://abs.twimg.com/images/themes/theme1/bg.png',\n",
       "    'profile_background_image_url_https': 'https://abs.twimg.com/images/themes/theme1/bg.png',\n",
       "    'profile_background_tile': False,\n",
       "    'profile_image_url': 'http://pbs.twimg.com/profile_images/923667780649357314/YTM1dNv6_normal.jpg',\n",
       "    'profile_image_url_https': 'https://pbs.twimg.com/profile_images/923667780649357314/YTM1dNv6_normal.jpg',\n",
       "    'profile_banner_url': 'https://pbs.twimg.com/profile_banners/13657922/1559277744',\n",
       "    'profile_link_color': '0000FF',\n",
       "    'profile_sidebar_border_color': '87BC44',\n",
       "    'profile_sidebar_fill_color': 'E0FF92',\n",
       "    'profile_text_color': '000000',\n",
       "    'profile_use_background_image': True,\n",
       "    'has_extended_profile': False,\n",
       "    'default_profile': False,\n",
       "    'default_profile_image': False,\n",
       "    'following': None,\n",
       "    'follow_request_sent': None,\n",
       "    'notifications': None,\n",
       "    'translator_type': 'none'},\n",
       "   'geo': None,\n",
       "   'coordinates': None,\n",
       "   'place': None,\n",
       "   'contributors': None,\n",
       "   'is_quote_status': False,\n",
       "   'retweet_count': 107,\n",
       "   'favorite_count': 185,\n",
       "   'favorited': False,\n",
       "   'retweeted': False,\n",
       "   'possibly_sensitive': False,\n",
       "   'lang': 'en'},\n",
       "  'retweet_count': 329,\n",
       "  'favorite_count': 2744,\n",
       "  'favorited': False,\n",
       "  'retweeted': False,\n",
       "  'possibly_sensitive': False,\n",
       "  'lang': 'en',\n",
       "  'team': 'Packers',\n",
       "  'user_id': 1332630685},\n",
       " {'created_at': 'Thu Nov 19 21:19:15 +0000 2020',\n",
       "  'id': 1329534730115702787,\n",
       "  'id_str': '1329534730115702787',\n",
       "  'full_text': \"Packers' WR Davante Adams did not practice today due to an ankle injury.\",\n",
       "  'truncated': False,\n",
       "  'display_text_range': [0, 72],\n",
       "  'entities': {'hashtags': [], 'symbols': [], 'user_mentions': [], 'urls': []},\n",
       "  'metadata': {'result_type': 'popular', 'iso_language_code': 'en'},\n",
       "  'source': '<a href=\"https://mobile.twitter.com\" rel=\"nofollow\">Twitter Web App</a>',\n",
       "  'in_reply_to_status_id': None,\n",
       "  'in_reply_to_status_id_str': None,\n",
       "  'in_reply_to_user_id': None,\n",
       "  'in_reply_to_user_id_str': None,\n",
       "  'in_reply_to_screen_name': None,\n",
       "  'geo': None,\n",
       "  'coordinates': None,\n",
       "  'place': None,\n",
       "  'contributors': None,\n",
       "  'is_quote_status': False,\n",
       "  'retweet_count': 186,\n",
       "  'favorite_count': 3856,\n",
       "  'favorited': False,\n",
       "  'retweeted': False,\n",
       "  'lang': 'en',\n",
       "  'team': 'Packers',\n",
       "  'user_id': 51263592}]"
      ]
     },
     "metadata": {},
     "execution_count": 19
    }
   ],
   "source": [
    "# Checking  generator output\n",
    "list(tweet_generator(tweets[0:2]))"
   ]
  },
  {
   "cell_type": "code",
   "execution_count": 20,
   "metadata": {},
   "outputs": [],
   "source": [
    "football_feed_df = pd.DataFrame(tweet_generator(tweets))"
   ]
  },
  {
   "source": [
    "# Tweet Cleaning"
   ],
   "cell_type": "markdown",
   "metadata": {}
  },
  {
   "cell_type": "code",
   "execution_count": 22,
   "metadata": {},
   "outputs": [
    {
     "output_type": "stream",
     "name": "stdout",
     "text": [
      "Rows with either null text or teams: 0\n"
     ]
    }
   ],
   "source": [
    "print(\"Rows with either null text or teams: {}\".format(football_feed_df[[\"full_text\", \"team\"]].isnull().any(axis = 1).sum())) "
   ]
  },
  {
   "cell_type": "code",
   "execution_count": 23,
   "metadata": {},
   "outputs": [],
   "source": [
    "def NoneToNan(elem):\n",
    "    if elem == \"None\" or elem == None:\n",
    "        return np.nan\n",
    "    else:\n",
    "        return elem\n",
    "\n",
    "football_feed_df = football_feed_df.applymap(NoneToNan)"
   ]
  },
  {
   "cell_type": "code",
   "execution_count": 25,
   "metadata": {},
   "outputs": [
    {
     "output_type": "execute_result",
     "data": {
      "text/plain": [
       "                                           full_text     team\n",
       "0  Thinking about how many Iowa meat packers vote...  Packers\n",
       "1  Packers' WR Davante Adams did not practice tod...  Packers\n",
       "2  #Packers WR Davante Adams is officially off th...  Packers\n",
       "3  @marcellemroy Highlights are the #ALR &amp; BC...  Packers\n",
       "4  RT @johnnyc1952: The Packers have Rodgers \\n\\n...  Packers"
      ],
      "text/html": "<div>\n<style scoped>\n    .dataframe tbody tr th:only-of-type {\n        vertical-align: middle;\n    }\n\n    .dataframe tbody tr th {\n        vertical-align: top;\n    }\n\n    .dataframe thead th {\n        text-align: right;\n    }\n</style>\n<table border=\"1\" class=\"dataframe\">\n  <thead>\n    <tr style=\"text-align: right;\">\n      <th></th>\n      <th>full_text</th>\n      <th>team</th>\n    </tr>\n  </thead>\n  <tbody>\n    <tr>\n      <th>0</th>\n      <td>Thinking about how many Iowa meat packers vote...</td>\n      <td>Packers</td>\n    </tr>\n    <tr>\n      <th>1</th>\n      <td>Packers' WR Davante Adams did not practice tod...</td>\n      <td>Packers</td>\n    </tr>\n    <tr>\n      <th>2</th>\n      <td>#Packers WR Davante Adams is officially off th...</td>\n      <td>Packers</td>\n    </tr>\n    <tr>\n      <th>3</th>\n      <td>@marcellemroy Highlights are the #ALR &amp;amp; BC...</td>\n      <td>Packers</td>\n    </tr>\n    <tr>\n      <th>4</th>\n      <td>RT @johnnyc1952: The Packers have Rodgers \\n\\n...</td>\n      <td>Packers</td>\n    </tr>\n  </tbody>\n</table>\n</div>"
     },
     "metadata": {},
     "execution_count": 25
    }
   ],
   "source": [
    "football_feed_df[[\"full_text\",\"team\"]].head()"
   ]
  },
  {
   "cell_type": "code",
   "execution_count": 27,
   "metadata": {},
   "outputs": [
    {
     "output_type": "execute_result",
     "data": {
      "text/plain": [
       "                                              full_text           team\n",
       "0     Thinking about how many Iowa meat packers vote...        Packers\n",
       "1     Packers' WR Davante Adams did not practice tod...        Packers\n",
       "2     #Packers WR Davante Adams is officially off th...        Packers\n",
       "3     @marcellemroy Highlights are the #ALR &amp; BC...        Packers\n",
       "4     RT @johnnyc1952: The Packers have Rodgers \\n\\n...        Packers\n",
       "...                                                 ...            ...\n",
       "5995         Hii #ChiefsKingdom https://t.co/yKiFwSYUZw  ChiefsKingdom\n",
       "5996  RT @PFN365: The @BxMovement: @brettyarrisPFN w...  ChiefsKingdom\n",
       "5997  RT @ArtbyCaitlyn: Want a print of my “Forever ...  ChiefsKingdom\n",
       "5998  RT @Rollicking_R8R: #ChiefsKingdom big mad bec...  ChiefsKingdom\n",
       "5999  RT @SiriusXMNFL: Did @Chiefs tight end @tkelce...  ChiefsKingdom\n",
       "\n",
       "[6000 rows x 2 columns]"
      ],
      "text/html": "<div>\n<style scoped>\n    .dataframe tbody tr th:only-of-type {\n        vertical-align: middle;\n    }\n\n    .dataframe tbody tr th {\n        vertical-align: top;\n    }\n\n    .dataframe thead th {\n        text-align: right;\n    }\n</style>\n<table border=\"1\" class=\"dataframe\">\n  <thead>\n    <tr style=\"text-align: right;\">\n      <th></th>\n      <th>full_text</th>\n      <th>team</th>\n    </tr>\n  </thead>\n  <tbody>\n    <tr>\n      <th>0</th>\n      <td>Thinking about how many Iowa meat packers vote...</td>\n      <td>Packers</td>\n    </tr>\n    <tr>\n      <th>1</th>\n      <td>Packers' WR Davante Adams did not practice tod...</td>\n      <td>Packers</td>\n    </tr>\n    <tr>\n      <th>2</th>\n      <td>#Packers WR Davante Adams is officially off th...</td>\n      <td>Packers</td>\n    </tr>\n    <tr>\n      <th>3</th>\n      <td>@marcellemroy Highlights are the #ALR &amp;amp; BC...</td>\n      <td>Packers</td>\n    </tr>\n    <tr>\n      <th>4</th>\n      <td>RT @johnnyc1952: The Packers have Rodgers \\n\\n...</td>\n      <td>Packers</td>\n    </tr>\n    <tr>\n      <th>...</th>\n      <td>...</td>\n      <td>...</td>\n    </tr>\n    <tr>\n      <th>5995</th>\n      <td>Hii #ChiefsKingdom https://t.co/yKiFwSYUZw</td>\n      <td>ChiefsKingdom</td>\n    </tr>\n    <tr>\n      <th>5996</th>\n      <td>RT @PFN365: The @BxMovement: @brettyarrisPFN w...</td>\n      <td>ChiefsKingdom</td>\n    </tr>\n    <tr>\n      <th>5997</th>\n      <td>RT @ArtbyCaitlyn: Want a print of my “Forever ...</td>\n      <td>ChiefsKingdom</td>\n    </tr>\n    <tr>\n      <th>5998</th>\n      <td>RT @Rollicking_R8R: #ChiefsKingdom big mad bec...</td>\n      <td>ChiefsKingdom</td>\n    </tr>\n    <tr>\n      <th>5999</th>\n      <td>RT @SiriusXMNFL: Did @Chiefs tight end @tkelce...</td>\n      <td>ChiefsKingdom</td>\n    </tr>\n  </tbody>\n</table>\n<p>6000 rows × 2 columns</p>\n</div>"
     },
     "metadata": {},
     "execution_count": 27
    }
   ],
   "source": [
    "#football_feed_df.full_text.fillna(football_feed_df.text, inplace=True)\n",
    "football_feed_df[\"full_text\"] = football_feed_df[\"full_text\"].apply(str)\n",
    "football_feed_df[[\"full_text\",\"team\"]]"
   ]
  },
  {
   "cell_type": "code",
   "execution_count": 28,
   "metadata": {},
   "outputs": [
    {
     "output_type": "stream",
     "name": "stdout",
     "text": [
      "Rows with either null text or teams: 0\n"
     ]
    }
   ],
   "source": [
    "print(\"Rows with either null text or teams: {}\".format(football_feed_df[[\"full_text\", \"team\"]].isnull().any(axis = 1).sum())) "
   ]
  },
  {
   "cell_type": "code",
   "execution_count": 29,
   "metadata": {},
   "outputs": [],
   "source": [
    "hashtags = []\n",
    "user_mentions = []\n",
    "\n",
    "for row in football_feed_df.itertuples():\n",
    "    row = row.entities\n",
    "    try:\n",
    "        hashtags_in_row = row[\"hashtags\"]\n",
    "        hashtags.append(hashtags_in_row)\n",
    "    except:\n",
    "        hashtags.append('')\n",
    "    try:\n",
    "        user_mentions_in_row = row[\"user_mentions\"][0][\"name\"]\n",
    "        user_mentions.append(user_mentions_in_row)\n",
    "    except:\n",
    "        user_mentions.append('')"
   ]
  },
  {
   "cell_type": "code",
   "execution_count": 30,
   "metadata": {},
   "outputs": [
    {
     "output_type": "execute_result",
     "data": {
      "text/plain": [
       "                          created_at                   id  \\\n",
       "0     Thu Nov 19 15:16:52 +0000 2020  1329443531694481411   \n",
       "1     Thu Nov 19 21:19:15 +0000 2020  1329534730115702787   \n",
       "2     Fri Nov 20 20:19:18 +0000 2020  1329882030855892998   \n",
       "3     Sat Nov 21 08:07:18 +0000 2020  1330060203845410817   \n",
       "4     Sat Nov 21 08:06:45 +0000 2020  1330060066708459523   \n",
       "...                              ...                  ...   \n",
       "5995  Thu Nov 19 02:59:43 +0000 2020  1329258021256634371   \n",
       "5996  Thu Nov 19 02:58:38 +0000 2020  1329257748157132801   \n",
       "5997  Thu Nov 19 02:58:27 +0000 2020  1329257702300786689   \n",
       "5998  Thu Nov 19 02:58:08 +0000 2020  1329257622831296519   \n",
       "5999  Thu Nov 19 02:58:03 +0000 2020  1329257603487191040   \n",
       "\n",
       "                   id_str                                          full_text  \\\n",
       "0     1329443531694481411  Thinking about how many Iowa meat packers vote...   \n",
       "1     1329534730115702787  Packers' WR Davante Adams did not practice tod...   \n",
       "2     1329882030855892998  #Packers WR Davante Adams is officially off th...   \n",
       "3     1330060203845410817  @marcellemroy Highlights are the #ALR &amp; BC...   \n",
       "4     1330060066708459523  RT @johnnyc1952: The Packers have Rodgers \\n\\n...   \n",
       "...                   ...                                                ...   \n",
       "5995  1329258021256634371         Hii #ChiefsKingdom https://t.co/yKiFwSYUZw   \n",
       "5996  1329257748157132801  RT @PFN365: The @BxMovement: @brettyarrisPFN w...   \n",
       "5997  1329257702300786689  RT @ArtbyCaitlyn: Want a print of my “Forever ...   \n",
       "5998  1329257622831296519  RT @Rollicking_R8R: #ChiefsKingdom big mad bec...   \n",
       "5999  1329257603487191040  RT @SiriusXMNFL: Did @Chiefs tight end @tkelce...   \n",
       "\n",
       "      truncated display_text_range  \\\n",
       "0         False           [0, 202]   \n",
       "1         False            [0, 72]   \n",
       "2         False           [0, 158]   \n",
       "3         False          [14, 310]   \n",
       "4         False           [0, 140]   \n",
       "...         ...                ...   \n",
       "5995      False            [0, 18]   \n",
       "5996      False           [0, 119]   \n",
       "5997      False           [0, 140]   \n",
       "5998      False           [0, 140]   \n",
       "5999      False           [0, 140]   \n",
       "\n",
       "                                               entities  \\\n",
       "0     {'hashtags': [], 'symbols': [], 'user_mentions...   \n",
       "1     {'hashtags': [], 'symbols': [], 'user_mentions...   \n",
       "2     {'hashtags': [{'text': 'Packers', 'indices': [...   \n",
       "3     {'hashtags': [{'text': 'ALR', 'indices': [33, ...   \n",
       "4     {'hashtags': [], 'symbols': [], 'user_mentions...   \n",
       "...                                                 ...   \n",
       "5995  {'hashtags': [{'text': 'ChiefsKingdom', 'indic...   \n",
       "5996  {'hashtags': [{'text': 'ChiefsKingdom', 'indic...   \n",
       "5997  {'hashtags': [], 'symbols': [], 'user_mentions...   \n",
       "5998  {'hashtags': [{'text': 'ChiefsKingdom', 'indic...   \n",
       "5999  {'hashtags': [], 'symbols': [], 'user_mentions...   \n",
       "\n",
       "                                      extended_entities  \\\n",
       "0     {'media': [{'id': 1329443527311450121, 'id_str...   \n",
       "1                                                   NaN   \n",
       "2                                                   NaN   \n",
       "3                                                   NaN   \n",
       "4                                                   NaN   \n",
       "...                                                 ...   \n",
       "5995                                                NaN   \n",
       "5996                                                NaN   \n",
       "5997                                                NaN   \n",
       "5998                                                NaN   \n",
       "5999                                                NaN   \n",
       "\n",
       "                                               metadata  \\\n",
       "0     {'result_type': 'popular', 'iso_language_code'...   \n",
       "1     {'result_type': 'popular', 'iso_language_code'...   \n",
       "2     {'result_type': 'popular', 'iso_language_code'...   \n",
       "3     {'iso_language_code': 'en', 'result_type': 're...   \n",
       "4     {'iso_language_code': 'en', 'result_type': 're...   \n",
       "...                                                 ...   \n",
       "5995  {'iso_language_code': 'und', 'result_type': 'r...   \n",
       "5996  {'iso_language_code': 'en', 'result_type': 're...   \n",
       "5997  {'iso_language_code': 'en', 'result_type': 're...   \n",
       "5998  {'iso_language_code': 'en', 'result_type': 're...   \n",
       "5999  {'iso_language_code': 'en', 'result_type': 're...   \n",
       "\n",
       "                                                 source  ...  favorite_count  \\\n",
       "0     <a href=\"http://twitter.com/download/iphone\" r...  ...            2744   \n",
       "1     <a href=\"https://mobile.twitter.com\" rel=\"nofo...  ...            3856   \n",
       "2     <a href=\"https://about.twitter.com/products/tw...  ...             727   \n",
       "3     <a href=\"https://mobile.twitter.com\" rel=\"nofo...  ...               0   \n",
       "4     <a href=\"http://twitter.com/download/android\" ...  ...               0   \n",
       "...                                                 ...  ...             ...   \n",
       "5995  <a href=\"http://twitter.com/download/android\" ...  ...               3   \n",
       "5996  <a href=\"http://twitter.com/download/iphone\" r...  ...               0   \n",
       "5997  <a href=\"http://twitter.com/download/android\" ...  ...               0   \n",
       "5998  <a href=\"http://twitter.com/download/android\" ...  ...               0   \n",
       "5999  <a href=\"http://twitter.com/download/iphone\" r...  ...               0   \n",
       "\n",
       "     favorited  retweeted possibly_sensitive lang           team  \\\n",
       "0        False      False              False   en        Packers   \n",
       "1        False      False                NaN   en        Packers   \n",
       "2        False      False                NaN   en        Packers   \n",
       "3        False      False                NaN   en        Packers   \n",
       "4        False      False                NaN   en        Packers   \n",
       "...        ...        ...                ...  ...            ...   \n",
       "5995     False      False              False  und  ChiefsKingdom   \n",
       "5996     False      False              False   en  ChiefsKingdom   \n",
       "5997     False      False                NaN   en  ChiefsKingdom   \n",
       "5998     False      False                NaN   en  ChiefsKingdom   \n",
       "5999     False      False                NaN   en  ChiefsKingdom   \n",
       "\n",
       "                  user_id retweeted_status_id  \\\n",
       "0              1332630685                 NaN   \n",
       "1                51263592                 NaN   \n",
       "2                36089053                 NaN   \n",
       "3              1709275855                 NaN   \n",
       "4                65300014        1.329859e+18   \n",
       "...                   ...                 ...   \n",
       "5995             91913782                 NaN   \n",
       "5996            105942077        1.329235e+18   \n",
       "5997           2838158866        1.329182e+18   \n",
       "5998   886057852120453120        1.329227e+18   \n",
       "5999  1180551525480968194        1.329071e+18   \n",
       "\n",
       "                                               hashtags         user_mentions  \n",
       "0                                                    []                        \n",
       "1                                                    []                        \n",
       "2     [{'text': 'Packers', 'indices': [0, 8]}, {'tex...                        \n",
       "3     [{'text': 'ALR', 'indices': [33, 37]}, {'text'...         Notwhatuthink  \n",
       "4                                                    []            John E. C.  \n",
       "...                                                 ...                   ...  \n",
       "5995    [{'text': 'ChiefsKingdom', 'indices': [4, 18]}]                        \n",
       "5996   [{'text': 'ChiefsKingdom', 'indices': [81, 95]}]  Pro Football Network  \n",
       "5997                                                 []      Caitlyn Snelling  \n",
       "5998   [{'text': 'ChiefsKingdom', 'indices': [20, 34]}]    🗣I'm here for this  \n",
       "5999                                                 []    SiriusXM NFL Radio  \n",
       "\n",
       "[6000 rows x 34 columns]"
      ],
      "text/html": "<div>\n<style scoped>\n    .dataframe tbody tr th:only-of-type {\n        vertical-align: middle;\n    }\n\n    .dataframe tbody tr th {\n        vertical-align: top;\n    }\n\n    .dataframe thead th {\n        text-align: right;\n    }\n</style>\n<table border=\"1\" class=\"dataframe\">\n  <thead>\n    <tr style=\"text-align: right;\">\n      <th></th>\n      <th>created_at</th>\n      <th>id</th>\n      <th>id_str</th>\n      <th>full_text</th>\n      <th>truncated</th>\n      <th>display_text_range</th>\n      <th>entities</th>\n      <th>extended_entities</th>\n      <th>metadata</th>\n      <th>source</th>\n      <th>...</th>\n      <th>favorite_count</th>\n      <th>favorited</th>\n      <th>retweeted</th>\n      <th>possibly_sensitive</th>\n      <th>lang</th>\n      <th>team</th>\n      <th>user_id</th>\n      <th>retweeted_status_id</th>\n      <th>hashtags</th>\n      <th>user_mentions</th>\n    </tr>\n  </thead>\n  <tbody>\n    <tr>\n      <th>0</th>\n      <td>Thu Nov 19 15:16:52 +0000 2020</td>\n      <td>1329443531694481411</td>\n      <td>1329443531694481411</td>\n      <td>Thinking about how many Iowa meat packers vote...</td>\n      <td>False</td>\n      <td>[0, 202]</td>\n      <td>{'hashtags': [], 'symbols': [], 'user_mentions...</td>\n      <td>{'media': [{'id': 1329443527311450121, 'id_str...</td>\n      <td>{'result_type': 'popular', 'iso_language_code'...</td>\n      <td>&lt;a href=\"http://twitter.com/download/iphone\" r...</td>\n      <td>...</td>\n      <td>2744</td>\n      <td>False</td>\n      <td>False</td>\n      <td>False</td>\n      <td>en</td>\n      <td>Packers</td>\n      <td>1332630685</td>\n      <td>NaN</td>\n      <td>[]</td>\n      <td></td>\n    </tr>\n    <tr>\n      <th>1</th>\n      <td>Thu Nov 19 21:19:15 +0000 2020</td>\n      <td>1329534730115702787</td>\n      <td>1329534730115702787</td>\n      <td>Packers' WR Davante Adams did not practice tod...</td>\n      <td>False</td>\n      <td>[0, 72]</td>\n      <td>{'hashtags': [], 'symbols': [], 'user_mentions...</td>\n      <td>NaN</td>\n      <td>{'result_type': 'popular', 'iso_language_code'...</td>\n      <td>&lt;a href=\"https://mobile.twitter.com\" rel=\"nofo...</td>\n      <td>...</td>\n      <td>3856</td>\n      <td>False</td>\n      <td>False</td>\n      <td>NaN</td>\n      <td>en</td>\n      <td>Packers</td>\n      <td>51263592</td>\n      <td>NaN</td>\n      <td>[]</td>\n      <td></td>\n    </tr>\n    <tr>\n      <th>2</th>\n      <td>Fri Nov 20 20:19:18 +0000 2020</td>\n      <td>1329882030855892998</td>\n      <td>1329882030855892998</td>\n      <td>#Packers WR Davante Adams is officially off th...</td>\n      <td>False</td>\n      <td>[0, 158]</td>\n      <td>{'hashtags': [{'text': 'Packers', 'indices': [...</td>\n      <td>NaN</td>\n      <td>{'result_type': 'popular', 'iso_language_code'...</td>\n      <td>&lt;a href=\"https://about.twitter.com/products/tw...</td>\n      <td>...</td>\n      <td>727</td>\n      <td>False</td>\n      <td>False</td>\n      <td>NaN</td>\n      <td>en</td>\n      <td>Packers</td>\n      <td>36089053</td>\n      <td>NaN</td>\n      <td>[{'text': 'Packers', 'indices': [0, 8]}, {'tex...</td>\n      <td></td>\n    </tr>\n    <tr>\n      <th>3</th>\n      <td>Sat Nov 21 08:07:18 +0000 2020</td>\n      <td>1330060203845410817</td>\n      <td>1330060203845410817</td>\n      <td>@marcellemroy Highlights are the #ALR &amp;amp; BC...</td>\n      <td>False</td>\n      <td>[14, 310]</td>\n      <td>{'hashtags': [{'text': 'ALR', 'indices': [33, ...</td>\n      <td>NaN</td>\n      <td>{'iso_language_code': 'en', 'result_type': 're...</td>\n      <td>&lt;a href=\"https://mobile.twitter.com\" rel=\"nofo...</td>\n      <td>...</td>\n      <td>0</td>\n      <td>False</td>\n      <td>False</td>\n      <td>NaN</td>\n      <td>en</td>\n      <td>Packers</td>\n      <td>1709275855</td>\n      <td>NaN</td>\n      <td>[{'text': 'ALR', 'indices': [33, 37]}, {'text'...</td>\n      <td>Notwhatuthink</td>\n    </tr>\n    <tr>\n      <th>4</th>\n      <td>Sat Nov 21 08:06:45 +0000 2020</td>\n      <td>1330060066708459523</td>\n      <td>1330060066708459523</td>\n      <td>RT @johnnyc1952: The Packers have Rodgers \\n\\n...</td>\n      <td>False</td>\n      <td>[0, 140]</td>\n      <td>{'hashtags': [], 'symbols': [], 'user_mentions...</td>\n      <td>NaN</td>\n      <td>{'iso_language_code': 'en', 'result_type': 're...</td>\n      <td>&lt;a href=\"http://twitter.com/download/android\" ...</td>\n      <td>...</td>\n      <td>0</td>\n      <td>False</td>\n      <td>False</td>\n      <td>NaN</td>\n      <td>en</td>\n      <td>Packers</td>\n      <td>65300014</td>\n      <td>1.329859e+18</td>\n      <td>[]</td>\n      <td>John E. C.</td>\n    </tr>\n    <tr>\n      <th>...</th>\n      <td>...</td>\n      <td>...</td>\n      <td>...</td>\n      <td>...</td>\n      <td>...</td>\n      <td>...</td>\n      <td>...</td>\n      <td>...</td>\n      <td>...</td>\n      <td>...</td>\n      <td>...</td>\n      <td>...</td>\n      <td>...</td>\n      <td>...</td>\n      <td>...</td>\n      <td>...</td>\n      <td>...</td>\n      <td>...</td>\n      <td>...</td>\n      <td>...</td>\n      <td>...</td>\n    </tr>\n    <tr>\n      <th>5995</th>\n      <td>Thu Nov 19 02:59:43 +0000 2020</td>\n      <td>1329258021256634371</td>\n      <td>1329258021256634371</td>\n      <td>Hii #ChiefsKingdom https://t.co/yKiFwSYUZw</td>\n      <td>False</td>\n      <td>[0, 18]</td>\n      <td>{'hashtags': [{'text': 'ChiefsKingdom', 'indic...</td>\n      <td>NaN</td>\n      <td>{'iso_language_code': 'und', 'result_type': 'r...</td>\n      <td>&lt;a href=\"http://twitter.com/download/android\" ...</td>\n      <td>...</td>\n      <td>3</td>\n      <td>False</td>\n      <td>False</td>\n      <td>False</td>\n      <td>und</td>\n      <td>ChiefsKingdom</td>\n      <td>91913782</td>\n      <td>NaN</td>\n      <td>[{'text': 'ChiefsKingdom', 'indices': [4, 18]}]</td>\n      <td></td>\n    </tr>\n    <tr>\n      <th>5996</th>\n      <td>Thu Nov 19 02:58:38 +0000 2020</td>\n      <td>1329257748157132801</td>\n      <td>1329257748157132801</td>\n      <td>RT @PFN365: The @BxMovement: @brettyarrisPFN w...</td>\n      <td>False</td>\n      <td>[0, 119]</td>\n      <td>{'hashtags': [{'text': 'ChiefsKingdom', 'indic...</td>\n      <td>NaN</td>\n      <td>{'iso_language_code': 'en', 'result_type': 're...</td>\n      <td>&lt;a href=\"http://twitter.com/download/iphone\" r...</td>\n      <td>...</td>\n      <td>0</td>\n      <td>False</td>\n      <td>False</td>\n      <td>False</td>\n      <td>en</td>\n      <td>ChiefsKingdom</td>\n      <td>105942077</td>\n      <td>1.329235e+18</td>\n      <td>[{'text': 'ChiefsKingdom', 'indices': [81, 95]}]</td>\n      <td>Pro Football Network</td>\n    </tr>\n    <tr>\n      <th>5997</th>\n      <td>Thu Nov 19 02:58:27 +0000 2020</td>\n      <td>1329257702300786689</td>\n      <td>1329257702300786689</td>\n      <td>RT @ArtbyCaitlyn: Want a print of my “Forever ...</td>\n      <td>False</td>\n      <td>[0, 140]</td>\n      <td>{'hashtags': [], 'symbols': [], 'user_mentions...</td>\n      <td>NaN</td>\n      <td>{'iso_language_code': 'en', 'result_type': 're...</td>\n      <td>&lt;a href=\"http://twitter.com/download/android\" ...</td>\n      <td>...</td>\n      <td>0</td>\n      <td>False</td>\n      <td>False</td>\n      <td>NaN</td>\n      <td>en</td>\n      <td>ChiefsKingdom</td>\n      <td>2838158866</td>\n      <td>1.329182e+18</td>\n      <td>[]</td>\n      <td>Caitlyn Snelling</td>\n    </tr>\n    <tr>\n      <th>5998</th>\n      <td>Thu Nov 19 02:58:08 +0000 2020</td>\n      <td>1329257622831296519</td>\n      <td>1329257622831296519</td>\n      <td>RT @Rollicking_R8R: #ChiefsKingdom big mad bec...</td>\n      <td>False</td>\n      <td>[0, 140]</td>\n      <td>{'hashtags': [{'text': 'ChiefsKingdom', 'indic...</td>\n      <td>NaN</td>\n      <td>{'iso_language_code': 'en', 'result_type': 're...</td>\n      <td>&lt;a href=\"http://twitter.com/download/android\" ...</td>\n      <td>...</td>\n      <td>0</td>\n      <td>False</td>\n      <td>False</td>\n      <td>NaN</td>\n      <td>en</td>\n      <td>ChiefsKingdom</td>\n      <td>886057852120453120</td>\n      <td>1.329227e+18</td>\n      <td>[{'text': 'ChiefsKingdom', 'indices': [20, 34]}]</td>\n      <td>🗣I'm here for this</td>\n    </tr>\n    <tr>\n      <th>5999</th>\n      <td>Thu Nov 19 02:58:03 +0000 2020</td>\n      <td>1329257603487191040</td>\n      <td>1329257603487191040</td>\n      <td>RT @SiriusXMNFL: Did @Chiefs tight end @tkelce...</td>\n      <td>False</td>\n      <td>[0, 140]</td>\n      <td>{'hashtags': [], 'symbols': [], 'user_mentions...</td>\n      <td>NaN</td>\n      <td>{'iso_language_code': 'en', 'result_type': 're...</td>\n      <td>&lt;a href=\"http://twitter.com/download/iphone\" r...</td>\n      <td>...</td>\n      <td>0</td>\n      <td>False</td>\n      <td>False</td>\n      <td>NaN</td>\n      <td>en</td>\n      <td>ChiefsKingdom</td>\n      <td>1180551525480968194</td>\n      <td>1.329071e+18</td>\n      <td>[]</td>\n      <td>SiriusXM NFL Radio</td>\n    </tr>\n  </tbody>\n</table>\n<p>6000 rows × 34 columns</p>\n</div>"
     },
     "metadata": {},
     "execution_count": 30
    }
   ],
   "source": [
    "football_feed_df[\"hashtags\"] = hashtags\n",
    "football_feed_df[\"user_mentions\"] = user_mentions\n",
    "football_feed_df"
   ]
  },
  {
   "cell_type": "code",
   "execution_count": 31,
   "metadata": {},
   "outputs": [],
   "source": [
    "def clean_tweet(text):  \n",
    "\n",
    "    url = re.compile('https://.+')\n",
    "    rt = re.compile(\"RT\")\n",
    "    user = re.compile('@\\S+\\s')\n",
    " \n",
    "    #'(RT|@.*\\s|https://.+)'\n",
    "\n",
    "    text = url.sub(\"\", text)\n",
    "    text = rt.sub(\"\", text)\n",
    "    text = user.sub(\"\", text)\n",
    "\n",
    "    return text\n",
    "\n",
    "football_feed_df[\"full_text\"] = football_feed_df[\"full_text\"].apply(clean_tweet)"
   ]
  },
  {
   "cell_type": "code",
   "execution_count": 32,
   "metadata": {},
   "outputs": [],
   "source": [
    "def emoji_retriever(text):\n",
    "      return [(char, emoji.demojize(char)) for char in text if char in emoji.UNICODE_EMOJI]\n",
    "\n",
    "football_feed_df[\"emoji\"] = football_feed_df[\"full_text\"].apply(emoji_retriever)"
   ]
  },
  {
   "cell_type": "code",
   "execution_count": 33,
   "metadata": {},
   "outputs": [],
   "source": [
    "contraction_patterns = [(r'won\\'t', 'will not'), (r'can\\'t', 'cannot'),\n",
    "(r'haven\\'t', 'have not'),\n",
    "(r'(\\w+)\\'ll', '\\g<1> will'),\n",
    "(r'(\\w+)\\'re', '\\g<1> are')]\n",
    "\n",
    "class contraction_replacer(object):\n",
    "    def __init__(self, contraction_patterns):\n",
    "        self._contraction_regexes = [(re.compile(p), replaced_text) for p, replaced_text in contraction_patterns]\n",
    "\n",
    "    def do_contraction_normalization(self, text):\n",
    "        for contraction_regex, replaced_text in self._contraction_regexes:\n",
    "            text = contraction_regex.sub(replaced_text, text)\n",
    "        return text\n",
    "\n",
    "def preprocess_text(text):\n",
    "    \n",
    "    contraction_patterns = [(r'won\\'t', 'will not'), (r'can\\'t', 'cannot'),\n",
    "    (r'haven\\'t', 'have not'),\n",
    "    (r'(\\w+)\\'ll', '\\g<1> will'),\n",
    "    (r'(\\w+)\\'re', '\\g<1> are')]\n",
    "\n",
    "    replacer = contraction_replacer(contraction_patterns)\n",
    "    text = replacer.do_contraction_normalization(text)\n",
    "    text = nltk.tokenize.word_tokenize(text)\n",
    "\n",
    "    stop_words = set(stopwords.words('english')) \n",
    "    \n",
    "    # lemmatization\n",
    "    wnlemma = WordNetLemmatizer()\n",
    "    lemma_text = []\n",
    "    for word in text:\n",
    "        if word in stop_words:\n",
    "            continue\n",
    "        lemma_text.append(wnlemma.lemmatize(word))\n",
    "    lemma_text = \" \".join(lemma_text)\n",
    "\n",
    "    return lemma_text\n",
    "\n",
    "football_feed_df[\"processed_text\"] = football_feed_df[\"full_text\"].apply(preprocess_text)"
   ]
  },
  {
   "cell_type": "code",
   "execution_count": 41,
   "metadata": {},
   "outputs": [],
   "source": [
    "# DataFrame to csv\n",
    "\n",
    "football_feed_df.to_csv('football_feed_df_final.csv')"
   ]
  },
  {
   "cell_type": "code",
   "execution_count": 35,
   "metadata": {},
   "outputs": [],
   "source": [
    "def sentiment_analysis(text):\n",
    "    text = \" \".join(text[\"processed_text\"])\n",
    "    text = TextBlob(text)\n",
    "\n",
    "    return text.sentiment.polarity\n",
    "\n",
    "teams_df = football_feed_df[[\"processed_text\", \"team\"]].groupby(\"team\")\n",
    "sentiments = teams_df.apply(sentiment_analysis)"
   ]
  },
  {
   "cell_type": "markdown",
   "metadata": {},
   "source": [
    "# Team Sentiment Analysis\n",
    "\n",
    "Below represents the relative polarity of each team from each team on Twitter."
   ]
  },
  {
   "cell_type": "code",
   "execution_count": 36,
   "metadata": {},
   "outputs": [
    {
     "output_type": "execute_result",
     "data": {
      "text/plain": [
       "team\n",
       "ChiefsKingdom    0.030595\n",
       "Cowboys          0.096143\n",
       "DaBears          0.106277\n",
       "Eagles           0.086787\n",
       "Packers          0.137727\n",
       "Raiders          0.092446\n",
       "dtype: float64"
      ]
     },
     "metadata": {},
     "execution_count": 36
    }
   ],
   "source": [
    "sentiments"
   ]
  }
 ],
 "metadata": {
  "kernelspec": {
   "display_name": "Python 3",
   "language": "python",
   "name": "python3"
  },
  "language_info": {
   "codemirror_mode": {
    "name": "ipython",
    "version": 3
   },
   "file_extension": ".py",
   "mimetype": "text/x-python",
   "name": "python",
   "nbconvert_exporter": "python",
   "pygments_lexer": "ipython3",
   "version": "3.7.6-final"
  },
  "toc": {
   "base_numbering": 1,
   "nav_menu": {},
   "number_sections": false,
   "sideBar": true,
   "skip_h1_title": false,
   "title_cell": "Table of Contents",
   "title_sidebar": "Contents",
   "toc_cell": false,
   "toc_position": {},
   "toc_section_display": true,
   "toc_window_display": false
  },
  "varInspector": {
   "cols": {
    "lenName": 16,
    "lenType": 16,
    "lenVar": 40
   },
   "kernels_config": {
    "python": {
     "delete_cmd_postfix": "",
     "delete_cmd_prefix": "del ",
     "library": "var_list.py",
     "varRefreshCmd": "print(var_dic_list())"
    },
    "r": {
     "delete_cmd_postfix": ") ",
     "delete_cmd_prefix": "rm(",
     "library": "var_list.r",
     "varRefreshCmd": "cat(var_dic_list()) "
    }
   },
   "types_to_exclude": [
    "module",
    "function",
    "builtin_function_or_method",
    "instance",
    "_Feature"
   ],
   "window_display": false
  }
 },
 "nbformat": 4,
 "nbformat_minor": 2
}